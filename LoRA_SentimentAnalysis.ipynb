{
  "cells": [
    {
      "cell_type": "code",
      "execution_count": 1,
      "metadata": {
        "colab": {
          "base_uri": "https://localhost:8080/"
        },
        "id": "omRPDQPWBhpn",
        "outputId": "6f558dea-54ee-4890-989f-9e36a84f2eda"
      },
      "outputs": [],
      "source": [
        "# %pip install peft\n",
        "# %pip install evaluate"
      ]
    },
    {
      "cell_type": "markdown",
      "metadata": {},
      "source": [
        "# 1. Import libraries and check GPU"
      ]
    },
    {
      "cell_type": "code",
      "execution_count": 2,
      "metadata": {
        "id": "aR0fuI0qcwTt"
      },
      "outputs": [
        {
          "name": "stderr",
          "output_type": "stream",
          "text": [
            "f:\\APPLICATION\\Python\\Python312\\Lib\\site-packages\\transformers\\utils\\generic.py:441: UserWarning: torch.utils._pytree._register_pytree_node is deprecated. Please use torch.utils._pytree.register_pytree_node instead.\n",
            "  _torch_pytree._register_pytree_node(\n",
            "f:\\APPLICATION\\Python\\Python312\\Lib\\site-packages\\transformers\\utils\\generic.py:309: UserWarning: torch.utils._pytree._register_pytree_node is deprecated. Please use torch.utils._pytree.register_pytree_node instead.\n",
            "  _torch_pytree._register_pytree_node(\n",
            "f:\\APPLICATION\\Python\\Python312\\Lib\\site-packages\\transformers\\utils\\generic.py:309: UserWarning: torch.utils._pytree._register_pytree_node is deprecated. Please use torch.utils._pytree.register_pytree_node instead.\n",
            "  _torch_pytree._register_pytree_node(\n"
          ]
        }
      ],
      "source": [
        "import pandas as pd\n",
        "import torch\n",
        "from transformers import AutoTokenizer, RobertaConfig, RobertaForSequenceClassification, Trainer, TrainingArguments, DataCollatorWithPadding\n",
        "from peft import LoraConfig, get_peft_model\n",
        "import numpy as np\n",
        "import evaluate\n",
        "from huggingface_hub import notebook_login"
      ]
    },
    {
      "cell_type": "code",
      "execution_count": 3,
      "metadata": {
        "colab": {
          "base_uri": "https://localhost:8080/"
        },
        "id": "yvN4LJEheSXh",
        "outputId": "23a89c00-8d3e-4425-fd47-aec33bad3461"
      },
      "outputs": [
        {
          "data": {
            "text/plain": [
              "device(type='cuda', index=0)"
            ]
          },
          "execution_count": 3,
          "metadata": {},
          "output_type": "execute_result"
        }
      ],
      "source": [
        "device = torch.device(\"cuda:0\" if torch.cuda.is_available() else \"cpu\")\n",
        "device"
      ]
    },
    {
      "cell_type": "markdown",
      "metadata": {},
      "source": [
        "# 2. Define evaluation metrics"
      ]
    },
    {
      "cell_type": "code",
      "execution_count": 4,
      "metadata": {
        "colab": {
          "base_uri": "https://localhost:8080/",
          "height": 49,
          "referenced_widgets": [
            "5d60d8524fd943099c5b346895cb55ad",
            "781d933e037a48feb88c13473384de34",
            "94831dd6afc549f69b5c7528eae48cd4",
            "9907536478cf45759a517379e409893a",
            "7cecee774f84459b9e118e3277217034",
            "55566df945d84895b617de03381bdb69",
            "a8e275ca5d20454290fb4b227df0d8fa",
            "f83d7cb64cd54cf9b6bf5c601e2fd3fc",
            "c663589e87ba4cfb8ec2318a719f9a34",
            "dd535ed8c74d49aabfb6b30d9104a5ad",
            "8c8612f33d2c491a92ce9a47c9f612fe"
          ]
        },
        "id": "RGi_YzGPl5ZS",
        "outputId": "3a932ad2-0029-47e0-c2d0-d94584909b2a"
      },
      "outputs": [],
      "source": [
        "accuracy = evaluate.load(\"accuracy\")"
      ]
    },
    {
      "cell_type": "code",
      "execution_count": 5,
      "metadata": {
        "id": "PWLdz1TfmbLo"
      },
      "outputs": [],
      "source": [
        "def compute_metrics(p):\n",
        "    predictions, labels = p\n",
        "    predictions = np.argmax(predictions, axis=1)\n",
        "    # print(predictions, \":\", labels)\n",
        "\n",
        "    return accuracy.compute(predictions=predictions, references=labels)"
      ]
    },
    {
      "cell_type": "code",
      "execution_count": 6,
      "metadata": {
        "id": "NoQTSHAfn0BT"
      },
      "outputs": [
        {
          "data": {
            "text/html": [
              "<div>\n",
              "<style scoped>\n",
              "    .dataframe tbody tr th:only-of-type {\n",
              "        vertical-align: middle;\n",
              "    }\n",
              "\n",
              "    .dataframe tbody tr th {\n",
              "        vertical-align: top;\n",
              "    }\n",
              "\n",
              "    .dataframe thead th {\n",
              "        text-align: right;\n",
              "    }\n",
              "</style>\n",
              "<table border=\"1\" class=\"dataframe\">\n",
              "  <thead>\n",
              "    <tr style=\"text-align: right;\">\n",
              "      <th></th>\n",
              "      <th>comment</th>\n",
              "      <th>label</th>\n",
              "    </tr>\n",
              "  </thead>\n",
              "  <tbody>\n",
              "    <tr>\n",
              "      <th>0</th>\n",
              "      <td>Đặt size S giao M.</td>\n",
              "      <td>NEU</td>\n",
              "    </tr>\n",
              "    <tr>\n",
              "      <th>1</th>\n",
              "      <td>Đèn cũ bụi bẩn như hàng đã qua sử dụng.</td>\n",
              "      <td>NEG</td>\n",
              "    </tr>\n",
              "    <tr>\n",
              "      <th>2</th>\n",
              "      <td>Vải đẹp, màu sắc chất liệu y hình.</td>\n",
              "      <td>POS</td>\n",
              "    </tr>\n",
              "    <tr>\n",
              "      <th>3</th>\n",
              "      <td>.</td>\n",
              "      <td>NEU</td>\n",
              "    </tr>\n",
              "    <tr>\n",
              "      <th>4</th>\n",
              "      <td>Bên shopee đơt này bán và phí vận chuyển đắt h...</td>\n",
              "      <td>NEG</td>\n",
              "    </tr>\n",
              "    <tr>\n",
              "      <th>...</th>\n",
              "      <td>...</td>\n",
              "      <td>...</td>\n",
              "    </tr>\n",
              "    <tr>\n",
              "      <th>17995</th>\n",
              "      <td>Màu vàng k giống ảnh, nhưng vải khá đẹp.</td>\n",
              "      <td>NEU</td>\n",
              "    </tr>\n",
              "    <tr>\n",
              "      <th>17996</th>\n",
              "      <td>Hàng y hình.</td>\n",
              "      <td>NEU</td>\n",
              "    </tr>\n",
              "    <tr>\n",
              "      <th>17997</th>\n",
              "      <td>sản phẩm y hình. chất cũng được.</td>\n",
              "      <td>POS</td>\n",
              "    </tr>\n",
              "    <tr>\n",
              "      <th>17998</th>\n",
              "      <td>Nice style but the fabric is too hard and ửink...</td>\n",
              "      <td>NEU</td>\n",
              "    </tr>\n",
              "    <tr>\n",
              "      <th>17999</th>\n",
              "      <td>Sp như hình mỗi tội vải hơi mỏng.</td>\n",
              "      <td>NEU</td>\n",
              "    </tr>\n",
              "  </tbody>\n",
              "</table>\n",
              "<p>18000 rows × 2 columns</p>\n",
              "</div>"
            ],
            "text/plain": [
              "                                                 comment label\n",
              "0                                     Đặt size S giao M.   NEU\n",
              "1                Đèn cũ bụi bẩn như hàng đã qua sử dụng.   NEG\n",
              "2                     Vải đẹp, màu sắc chất liệu y hình.   POS\n",
              "3                                                      .   NEU\n",
              "4      Bên shopee đơt này bán và phí vận chuyển đắt h...   NEG\n",
              "...                                                  ...   ...\n",
              "17995           Màu vàng k giống ảnh, nhưng vải khá đẹp.   NEU\n",
              "17996                                       Hàng y hình.   NEU\n",
              "17997                   sản phẩm y hình. chất cũng được.   POS\n",
              "17998  Nice style but the fabric is too hard and ửink...   NEU\n",
              "17999                  Sp như hình mỗi tội vải hơi mỏng.   NEU\n",
              "\n",
              "[18000 rows x 2 columns]"
            ]
          },
          "execution_count": 6,
          "metadata": {},
          "output_type": "execute_result"
        }
      ],
      "source": [
        "df = pd.read_csv(\"https://docs.google.com/spreadsheets/d/e/2PACX-1vRJVBTys7CQjrbs6jcYDZEsEuMnMoDm0gGdZCX1tTvYxnbydPHNxfdooM4t3DeKGMMQ27HAvwpzFxKH/pub?output=csv\").iloc[:, :2]\n",
        "df"
      ]
    },
    {
      "cell_type": "markdown",
      "metadata": {},
      "source": [
        "# 3. Preprocess dataset"
      ]
    },
    {
      "cell_type": "code",
      "execution_count": 7,
      "metadata": {
        "id": "SCF_Zi96o57Z"
      },
      "outputs": [],
      "source": [
        "def labels_index(string_labels):\n",
        "  if string_labels == 'NEG':\n",
        "    return 0\n",
        "  elif string_labels == 'NEU':\n",
        "    return 1\n",
        "  else:\n",
        "    return 2"
      ]
    },
    {
      "cell_type": "code",
      "execution_count": 8,
      "metadata": {},
      "outputs": [],
      "source": [
        "checkpoint = \"vinai/phobert-base-v2\"\n",
        "tokenizer = AutoTokenizer.from_pretrained(checkpoint)"
      ]
    },
    {
      "cell_type": "code",
      "execution_count": 9,
      "metadata": {},
      "outputs": [
        {
          "name": "stderr",
          "output_type": "stream",
          "text": [
            "Asking to truncate to max_length but no maximum length is provided and the model has no predefined maximum length. Default to no truncation.\n"
          ]
        },
        {
          "name": "stdout",
          "output_type": "stream",
          "text": [
            "{'input_ids': [0, 611, 3683, 207, 18, 2], 'token_type_ids': [0, 0, 0, 0, 0, 0], 'attention_mask': [1, 1, 1, 1, 1, 1]}\n"
          ]
        }
      ],
      "source": [
        "def tokenize(data):\n",
        "  return tokenizer(data, padding='longest', truncation=True)\n",
        "\n",
        "\n",
        "print(tokenize(\"xin chào mọi người\"))"
      ]
    },
    {
      "cell_type": "code",
      "execution_count": 10,
      "metadata": {
        "id": "J0R7oC20pF-7"
      },
      "outputs": [
        {
          "data": {
            "text/html": [
              "<div>\n",
              "<style scoped>\n",
              "    .dataframe tbody tr th:only-of-type {\n",
              "        vertical-align: middle;\n",
              "    }\n",
              "\n",
              "    .dataframe tbody tr th {\n",
              "        vertical-align: top;\n",
              "    }\n",
              "\n",
              "    .dataframe thead th {\n",
              "        text-align: right;\n",
              "    }\n",
              "</style>\n",
              "<table border=\"1\" class=\"dataframe\">\n",
              "  <thead>\n",
              "    <tr style=\"text-align: right;\">\n",
              "      <th></th>\n",
              "      <th>comment</th>\n",
              "      <th>label</th>\n",
              "    </tr>\n",
              "  </thead>\n",
              "  <tbody>\n",
              "    <tr>\n",
              "      <th>0</th>\n",
              "      <td>[[0, 8209, 19275, 2053, 574, 4015, 2], [0, 0, ...</td>\n",
              "      <td>1</td>\n",
              "    </tr>\n",
              "    <tr>\n",
              "      <th>1</th>\n",
              "      <td>[[0, 15451, 633, 2694, 3116, 42, 119, 14, 89, ...</td>\n",
              "      <td>0</td>\n",
              "    </tr>\n",
              "    <tr>\n",
              "      <th>2</th>\n",
              "      <td>[[0, 31385, 56234, 1487, 4, 412, 2104, 567, 19...</td>\n",
              "      <td>2</td>\n",
              "    </tr>\n",
              "    <tr>\n",
              "      <th>3</th>\n",
              "      <td>[[0, 5, 2], [0, 0, 0], [1, 1, 1]]</td>\n",
              "      <td>1</td>\n",
              "    </tr>\n",
              "    <tr>\n",
              "      <th>4</th>\n",
              "      <td>[[0, 559, 12231, 36653, 26202, 1204, 23, 170, ...</td>\n",
              "      <td>0</td>\n",
              "    </tr>\n",
              "    <tr>\n",
              "      <th>...</th>\n",
              "      <td>...</td>\n",
              "      <td>...</td>\n",
              "    </tr>\n",
              "    <tr>\n",
              "      <th>17995</th>\n",
              "      <td>[[0, 6957, 354, 1947, 475, 15250, 2008, 4, 51,...</td>\n",
              "      <td>1</td>\n",
              "    </tr>\n",
              "    <tr>\n",
              "      <th>17996</th>\n",
              "      <td>[[0, 1383, 1231, 50350, 18109, 2], [0, 0, 0, 0...</td>\n",
              "      <td>1</td>\n",
              "    </tr>\n",
              "    <tr>\n",
              "      <th>17997</th>\n",
              "      <td>[[0, 4770, 3884, 1231, 50350, 18109, 567, 32, ...</td>\n",
              "      <td>2</td>\n",
              "    </tr>\n",
              "    <tr>\n",
              "      <th>17998</th>\n",
              "      <td>[[0, 19518, 11303, 30045, 2292, 1866, 3377, 28...</td>\n",
              "      <td>1</td>\n",
              "    </tr>\n",
              "    <tr>\n",
              "      <th>17999</th>\n",
              "      <td>[[0, 870, 2380, 42, 819, 205, 1291, 2914, 1329...</td>\n",
              "      <td>1</td>\n",
              "    </tr>\n",
              "  </tbody>\n",
              "</table>\n",
              "<p>18000 rows × 2 columns</p>\n",
              "</div>"
            ],
            "text/plain": [
              "                                                 comment  label\n",
              "0      [[0, 8209, 19275, 2053, 574, 4015, 2], [0, 0, ...      1\n",
              "1      [[0, 15451, 633, 2694, 3116, 42, 119, 14, 89, ...      0\n",
              "2      [[0, 31385, 56234, 1487, 4, 412, 2104, 567, 19...      2\n",
              "3                      [[0, 5, 2], [0, 0, 0], [1, 1, 1]]      1\n",
              "4      [[0, 559, 12231, 36653, 26202, 1204, 23, 170, ...      0\n",
              "...                                                  ...    ...\n",
              "17995  [[0, 6957, 354, 1947, 475, 15250, 2008, 4, 51,...      1\n",
              "17996  [[0, 1383, 1231, 50350, 18109, 2], [0, 0, 0, 0...      1\n",
              "17997  [[0, 4770, 3884, 1231, 50350, 18109, 567, 32, ...      2\n",
              "17998  [[0, 19518, 11303, 30045, 2292, 1866, 3377, 28...      1\n",
              "17999  [[0, 870, 2380, 42, 819, 205, 1291, 2914, 1329...      1\n",
              "\n",
              "[18000 rows x 2 columns]"
            ]
          },
          "execution_count": 10,
          "metadata": {},
          "output_type": "execute_result"
        }
      ],
      "source": [
        "tokenized_df = pd.DataFrame()\n",
        "tokenized_df['comment'] = df['comment'].map(lambda r: list(tokenize(r).values()))\n",
        "tokenized_df['label'] = df['label'].map(labels_index)\n",
        "tokenized_df"
      ]
    },
    {
      "cell_type": "code",
      "execution_count": 11,
      "metadata": {
        "id": "6xHbFWSSpGlf"
      },
      "outputs": [],
      "source": [
        "length = len(tokenized_df.index)\n",
        "train_dataset = tokenized_df.iloc[:int(length * 80 / 100),:]\n",
        "valid_dataset = tokenized_df.iloc[int(length * 80 / 100):int(length * 90 / 100),:].reset_index()\n",
        "test_dataset = tokenized_df.iloc[int(length * 90 / 100):,:].reset_index()"
      ]
    },
    {
      "cell_type": "code",
      "execution_count": 12,
      "metadata": {
        "id": "dNy3cTjFpL-g"
      },
      "outputs": [],
      "source": [
        "train_loader = []\n",
        "valid_loader = []\n",
        "test_loader = []\n",
        "\n",
        "for i in range(len(train_dataset.index)):\n",
        "  train_comment = torch.tensor([train_dataset['comment'][i]])\n",
        "  train_label = torch.tensor([train_dataset['label'][i]])\n",
        "  train_loader.append({'input_ids': train_comment[0][0], 'attention_mask': train_comment[0][1], 'labels': train_label[0]})\n",
        "\n",
        "for i in range(len(valid_dataset.index)):\n",
        "  valid_comment = torch.tensor([valid_dataset['comment'][i]])\n",
        "  valid_label = torch.tensor([valid_dataset['label'][i]])\n",
        "  valid_loader.append({'input_ids': valid_comment[0][0], 'attention_mask': valid_comment[0][1], 'labels': valid_label[0]})\n",
        "\n",
        "for i in range(len(test_dataset.index)):\n",
        "  test_comment = torch.tensor([test_dataset['comment'][i]])\n",
        "  test_label = torch.tensor([test_dataset['label'][i]])\n",
        "  test_loader.append({'input_ids': test_comment[0][0], 'attention_mask': test_comment[0][1], 'labels': test_label[0]})"
      ]
    },
    {
      "cell_type": "markdown",
      "metadata": {},
      "source": [
        "# 4. Setup LoRA finetuning model"
      ]
    },
    {
      "cell_type": "code",
      "execution_count": 13,
      "metadata": {},
      "outputs": [],
      "source": [
        "id2label = {\n",
        "    0: \"NEG\",\n",
        "    1: \"NEU\",\n",
        "    2: \"POS\"\n",
        "}\n",
        "label2id = {\n",
        "    \"NEG\": 0,\n",
        "    \"NEU\": 1,\n",
        "    \"POS\": 2\n",
        "}"
      ]
    },
    {
      "cell_type": "code",
      "execution_count": 14,
      "metadata": {
        "colab": {
          "base_uri": "https://localhost:8080/",
          "height": 1000,
          "referenced_widgets": [
            "baebbb54c0f04095b7d0fe89d2f9e0fc",
            "c00e0f5b2afa4e5da15056295f28879a",
            "43af5e2c0860458fabc72918dbaefbe0",
            "839dbcaf318044a1a91ff0d141c65618",
            "7b80a3b039da47108ca649279f4f1979",
            "e777ac16f5d04ef3bd6b9a80de49390d",
            "ab8ce04af0d74e0a8a3dc673d8c09ac4",
            "2a2e678a9205480da4b26e80aea8f2fe",
            "f38240d65cd34199b10458f6fec3a561",
            "11fd3b3d22d842508e00a1ff7cbd68f2",
            "4f286c442ea44ecb93c3be7bff526bac",
            "26eb06846b794b3daf0b65f555eb1a04",
            "c62e9a5a18294e119f138ca1dc67bc43",
            "b5df0102b52940ef9990ad766ab38b7f",
            "75e8cc01921f4cc98e346df9fe20d587",
            "7f5ede8f2d444c90a1ae62416e278cbb",
            "f6c540e350e64552bff17ac35c55dd1d",
            "713a8372d14e49418caeca871e41476d",
            "f1e8e0f8381e4b058aed8c3f5c734508",
            "53001c4fceb24b6c8685c8f6457a52df",
            "6bc705ed99ea4033b692f9d95977052e",
            "b43c9360d9774281beaeeecfc89ec00d",
            "1331542b5cbb47a29882535c2b9fb97c",
            "1844b4314d2045949fcbab7e15a309f6",
            "b1067bd7e70246bfb7c566f02a4a01ed",
            "0a16009068af467fa9b376c53075f205",
            "80d04a2779054fd8ab29e4119d334490",
            "7f77336e439640ba8aabe2cfc6a620c1",
            "4fdcbef0dec4466dbd32e3de83c808e6",
            "6fc7a2f283f74be6a52caf97473cd4a4",
            "fbd5a5a708b444b09410813c2ff2a3cd",
            "c33a7c45eb2b40819f319482f829ca16",
            "b724e1c96d484493bf2dcb20d763413b",
            "9d7db848873c4aafa88c1bfcc2e1b021",
            "03bef6afc6e14f03bd3424ec009a6541",
            "d1842bb6b0324c1d905e20e9d78e59a3",
            "674c992b2f0e4885abef04f7abf4daec",
            "1388318749cb4d26afae0907da04b011",
            "1da96539234942cb8b0bcb34003ab812",
            "1870a6a78896411480afc6f022029e2d",
            "7a59cc96e46e44d7a4588161f8586c13",
            "45d4070a7e1a49b68ab2535b83b1f7c4",
            "184c77f61b74420ba90c5759d2d07767",
            "cca6f3f86ea149be8d0160ac1da2701e",
            "63549f5e05f64726b5b2972f7fc111af",
            "5ebcd590768042c4a39cf2b0a66a9a3b",
            "a6caf99f49ce417882b146bab2c5c6fb",
            "057b383852f742acb0d6da467ad84edd",
            "566dad7e052f4227a5717824b208bb84",
            "647dd7bbc8754423a601187b7e7a5643",
            "6d334f0fc26d4845a52c05aef2676f67",
            "d41de0dfb65a47bd8f74a2e6a74a7283",
            "7b930b490c6048208d81048ae1f624ed",
            "0f5d3b26bb6e4a9b872033d57c591307",
            "8590a5b611ba4dbd94fc0a408347998f"
          ]
        },
        "id": "IyrYGnqQBxn1",
        "outputId": "b84556e6-d9ce-4500-e274-1f7b7100aade"
      },
      "outputs": [
        {
          "name": "stderr",
          "output_type": "stream",
          "text": [
            "Some weights of RobertaForSequenceClassification were not initialized from the model checkpoint at vinai/phobert-base-v2 and are newly initialized: ['classifier.dense.weight', 'classifier.dense.bias', 'classifier.out_proj.weight', 'classifier.out_proj.bias']\n",
            "You should probably TRAIN this model on a down-stream task to be able to use it for predictions and inference.\n"
          ]
        },
        {
          "name": "stdout",
          "output_type": "stream",
          "text": [
            "RobertaForSequenceClassification(\n",
            "  (roberta): RobertaModel(\n",
            "    (embeddings): RobertaEmbeddings(\n",
            "      (word_embeddings): Embedding(64001, 768, padding_idx=1)\n",
            "      (position_embeddings): Embedding(258, 768, padding_idx=1)\n",
            "      (token_type_embeddings): Embedding(1, 768)\n",
            "      (LayerNorm): LayerNorm((768,), eps=1e-05, elementwise_affine=True)\n",
            "      (dropout): Dropout(p=0.1, inplace=False)\n",
            "    )\n",
            "    (encoder): RobertaEncoder(\n",
            "      (layer): ModuleList(\n",
            "        (0-11): 12 x RobertaLayer(\n",
            "          (attention): RobertaAttention(\n",
            "            (self): RobertaSelfAttention(\n",
            "              (query): Linear(in_features=768, out_features=768, bias=True)\n",
            "              (key): Linear(in_features=768, out_features=768, bias=True)\n",
            "              (value): Linear(in_features=768, out_features=768, bias=True)\n",
            "              (dropout): Dropout(p=0.1, inplace=False)\n",
            "            )\n",
            "            (output): RobertaSelfOutput(\n",
            "              (dense): Linear(in_features=768, out_features=768, bias=True)\n",
            "              (LayerNorm): LayerNorm((768,), eps=1e-05, elementwise_affine=True)\n",
            "              (dropout): Dropout(p=0.1, inplace=False)\n",
            "            )\n",
            "          )\n",
            "          (intermediate): RobertaIntermediate(\n",
            "            (dense): Linear(in_features=768, out_features=3072, bias=True)\n",
            "            (intermediate_act_fn): GELUActivation()\n",
            "          )\n",
            "          (output): RobertaOutput(\n",
            "            (dense): Linear(in_features=3072, out_features=768, bias=True)\n",
            "            (LayerNorm): LayerNorm((768,), eps=1e-05, elementwise_affine=True)\n",
            "            (dropout): Dropout(p=0.1, inplace=False)\n",
            "          )\n",
            "        )\n",
            "      )\n",
            "    )\n",
            "  )\n",
            "  (classifier): RobertaClassificationHead(\n",
            "    (dense): Linear(in_features=768, out_features=768, bias=True)\n",
            "    (dropout): Dropout(p=0.1, inplace=False)\n",
            "    (out_proj): Linear(in_features=768, out_features=3, bias=True)\n",
            "  )\n",
            ")\n"
          ]
        }
      ],
      "source": [
        "# checkpoint = \"vinai/phobert-base-v2\"\n",
        "num_labels = 3\n",
        "config = RobertaConfig.from_pretrained(checkpoint, num_labels=num_labels, id2label=id2label, label2id=label2id)\n",
        "model = RobertaForSequenceClassification.from_pretrained(checkpoint, config=config).to(device)\n",
        "\n",
        "print(model)"
      ]
    },
    {
      "cell_type": "code",
      "execution_count": 15,
      "metadata": {},
      "outputs": [],
      "source": [
        "# model = AutoModelForSequenceClassification.from_pretrained(\n",
        "#     checkpoint, num_labels=3, id2label=id2label, label2id=label2id\n",
        "# )"
      ]
    },
    {
      "cell_type": "code",
      "execution_count": 16,
      "metadata": {
        "id": "ZsOm350_WeWV"
      },
      "outputs": [],
      "source": [
        "for param in model.parameters():\n",
        "  param.requires_grad = False  # freeze the model - train adapters later"
      ]
    },
    {
      "cell_type": "code",
      "execution_count": 17,
      "metadata": {
        "id": "ir8yxErzhDgO"
      },
      "outputs": [],
      "source": [
        "def print_trainable_parameters(model):\n",
        "    \"\"\"\n",
        "    Prints the number of trainable parameters in the model.\n",
        "    \"\"\"\n",
        "    trainable_params = 0\n",
        "    all_param = 0\n",
        "    for _, param in model.named_parameters():\n",
        "        all_param += param.numel()\n",
        "        if param.requires_grad:\n",
        "            trainable_params += param.numel()\n",
        "    print(\n",
        "        f\"trainable params: {trainable_params} || all params: {all_param} || trainable%: {100 * trainable_params / all_param}\"\n",
        "    )"
      ]
    },
    {
      "cell_type": "code",
      "execution_count": 18,
      "metadata": {
        "colab": {
          "base_uri": "https://localhost:8080/"
        },
        "id": "hvU4SJgbg46L",
        "outputId": "c942144b-27af-4ad4-f9d7-7b453c2bc65b"
      },
      "outputs": [
        {
          "name": "stdout",
          "output_type": "stream",
          "text": [
            "trainable params: 5950467 || all params: 141000198 || trainable%: 4.22018343548709\n"
          ]
        }
      ],
      "source": [
        "target_modules = ['query','key','value','dense']\n",
        "config = LoraConfig(\n",
        "    r=32,\n",
        "    lora_alpha=64,\n",
        "    target_modules=target_modules,\n",
        "    lora_dropout=0.1,\n",
        "    bias=\"none\",\n",
        "    task_type=\"SEQ_CLS\"\n",
        ")\n",
        "\n",
        "model_lora = get_peft_model(model, config).to(device)\n",
        "print_trainable_parameters(model_lora)"
      ]
    },
    {
      "cell_type": "code",
      "execution_count": 19,
      "metadata": {
        "id": "EDKqSBiAbTsm"
      },
      "outputs": [],
      "source": [
        "num_epoch = 8\n",
        "batch_size = 16\n",
        "learning_rate = 1e-5"
      ]
    },
    {
      "cell_type": "code",
      "execution_count": 20,
      "metadata": {},
      "outputs": [],
      "source": [
        "training_args = TrainingArguments(\n",
        "    evaluation_strategy=\"steps\",\n",
        "    learning_rate=learning_rate,\n",
        "    per_device_train_batch_size=batch_size,\n",
        "    per_device_eval_batch_size=batch_size,\n",
        "    weight_decay=0,\n",
        "    save_total_limit=10,\n",
        "    num_train_epochs=num_epoch,\n",
        "    fp16=False,\n",
        "    push_to_hub=False,\n",
        "    logging_steps=100,\n",
        "    logging_first_step=True,\n",
        "    logging_dir=\"logging/fa-sentiment-finetuned\",\n",
        "    eval_steps=100,\n",
        "    resume_from_checkpoint = \"checkpoint\",\n",
        "    output_dir = \"checkpoint\",\n",
        "    load_best_model_at_end = True,\n",
        "    save_steps = 100\n",
        ")"
      ]
    },
    {
      "cell_type": "code",
      "execution_count": 21,
      "metadata": {
        "id": "dZlP9O1Bpx7x"
      },
      "outputs": [
        {
          "name": "stderr",
          "output_type": "stream",
          "text": [
            "f:\\APPLICATION\\Python\\Python312\\Lib\\site-packages\\accelerate\\accelerator.py:432: FutureWarning: Passing the following arguments to `Accelerator` is deprecated and will be removed in version 1.0 of Accelerate: dict_keys(['dispatch_batches', 'split_batches']). Please pass an `accelerate.DataLoaderConfiguration` instead: \n",
            "dataloader_config = DataLoaderConfiguration(dispatch_batches=None, split_batches=False)\n",
            "  warnings.warn(\n"
          ]
        }
      ],
      "source": [
        "trainer = Trainer(\n",
        "    model=model_lora,\n",
        "    train_dataset=train_loader,\n",
        "    eval_dataset=valid_loader,\n",
        "    args=training_args,\n",
        "    compute_metrics=compute_metrics,\n",
        "    data_collator=DataCollatorWithPadding(tokenizer)\n",
        ")\n",
        "model_lora.config.use_cache = False  # silence the warnings. Please re-enable for inference!"
      ]
    },
    {
      "cell_type": "markdown",
      "metadata": {},
      "source": [
        "# 5. Train and evaluate"
      ]
    },
    {
      "cell_type": "code",
      "execution_count": 22,
      "metadata": {
        "id": "wxfpsN-Ebgmu"
      },
      "outputs": [
        {
          "data": {
            "application/vnd.jupyter.widget-view+json": {
              "model_id": "fe358d1e51f94e38a9bec428eaf9705a",
              "version_major": 2,
              "version_minor": 0
            },
            "text/plain": [
              "  0%|          | 0/7200 [00:00<?, ?it/s]"
            ]
          },
          "metadata": {},
          "output_type": "display_data"
        },
        {
          "name": "stdout",
          "output_type": "stream",
          "text": [
            "{'loss': 1.1187, 'learning_rate': 9.998611111111112e-06, 'epoch': 0.0}\n",
            "{'loss': 1.0958, 'learning_rate': 9.861111111111112e-06, 'epoch': 0.11}\n"
          ]
        },
        {
          "data": {
            "application/vnd.jupyter.widget-view+json": {
              "model_id": "85f06f0c2dd44996aa20b88aa3a3831d",
              "version_major": 2,
              "version_minor": 0
            },
            "text/plain": [
              "  0%|          | 0/113 [00:00<?, ?it/s]"
            ]
          },
          "metadata": {},
          "output_type": "display_data"
        },
        {
          "name": "stdout",
          "output_type": "stream",
          "text": [
            "{'eval_loss': 1.0813390016555786, 'eval_accuracy': 0.42444444444444446, 'eval_runtime': 3.2425, 'eval_samples_per_second': 555.133, 'eval_steps_per_second': 34.85, 'epoch': 0.11}\n",
            "{'loss': 1.0801, 'learning_rate': 9.722222222222223e-06, 'epoch': 0.22}\n"
          ]
        },
        {
          "data": {
            "application/vnd.jupyter.widget-view+json": {
              "model_id": "075cd646540246a58a7e51d43d8a80d1",
              "version_major": 2,
              "version_minor": 0
            },
            "text/plain": [
              "  0%|          | 0/113 [00:00<?, ?it/s]"
            ]
          },
          "metadata": {},
          "output_type": "display_data"
        },
        {
          "name": "stdout",
          "output_type": "stream",
          "text": [
            "{'eval_loss': 1.0771443843841553, 'eval_accuracy': 0.38222222222222224, 'eval_runtime': 3.3287, 'eval_samples_per_second': 540.747, 'eval_steps_per_second': 33.947, 'epoch': 0.22}\n",
            "{'loss': 1.0857, 'learning_rate': 9.583333333333335e-06, 'epoch': 0.33}\n"
          ]
        },
        {
          "data": {
            "application/vnd.jupyter.widget-view+json": {
              "model_id": "774aa41acd22410bb3c03e648c42127f",
              "version_major": 2,
              "version_minor": 0
            },
            "text/plain": [
              "  0%|          | 0/113 [00:00<?, ?it/s]"
            ]
          },
          "metadata": {},
          "output_type": "display_data"
        },
        {
          "name": "stdout",
          "output_type": "stream",
          "text": [
            "{'eval_loss': 1.0721728801727295, 'eval_accuracy': 0.44055555555555553, 'eval_runtime': 3.2709, 'eval_samples_per_second': 550.309, 'eval_steps_per_second': 34.547, 'epoch': 0.33}\n",
            "{'loss': 1.0804, 'learning_rate': 9.444444444444445e-06, 'epoch': 0.44}\n"
          ]
        },
        {
          "data": {
            "application/vnd.jupyter.widget-view+json": {
              "model_id": "87295f7ccb80404391ee4864c3cb2ce5",
              "version_major": 2,
              "version_minor": 0
            },
            "text/plain": [
              "  0%|          | 0/113 [00:00<?, ?it/s]"
            ]
          },
          "metadata": {},
          "output_type": "display_data"
        },
        {
          "name": "stdout",
          "output_type": "stream",
          "text": [
            "{'eval_loss': 1.0725828409194946, 'eval_accuracy': 0.3983333333333333, 'eval_runtime': 3.3047, 'eval_samples_per_second': 544.678, 'eval_steps_per_second': 34.194, 'epoch': 0.44}\n",
            "{'loss': 1.0783, 'learning_rate': 9.305555555555557e-06, 'epoch': 0.56}\n"
          ]
        },
        {
          "data": {
            "application/vnd.jupyter.widget-view+json": {
              "model_id": "e1bad6a8ff204162bd27be4cae803dfe",
              "version_major": 2,
              "version_minor": 0
            },
            "text/plain": [
              "  0%|          | 0/113 [00:00<?, ?it/s]"
            ]
          },
          "metadata": {},
          "output_type": "display_data"
        },
        {
          "name": "stdout",
          "output_type": "stream",
          "text": [
            "{'eval_loss': 1.0696725845336914, 'eval_accuracy': 0.4388888888888889, 'eval_runtime': 3.2776, 'eval_samples_per_second': 549.183, 'eval_steps_per_second': 34.476, 'epoch': 0.56}\n",
            "{'loss': 1.0717, 'learning_rate': 9.166666666666666e-06, 'epoch': 0.67}\n"
          ]
        },
        {
          "data": {
            "application/vnd.jupyter.widget-view+json": {
              "model_id": "1033e846ceb24734a3c93375dea1c9ed",
              "version_major": 2,
              "version_minor": 0
            },
            "text/plain": [
              "  0%|          | 0/113 [00:00<?, ?it/s]"
            ]
          },
          "metadata": {},
          "output_type": "display_data"
        },
        {
          "name": "stdout",
          "output_type": "stream",
          "text": [
            "{'eval_loss': 1.0615912675857544, 'eval_accuracy': 0.4444444444444444, 'eval_runtime': 3.2925, 'eval_samples_per_second': 546.705, 'eval_steps_per_second': 34.321, 'epoch': 0.67}\n",
            "{'loss': 1.0723, 'learning_rate': 9.027777777777779e-06, 'epoch': 0.78}\n"
          ]
        },
        {
          "data": {
            "application/vnd.jupyter.widget-view+json": {
              "model_id": "921223e0342e4778b33965fcd4706654",
              "version_major": 2,
              "version_minor": 0
            },
            "text/plain": [
              "  0%|          | 0/113 [00:00<?, ?it/s]"
            ]
          },
          "metadata": {},
          "output_type": "display_data"
        },
        {
          "name": "stdout",
          "output_type": "stream",
          "text": [
            "{'eval_loss': 1.0514765977859497, 'eval_accuracy': 0.46, 'eval_runtime': 3.3191, 'eval_samples_per_second': 542.314, 'eval_steps_per_second': 34.045, 'epoch': 0.78}\n",
            "{'loss': 1.0619, 'learning_rate': 8.888888888888888e-06, 'epoch': 0.89}\n"
          ]
        },
        {
          "data": {
            "application/vnd.jupyter.widget-view+json": {
              "model_id": "f38054bcff9a401d81afafd82f03afbd",
              "version_major": 2,
              "version_minor": 0
            },
            "text/plain": [
              "  0%|          | 0/113 [00:00<?, ?it/s]"
            ]
          },
          "metadata": {},
          "output_type": "display_data"
        },
        {
          "name": "stdout",
          "output_type": "stream",
          "text": [
            "{'eval_loss': 1.0435746908187866, 'eval_accuracy': 0.47055555555555556, 'eval_runtime': 4.8409, 'eval_samples_per_second': 371.828, 'eval_steps_per_second': 23.343, 'epoch': 0.89}\n",
            "{'loss': 1.0601, 'learning_rate': 8.750000000000001e-06, 'epoch': 1.0}\n"
          ]
        },
        {
          "data": {
            "application/vnd.jupyter.widget-view+json": {
              "model_id": "978904412aa74aa580e55a4eb701cf32",
              "version_major": 2,
              "version_minor": 0
            },
            "text/plain": [
              "  0%|          | 0/113 [00:00<?, ?it/s]"
            ]
          },
          "metadata": {},
          "output_type": "display_data"
        },
        {
          "name": "stdout",
          "output_type": "stream",
          "text": [
            "{'eval_loss': 1.034415364265442, 'eval_accuracy': 0.4816666666666667, 'eval_runtime': 4.7179, 'eval_samples_per_second': 381.526, 'eval_steps_per_second': 23.951, 'epoch': 1.0}\n",
            "{'loss': 1.0431, 'learning_rate': 8.611111111111112e-06, 'epoch': 1.11}\n"
          ]
        },
        {
          "data": {
            "application/vnd.jupyter.widget-view+json": {
              "model_id": "7baec3958c5543ff813f63483066b9fa",
              "version_major": 2,
              "version_minor": 0
            },
            "text/plain": [
              "  0%|          | 0/113 [00:00<?, ?it/s]"
            ]
          },
          "metadata": {},
          "output_type": "display_data"
        },
        {
          "name": "stdout",
          "output_type": "stream",
          "text": [
            "{'eval_loss': 1.0270576477050781, 'eval_accuracy': 0.4938888888888889, 'eval_runtime': 4.8349, 'eval_samples_per_second': 372.291, 'eval_steps_per_second': 23.372, 'epoch': 1.11}\n",
            "{'loss': 1.0421, 'learning_rate': 8.472222222222223e-06, 'epoch': 1.22}\n"
          ]
        },
        {
          "data": {
            "application/vnd.jupyter.widget-view+json": {
              "model_id": "17bd3fd61ef841ef812fdf05333143bd",
              "version_major": 2,
              "version_minor": 0
            },
            "text/plain": [
              "  0%|          | 0/113 [00:00<?, ?it/s]"
            ]
          },
          "metadata": {},
          "output_type": "display_data"
        },
        {
          "name": "stdout",
          "output_type": "stream",
          "text": [
            "{'eval_loss': 1.022560477256775, 'eval_accuracy': 0.48055555555555557, 'eval_runtime': 4.7959, 'eval_samples_per_second': 375.319, 'eval_steps_per_second': 23.562, 'epoch': 1.22}\n",
            "{'loss': 1.032, 'learning_rate': 8.333333333333334e-06, 'epoch': 1.33}\n"
          ]
        },
        {
          "data": {
            "application/vnd.jupyter.widget-view+json": {
              "model_id": "90fa2448492d41828fd16c71457916c8",
              "version_major": 2,
              "version_minor": 0
            },
            "text/plain": [
              "  0%|          | 0/113 [00:00<?, ?it/s]"
            ]
          },
          "metadata": {},
          "output_type": "display_data"
        },
        {
          "name": "stdout",
          "output_type": "stream",
          "text": [
            "{'eval_loss': 1.0058163404464722, 'eval_accuracy': 0.4955555555555556, 'eval_runtime': 4.822, 'eval_samples_per_second': 373.29, 'eval_steps_per_second': 23.434, 'epoch': 1.33}\n",
            "{'loss': 1.0268, 'learning_rate': 8.194444444444445e-06, 'epoch': 1.44}\n"
          ]
        },
        {
          "data": {
            "application/vnd.jupyter.widget-view+json": {
              "model_id": "b486e649e9144c6abfd0444ad8e69131",
              "version_major": 2,
              "version_minor": 0
            },
            "text/plain": [
              "  0%|          | 0/113 [00:00<?, ?it/s]"
            ]
          },
          "metadata": {},
          "output_type": "display_data"
        },
        {
          "name": "stdout",
          "output_type": "stream",
          "text": [
            "{'eval_loss': 0.9918472170829773, 'eval_accuracy': 0.5161111111111111, 'eval_runtime': 4.7953, 'eval_samples_per_second': 375.366, 'eval_steps_per_second': 23.565, 'epoch': 1.44}\n",
            "{'loss': 1.0227, 'learning_rate': 8.055555555555557e-06, 'epoch': 1.56}\n"
          ]
        },
        {
          "data": {
            "application/vnd.jupyter.widget-view+json": {
              "model_id": "877790c34fef4afcaa2b90e2df8b9fca",
              "version_major": 2,
              "version_minor": 0
            },
            "text/plain": [
              "  0%|          | 0/113 [00:00<?, ?it/s]"
            ]
          },
          "metadata": {},
          "output_type": "display_data"
        },
        {
          "name": "stdout",
          "output_type": "stream",
          "text": [
            "{'eval_loss': 0.9850278496742249, 'eval_accuracy': 0.5188888888888888, 'eval_runtime': 4.8568, 'eval_samples_per_second': 370.616, 'eval_steps_per_second': 23.266, 'epoch': 1.56}\n",
            "{'loss': 1.0168, 'learning_rate': 7.916666666666667e-06, 'epoch': 1.67}\n"
          ]
        },
        {
          "data": {
            "application/vnd.jupyter.widget-view+json": {
              "model_id": "3b6f95a19e1f44c58716265cb9962063",
              "version_major": 2,
              "version_minor": 0
            },
            "text/plain": [
              "  0%|          | 0/113 [00:00<?, ?it/s]"
            ]
          },
          "metadata": {},
          "output_type": "display_data"
        },
        {
          "name": "stdout",
          "output_type": "stream",
          "text": [
            "{'eval_loss': 0.9878125786781311, 'eval_accuracy': 0.51, 'eval_runtime': 4.8603, 'eval_samples_per_second': 370.351, 'eval_steps_per_second': 23.25, 'epoch': 1.67}\n",
            "{'loss': 0.9948, 'learning_rate': 7.77777777777778e-06, 'epoch': 1.78}\n"
          ]
        },
        {
          "data": {
            "application/vnd.jupyter.widget-view+json": {
              "model_id": "2f1566e92516455687c3a35c89a4f9aa",
              "version_major": 2,
              "version_minor": 0
            },
            "text/plain": [
              "  0%|          | 0/113 [00:00<?, ?it/s]"
            ]
          },
          "metadata": {},
          "output_type": "display_data"
        },
        {
          "name": "stdout",
          "output_type": "stream",
          "text": [
            "{'eval_loss': 0.981930136680603, 'eval_accuracy': 0.5122222222222222, 'eval_runtime': 4.7347, 'eval_samples_per_second': 380.172, 'eval_steps_per_second': 23.866, 'epoch': 1.78}\n",
            "{'loss': 0.9953, 'learning_rate': 7.638888888888888e-06, 'epoch': 1.89}\n"
          ]
        },
        {
          "data": {
            "application/vnd.jupyter.widget-view+json": {
              "model_id": "eb01a1fb9df94e8fb22a845b2084158a",
              "version_major": 2,
              "version_minor": 0
            },
            "text/plain": [
              "  0%|          | 0/113 [00:00<?, ?it/s]"
            ]
          },
          "metadata": {},
          "output_type": "display_data"
        },
        {
          "name": "stdout",
          "output_type": "stream",
          "text": [
            "{'eval_loss': 0.9758143424987793, 'eval_accuracy': 0.5077777777777778, 'eval_runtime': 4.756, 'eval_samples_per_second': 378.473, 'eval_steps_per_second': 23.76, 'epoch': 1.89}\n",
            "{'loss': 0.997, 'learning_rate': 7.500000000000001e-06, 'epoch': 2.0}\n"
          ]
        },
        {
          "data": {
            "application/vnd.jupyter.widget-view+json": {
              "model_id": "fd075c4f79784d598ff3d1f8b909c50e",
              "version_major": 2,
              "version_minor": 0
            },
            "text/plain": [
              "  0%|          | 0/113 [00:00<?, ?it/s]"
            ]
          },
          "metadata": {},
          "output_type": "display_data"
        },
        {
          "name": "stdout",
          "output_type": "stream",
          "text": [
            "{'eval_loss': 0.9709857702255249, 'eval_accuracy': 0.505, 'eval_runtime': 4.7068, 'eval_samples_per_second': 382.428, 'eval_steps_per_second': 24.008, 'epoch': 2.0}\n",
            "{'loss': 0.9896, 'learning_rate': 7.361111111111112e-06, 'epoch': 2.11}\n"
          ]
        },
        {
          "data": {
            "application/vnd.jupyter.widget-view+json": {
              "model_id": "49de583a355543819a2a0217820dab51",
              "version_major": 2,
              "version_minor": 0
            },
            "text/plain": [
              "  0%|          | 0/113 [00:00<?, ?it/s]"
            ]
          },
          "metadata": {},
          "output_type": "display_data"
        },
        {
          "name": "stdout",
          "output_type": "stream",
          "text": [
            "{'eval_loss': 0.9735509157180786, 'eval_accuracy': 0.5061111111111111, 'eval_runtime': 4.8031, 'eval_samples_per_second': 374.758, 'eval_steps_per_second': 23.526, 'epoch': 2.11}\n",
            "{'loss': 1.0093, 'learning_rate': 7.222222222222223e-06, 'epoch': 2.22}\n"
          ]
        },
        {
          "data": {
            "application/vnd.jupyter.widget-view+json": {
              "model_id": "c1e25881f04747bca2d099a01fa07a3e",
              "version_major": 2,
              "version_minor": 0
            },
            "text/plain": [
              "  0%|          | 0/113 [00:00<?, ?it/s]"
            ]
          },
          "metadata": {},
          "output_type": "display_data"
        },
        {
          "name": "stdout",
          "output_type": "stream",
          "text": [
            "{'eval_loss': 0.9804809093475342, 'eval_accuracy': 0.49722222222222223, 'eval_runtime': 4.7767, 'eval_samples_per_second': 376.83, 'eval_steps_per_second': 23.657, 'epoch': 2.22}\n",
            "{'loss': 0.982, 'learning_rate': 7.083333333333335e-06, 'epoch': 2.33}\n"
          ]
        },
        {
          "data": {
            "application/vnd.jupyter.widget-view+json": {
              "model_id": "598070618c3e4c218c8cb783fc5ae547",
              "version_major": 2,
              "version_minor": 0
            },
            "text/plain": [
              "  0%|          | 0/113 [00:00<?, ?it/s]"
            ]
          },
          "metadata": {},
          "output_type": "display_data"
        },
        {
          "name": "stdout",
          "output_type": "stream",
          "text": [
            "{'eval_loss': 0.9637467861175537, 'eval_accuracy': 0.5238888888888888, 'eval_runtime': 5.006, 'eval_samples_per_second': 359.565, 'eval_steps_per_second': 22.573, 'epoch': 2.33}\n",
            "{'loss': 0.9856, 'learning_rate': 6.944444444444445e-06, 'epoch': 2.44}\n"
          ]
        },
        {
          "data": {
            "application/vnd.jupyter.widget-view+json": {
              "model_id": "0e0f2ad6f3954485a9305f3b66902f01",
              "version_major": 2,
              "version_minor": 0
            },
            "text/plain": [
              "  0%|          | 0/113 [00:00<?, ?it/s]"
            ]
          },
          "metadata": {},
          "output_type": "display_data"
        },
        {
          "name": "stdout",
          "output_type": "stream",
          "text": [
            "{'eval_loss': 0.9652319550514221, 'eval_accuracy': 0.5061111111111111, 'eval_runtime': 4.1441, 'eval_samples_per_second': 434.355, 'eval_steps_per_second': 27.268, 'epoch': 2.44}\n",
            "{'loss': 0.9704, 'learning_rate': 6.8055555555555566e-06, 'epoch': 2.56}\n"
          ]
        },
        {
          "data": {
            "application/vnd.jupyter.widget-view+json": {
              "model_id": "b10dcf393a80463ca8e81e6b0c1b3990",
              "version_major": 2,
              "version_minor": 0
            },
            "text/plain": [
              "  0%|          | 0/113 [00:00<?, ?it/s]"
            ]
          },
          "metadata": {},
          "output_type": "display_data"
        },
        {
          "name": "stdout",
          "output_type": "stream",
          "text": [
            "{'eval_loss': 0.9675703644752502, 'eval_accuracy': 0.4988888888888889, 'eval_runtime': 5.0075, 'eval_samples_per_second': 359.464, 'eval_steps_per_second': 22.566, 'epoch': 2.56}\n",
            "{'loss': 0.9861, 'learning_rate': 6.666666666666667e-06, 'epoch': 2.67}\n"
          ]
        },
        {
          "data": {
            "application/vnd.jupyter.widget-view+json": {
              "model_id": "b62acd6c4d664c26a16b443ef8881099",
              "version_major": 2,
              "version_minor": 0
            },
            "text/plain": [
              "  0%|          | 0/113 [00:00<?, ?it/s]"
            ]
          },
          "metadata": {},
          "output_type": "display_data"
        },
        {
          "name": "stdout",
          "output_type": "stream",
          "text": [
            "{'eval_loss': 0.9634056091308594, 'eval_accuracy': 0.5294444444444445, 'eval_runtime': 4.6963, 'eval_samples_per_second': 383.278, 'eval_steps_per_second': 24.061, 'epoch': 2.67}\n",
            "{'loss': 0.9786, 'learning_rate': 6.5277777777777784e-06, 'epoch': 2.78}\n"
          ]
        },
        {
          "data": {
            "application/vnd.jupyter.widget-view+json": {
              "model_id": "fedc5dc6777941369f38c3aac71fbe8d",
              "version_major": 2,
              "version_minor": 0
            },
            "text/plain": [
              "  0%|          | 0/113 [00:00<?, ?it/s]"
            ]
          },
          "metadata": {},
          "output_type": "display_data"
        },
        {
          "name": "stdout",
          "output_type": "stream",
          "text": [
            "{'eval_loss': 0.9600571990013123, 'eval_accuracy': 0.5316666666666666, 'eval_runtime': 3.362, 'eval_samples_per_second': 535.398, 'eval_steps_per_second': 33.611, 'epoch': 2.78}\n",
            "{'loss': 0.9896, 'learning_rate': 6.3888888888888885e-06, 'epoch': 2.89}\n"
          ]
        },
        {
          "data": {
            "application/vnd.jupyter.widget-view+json": {
              "model_id": "4813dae3d6ca451dae3c1a5267131bda",
              "version_major": 2,
              "version_minor": 0
            },
            "text/plain": [
              "  0%|          | 0/113 [00:00<?, ?it/s]"
            ]
          },
          "metadata": {},
          "output_type": "display_data"
        },
        {
          "name": "stdout",
          "output_type": "stream",
          "text": [
            "{'eval_loss': 0.9434539079666138, 'eval_accuracy': 0.5461111111111111, 'eval_runtime': 4.3377, 'eval_samples_per_second': 414.967, 'eval_steps_per_second': 26.051, 'epoch': 2.89}\n",
            "{'loss': 0.9819, 'learning_rate': 6.25e-06, 'epoch': 3.0}\n"
          ]
        },
        {
          "data": {
            "application/vnd.jupyter.widget-view+json": {
              "model_id": "fc90651538014feebb33485236e384de",
              "version_major": 2,
              "version_minor": 0
            },
            "text/plain": [
              "  0%|          | 0/113 [00:00<?, ?it/s]"
            ]
          },
          "metadata": {},
          "output_type": "display_data"
        },
        {
          "name": "stdout",
          "output_type": "stream",
          "text": [
            "{'eval_loss': 0.9426733255386353, 'eval_accuracy': 0.5411111111111111, 'eval_runtime': 4.3095, 'eval_samples_per_second': 417.68, 'eval_steps_per_second': 26.221, 'epoch': 3.0}\n",
            "{'loss': 0.9686, 'learning_rate': 6.111111111111112e-06, 'epoch': 3.11}\n"
          ]
        },
        {
          "data": {
            "application/vnd.jupyter.widget-view+json": {
              "model_id": "38e121b30f334cdc90593cf331e1a885",
              "version_major": 2,
              "version_minor": 0
            },
            "text/plain": [
              "  0%|          | 0/113 [00:00<?, ?it/s]"
            ]
          },
          "metadata": {},
          "output_type": "display_data"
        },
        {
          "name": "stdout",
          "output_type": "stream",
          "text": [
            "{'eval_loss': 0.9441044330596924, 'eval_accuracy': 0.5444444444444444, 'eval_runtime': 5.1019, 'eval_samples_per_second': 352.811, 'eval_steps_per_second': 22.149, 'epoch': 3.11}\n",
            "{'loss': 0.9543, 'learning_rate': 5.972222222222222e-06, 'epoch': 3.22}\n"
          ]
        },
        {
          "data": {
            "application/vnd.jupyter.widget-view+json": {
              "model_id": "3eed2c17cfb54b81b20f3c98e0f198ce",
              "version_major": 2,
              "version_minor": 0
            },
            "text/plain": [
              "  0%|          | 0/113 [00:00<?, ?it/s]"
            ]
          },
          "metadata": {},
          "output_type": "display_data"
        },
        {
          "name": "stdout",
          "output_type": "stream",
          "text": [
            "{'eval_loss': 0.9450057148933411, 'eval_accuracy': 0.5316666666666666, 'eval_runtime': 4.4708, 'eval_samples_per_second': 402.608, 'eval_steps_per_second': 25.275, 'epoch': 3.22}\n",
            "{'loss': 0.9869, 'learning_rate': 5.833333333333334e-06, 'epoch': 3.33}\n"
          ]
        },
        {
          "data": {
            "application/vnd.jupyter.widget-view+json": {
              "model_id": "33e76cac2f1c4343898314fb617735c0",
              "version_major": 2,
              "version_minor": 0
            },
            "text/plain": [
              "  0%|          | 0/113 [00:00<?, ?it/s]"
            ]
          },
          "metadata": {},
          "output_type": "display_data"
        },
        {
          "name": "stdout",
          "output_type": "stream",
          "text": [
            "{'eval_loss': 0.9438819289207458, 'eval_accuracy': 0.5416666666666666, 'eval_runtime': 4.321, 'eval_samples_per_second': 416.566, 'eval_steps_per_second': 26.151, 'epoch': 3.33}\n",
            "{'loss': 0.9704, 'learning_rate': 5.694444444444445e-06, 'epoch': 3.44}\n"
          ]
        },
        {
          "data": {
            "application/vnd.jupyter.widget-view+json": {
              "model_id": "98ad35ab2175400ca9f5a9250a074ae6",
              "version_major": 2,
              "version_minor": 0
            },
            "text/plain": [
              "  0%|          | 0/113 [00:00<?, ?it/s]"
            ]
          },
          "metadata": {},
          "output_type": "display_data"
        },
        {
          "name": "stdout",
          "output_type": "stream",
          "text": [
            "{'eval_loss': 0.9407364726066589, 'eval_accuracy': 0.5494444444444444, 'eval_runtime': 4.3673, 'eval_samples_per_second': 412.152, 'eval_steps_per_second': 25.874, 'epoch': 3.44}\n",
            "{'loss': 0.9587, 'learning_rate': 5.555555555555557e-06, 'epoch': 3.56}\n"
          ]
        },
        {
          "data": {
            "application/vnd.jupyter.widget-view+json": {
              "model_id": "bff9b43d9ed9423d86e45189f8df6920",
              "version_major": 2,
              "version_minor": 0
            },
            "text/plain": [
              "  0%|          | 0/113 [00:00<?, ?it/s]"
            ]
          },
          "metadata": {},
          "output_type": "display_data"
        },
        {
          "name": "stdout",
          "output_type": "stream",
          "text": [
            "{'eval_loss': 0.9495224356651306, 'eval_accuracy': 0.5333333333333333, 'eval_runtime': 4.3851, 'eval_samples_per_second': 410.481, 'eval_steps_per_second': 25.769, 'epoch': 3.56}\n",
            "{'loss': 0.967, 'learning_rate': 5.416666666666667e-06, 'epoch': 3.67}\n"
          ]
        },
        {
          "data": {
            "application/vnd.jupyter.widget-view+json": {
              "model_id": "c2b4bc9c3d754a72b6a1829114aca8f1",
              "version_major": 2,
              "version_minor": 0
            },
            "text/plain": [
              "  0%|          | 0/113 [00:00<?, ?it/s]"
            ]
          },
          "metadata": {},
          "output_type": "display_data"
        },
        {
          "name": "stdout",
          "output_type": "stream",
          "text": [
            "{'eval_loss': 0.9413045048713684, 'eval_accuracy': 0.5388888888888889, 'eval_runtime': 4.3436, 'eval_samples_per_second': 414.398, 'eval_steps_per_second': 26.015, 'epoch': 3.67}\n",
            "{'loss': 0.9451, 'learning_rate': 5.2777777777777785e-06, 'epoch': 3.78}\n"
          ]
        },
        {
          "data": {
            "application/vnd.jupyter.widget-view+json": {
              "model_id": "61a7b698068c4aaa922e633edd9f677e",
              "version_major": 2,
              "version_minor": 0
            },
            "text/plain": [
              "  0%|          | 0/113 [00:00<?, ?it/s]"
            ]
          },
          "metadata": {},
          "output_type": "display_data"
        },
        {
          "name": "stdout",
          "output_type": "stream",
          "text": [
            "{'eval_loss': 0.9494953155517578, 'eval_accuracy': 0.5344444444444445, 'eval_runtime': 3.4642, 'eval_samples_per_second': 519.601, 'eval_steps_per_second': 32.619, 'epoch': 3.78}\n",
            "{'loss': 0.9517, 'learning_rate': 5.138888888888889e-06, 'epoch': 3.89}\n"
          ]
        },
        {
          "data": {
            "application/vnd.jupyter.widget-view+json": {
              "model_id": "611a50192989488581b2d7ada47f269a",
              "version_major": 2,
              "version_minor": 0
            },
            "text/plain": [
              "  0%|          | 0/113 [00:00<?, ?it/s]"
            ]
          },
          "metadata": {},
          "output_type": "display_data"
        },
        {
          "name": "stdout",
          "output_type": "stream",
          "text": [
            "{'eval_loss': 0.9383183717727661, 'eval_accuracy': 0.5572222222222222, 'eval_runtime': 3.9464, 'eval_samples_per_second': 456.116, 'eval_steps_per_second': 28.634, 'epoch': 3.89}\n",
            "{'loss': 0.9569, 'learning_rate': 5e-06, 'epoch': 4.0}\n"
          ]
        },
        {
          "data": {
            "application/vnd.jupyter.widget-view+json": {
              "model_id": "faf5e3f14694404f9b5efeb960d822e2",
              "version_major": 2,
              "version_minor": 0
            },
            "text/plain": [
              "  0%|          | 0/113 [00:00<?, ?it/s]"
            ]
          },
          "metadata": {},
          "output_type": "display_data"
        },
        {
          "name": "stdout",
          "output_type": "stream",
          "text": [
            "{'eval_loss': 0.96162348985672, 'eval_accuracy': 0.5438888888888889, 'eval_runtime': 4.7833, 'eval_samples_per_second': 376.306, 'eval_steps_per_second': 23.624, 'epoch': 4.0}\n",
            "{'loss': 0.9615, 'learning_rate': 4.861111111111111e-06, 'epoch': 4.11}\n"
          ]
        },
        {
          "data": {
            "application/vnd.jupyter.widget-view+json": {
              "model_id": "394f038e155849e587f56828db11db3d",
              "version_major": 2,
              "version_minor": 0
            },
            "text/plain": [
              "  0%|          | 0/113 [00:00<?, ?it/s]"
            ]
          },
          "metadata": {},
          "output_type": "display_data"
        },
        {
          "name": "stdout",
          "output_type": "stream",
          "text": [
            "{'eval_loss': 0.9530304670333862, 'eval_accuracy': 0.5327777777777778, 'eval_runtime': 4.7521, 'eval_samples_per_second': 378.783, 'eval_steps_per_second': 23.779, 'epoch': 4.11}\n",
            "{'loss': 0.9908, 'learning_rate': 4.722222222222222e-06, 'epoch': 4.22}\n"
          ]
        },
        {
          "data": {
            "application/vnd.jupyter.widget-view+json": {
              "model_id": "c55f7869009f44fa98a9e2f974f91367",
              "version_major": 2,
              "version_minor": 0
            },
            "text/plain": [
              "  0%|          | 0/113 [00:00<?, ?it/s]"
            ]
          },
          "metadata": {},
          "output_type": "display_data"
        },
        {
          "name": "stdout",
          "output_type": "stream",
          "text": [
            "{'eval_loss': 0.9481121301651001, 'eval_accuracy': 0.5316666666666666, 'eval_runtime': 4.7082, 'eval_samples_per_second': 382.312, 'eval_steps_per_second': 24.001, 'epoch': 4.22}\n",
            "{'loss': 0.9826, 'learning_rate': 4.583333333333333e-06, 'epoch': 4.33}\n"
          ]
        },
        {
          "data": {
            "application/vnd.jupyter.widget-view+json": {
              "model_id": "47d5243ffb934f4b82866acb1e2ddc3e",
              "version_major": 2,
              "version_minor": 0
            },
            "text/plain": [
              "  0%|          | 0/113 [00:00<?, ?it/s]"
            ]
          },
          "metadata": {},
          "output_type": "display_data"
        },
        {
          "name": "stdout",
          "output_type": "stream",
          "text": [
            "{'eval_loss': 0.9522438645362854, 'eval_accuracy': 0.5477777777777778, 'eval_runtime': 4.7033, 'eval_samples_per_second': 382.711, 'eval_steps_per_second': 24.026, 'epoch': 4.33}\n",
            "{'loss': 0.9546, 'learning_rate': 4.444444444444444e-06, 'epoch': 4.44}\n"
          ]
        },
        {
          "data": {
            "application/vnd.jupyter.widget-view+json": {
              "model_id": "5f9b70761cbe4359b366f328ff171e89",
              "version_major": 2,
              "version_minor": 0
            },
            "text/plain": [
              "  0%|          | 0/113 [00:00<?, ?it/s]"
            ]
          },
          "metadata": {},
          "output_type": "display_data"
        },
        {
          "name": "stdout",
          "output_type": "stream",
          "text": [
            "{'eval_loss': 0.9522321224212646, 'eval_accuracy': 0.5483333333333333, 'eval_runtime': 4.7525, 'eval_samples_per_second': 378.748, 'eval_steps_per_second': 23.777, 'epoch': 4.44}\n",
            "{'loss': 0.9649, 'learning_rate': 4.305555555555556e-06, 'epoch': 4.56}\n"
          ]
        },
        {
          "data": {
            "application/vnd.jupyter.widget-view+json": {
              "model_id": "b3feb95f8e15438caa7d4fb7235a6f50",
              "version_major": 2,
              "version_minor": 0
            },
            "text/plain": [
              "  0%|          | 0/113 [00:00<?, ?it/s]"
            ]
          },
          "metadata": {},
          "output_type": "display_data"
        },
        {
          "name": "stdout",
          "output_type": "stream",
          "text": [
            "{'eval_loss': 0.9499219655990601, 'eval_accuracy': 0.5316666666666666, 'eval_runtime': 4.7544, 'eval_samples_per_second': 378.594, 'eval_steps_per_second': 23.767, 'epoch': 4.56}\n",
            "{'loss': 0.9764, 'learning_rate': 4.166666666666667e-06, 'epoch': 4.67}\n"
          ]
        },
        {
          "data": {
            "application/vnd.jupyter.widget-view+json": {
              "model_id": "36052e9ba4074cf5a6838dd8fcd84b6d",
              "version_major": 2,
              "version_minor": 0
            },
            "text/plain": [
              "  0%|          | 0/113 [00:00<?, ?it/s]"
            ]
          },
          "metadata": {},
          "output_type": "display_data"
        },
        {
          "name": "stdout",
          "output_type": "stream",
          "text": [
            "{'eval_loss': 0.952875018119812, 'eval_accuracy': 0.5483333333333333, 'eval_runtime': 4.8011, 'eval_samples_per_second': 374.913, 'eval_steps_per_second': 23.536, 'epoch': 4.67}\n",
            "{'loss': 0.996, 'learning_rate': 4.027777777777779e-06, 'epoch': 4.78}\n"
          ]
        },
        {
          "data": {
            "application/vnd.jupyter.widget-view+json": {
              "model_id": "a59cd2826fd944bab5f707f83acbd65f",
              "version_major": 2,
              "version_minor": 0
            },
            "text/plain": [
              "  0%|          | 0/113 [00:00<?, ?it/s]"
            ]
          },
          "metadata": {},
          "output_type": "display_data"
        },
        {
          "name": "stdout",
          "output_type": "stream",
          "text": [
            "{'eval_loss': 0.9497883915901184, 'eval_accuracy': 0.5611111111111111, 'eval_runtime': 4.9271, 'eval_samples_per_second': 365.327, 'eval_steps_per_second': 22.934, 'epoch': 4.78}\n",
            "{'loss': 0.9815, 'learning_rate': 3.88888888888889e-06, 'epoch': 4.89}\n"
          ]
        },
        {
          "data": {
            "application/vnd.jupyter.widget-view+json": {
              "model_id": "154983b47f3f405ba3ea7fd0b815a7aa",
              "version_major": 2,
              "version_minor": 0
            },
            "text/plain": [
              "  0%|          | 0/113 [00:00<?, ?it/s]"
            ]
          },
          "metadata": {},
          "output_type": "display_data"
        },
        {
          "name": "stdout",
          "output_type": "stream",
          "text": [
            "{'eval_loss': 0.947661817073822, 'eval_accuracy': 0.5633333333333334, 'eval_runtime': 4.7642, 'eval_samples_per_second': 377.82, 'eval_steps_per_second': 23.719, 'epoch': 4.89}\n",
            "{'loss': 0.9789, 'learning_rate': 3.7500000000000005e-06, 'epoch': 5.0}\n"
          ]
        },
        {
          "data": {
            "application/vnd.jupyter.widget-view+json": {
              "model_id": "8a6e0860d59b4331a3f73b82e9dad825",
              "version_major": 2,
              "version_minor": 0
            },
            "text/plain": [
              "  0%|          | 0/113 [00:00<?, ?it/s]"
            ]
          },
          "metadata": {},
          "output_type": "display_data"
        },
        {
          "name": "stdout",
          "output_type": "stream",
          "text": [
            "{'eval_loss': 0.9492309093475342, 'eval_accuracy': 0.5427777777777778, 'eval_runtime': 4.9049, 'eval_samples_per_second': 366.979, 'eval_steps_per_second': 23.038, 'epoch': 5.0}\n",
            "{'loss': 0.9753, 'learning_rate': 3.6111111111111115e-06, 'epoch': 5.11}\n"
          ]
        },
        {
          "data": {
            "application/vnd.jupyter.widget-view+json": {
              "model_id": "656489b9b0434bd2b3aa5574381f290d",
              "version_major": 2,
              "version_minor": 0
            },
            "text/plain": [
              "  0%|          | 0/113 [00:00<?, ?it/s]"
            ]
          },
          "metadata": {},
          "output_type": "display_data"
        },
        {
          "name": "stdout",
          "output_type": "stream",
          "text": [
            "{'eval_loss': 0.9498826861381531, 'eval_accuracy': 0.5433333333333333, 'eval_runtime': 4.6798, 'eval_samples_per_second': 384.635, 'eval_steps_per_second': 24.147, 'epoch': 5.11}\n",
            "{'loss': 0.9707, 'learning_rate': 3.4722222222222224e-06, 'epoch': 5.22}\n"
          ]
        },
        {
          "data": {
            "application/vnd.jupyter.widget-view+json": {
              "model_id": "19966d6467ec4851adbcd7377f3b7421",
              "version_major": 2,
              "version_minor": 0
            },
            "text/plain": [
              "  0%|          | 0/113 [00:00<?, ?it/s]"
            ]
          },
          "metadata": {},
          "output_type": "display_data"
        },
        {
          "name": "stdout",
          "output_type": "stream",
          "text": [
            "{'eval_loss': 0.9482868313789368, 'eval_accuracy': 0.5522222222222222, 'eval_runtime': 4.8428, 'eval_samples_per_second': 371.683, 'eval_steps_per_second': 23.333, 'epoch': 5.22}\n",
            "{'loss': 0.9905, 'learning_rate': 3.3333333333333333e-06, 'epoch': 5.33}\n"
          ]
        },
        {
          "data": {
            "application/vnd.jupyter.widget-view+json": {
              "model_id": "12b6113ea969458f9208cc99bb71dce9",
              "version_major": 2,
              "version_minor": 0
            },
            "text/plain": [
              "  0%|          | 0/113 [00:00<?, ?it/s]"
            ]
          },
          "metadata": {},
          "output_type": "display_data"
        },
        {
          "name": "stdout",
          "output_type": "stream",
          "text": [
            "{'eval_loss': 0.9588982462882996, 'eval_accuracy': 0.5477777777777778, 'eval_runtime': 4.7419, 'eval_samples_per_second': 379.592, 'eval_steps_per_second': 23.83, 'epoch': 5.33}\n",
            "{'loss': 0.9718, 'learning_rate': 3.1944444444444443e-06, 'epoch': 5.44}\n"
          ]
        },
        {
          "data": {
            "application/vnd.jupyter.widget-view+json": {
              "model_id": "615c422d64844a14a47344c2df6dc0e3",
              "version_major": 2,
              "version_minor": 0
            },
            "text/plain": [
              "  0%|          | 0/113 [00:00<?, ?it/s]"
            ]
          },
          "metadata": {},
          "output_type": "display_data"
        },
        {
          "name": "stdout",
          "output_type": "stream",
          "text": [
            "{'eval_loss': 0.9514648914337158, 'eval_accuracy': 0.5644444444444444, 'eval_runtime': 4.7133, 'eval_samples_per_second': 381.902, 'eval_steps_per_second': 23.975, 'epoch': 5.44}\n",
            "{'loss': 0.965, 'learning_rate': 3.055555555555556e-06, 'epoch': 5.56}\n"
          ]
        },
        {
          "data": {
            "application/vnd.jupyter.widget-view+json": {
              "model_id": "901d5dd407f74920b529d6cca6997247",
              "version_major": 2,
              "version_minor": 0
            },
            "text/plain": [
              "  0%|          | 0/113 [00:00<?, ?it/s]"
            ]
          },
          "metadata": {},
          "output_type": "display_data"
        },
        {
          "name": "stdout",
          "output_type": "stream",
          "text": [
            "{'eval_loss': 0.958625078201294, 'eval_accuracy': 0.5466666666666666, 'eval_runtime': 4.7675, 'eval_samples_per_second': 377.554, 'eval_steps_per_second': 23.702, 'epoch': 5.56}\n",
            "{'loss': 0.964, 'learning_rate': 2.916666666666667e-06, 'epoch': 5.67}\n"
          ]
        },
        {
          "data": {
            "application/vnd.jupyter.widget-view+json": {
              "model_id": "6f1da0645b484b96addf42e2fefa6e63",
              "version_major": 2,
              "version_minor": 0
            },
            "text/plain": [
              "  0%|          | 0/113 [00:00<?, ?it/s]"
            ]
          },
          "metadata": {},
          "output_type": "display_data"
        },
        {
          "name": "stdout",
          "output_type": "stream",
          "text": [
            "{'eval_loss': 0.9578133821487427, 'eval_accuracy': 0.5438888888888889, 'eval_runtime': 4.7306, 'eval_samples_per_second': 380.499, 'eval_steps_per_second': 23.887, 'epoch': 5.67}\n",
            "{'loss': 0.9716, 'learning_rate': 2.7777777777777783e-06, 'epoch': 5.78}\n"
          ]
        },
        {
          "data": {
            "application/vnd.jupyter.widget-view+json": {
              "model_id": "9c108a2a6a3849fcbc4c40b5c71694ae",
              "version_major": 2,
              "version_minor": 0
            },
            "text/plain": [
              "  0%|          | 0/113 [00:00<?, ?it/s]"
            ]
          },
          "metadata": {},
          "output_type": "display_data"
        },
        {
          "name": "stdout",
          "output_type": "stream",
          "text": [
            "{'eval_loss': 0.9520001411437988, 'eval_accuracy': 0.56, 'eval_runtime': 4.7473, 'eval_samples_per_second': 379.165, 'eval_steps_per_second': 23.803, 'epoch': 5.78}\n",
            "{'loss': 0.9713, 'learning_rate': 2.6388888888888893e-06, 'epoch': 5.89}\n"
          ]
        },
        {
          "data": {
            "application/vnd.jupyter.widget-view+json": {
              "model_id": "043a5efebcdd485ea85fd95be444a2ef",
              "version_major": 2,
              "version_minor": 0
            },
            "text/plain": [
              "  0%|          | 0/113 [00:00<?, ?it/s]"
            ]
          },
          "metadata": {},
          "output_type": "display_data"
        },
        {
          "name": "stdout",
          "output_type": "stream",
          "text": [
            "{'eval_loss': 0.9533701539039612, 'eval_accuracy': 0.5694444444444444, 'eval_runtime': 4.8203, 'eval_samples_per_second': 373.423, 'eval_steps_per_second': 23.443, 'epoch': 5.89}\n",
            "{'loss': 0.9763, 'learning_rate': 2.5e-06, 'epoch': 6.0}\n"
          ]
        },
        {
          "data": {
            "application/vnd.jupyter.widget-view+json": {
              "model_id": "d16521f8f11944e9b1304ce47ac2e6a1",
              "version_major": 2,
              "version_minor": 0
            },
            "text/plain": [
              "  0%|          | 0/113 [00:00<?, ?it/s]"
            ]
          },
          "metadata": {},
          "output_type": "display_data"
        },
        {
          "name": "stdout",
          "output_type": "stream",
          "text": [
            "{'eval_loss': 0.9562171697616577, 'eval_accuracy': 0.5611111111111111, 'eval_runtime': 4.7063, 'eval_samples_per_second': 382.469, 'eval_steps_per_second': 24.011, 'epoch': 6.0}\n",
            "{'loss': 0.9605, 'learning_rate': 2.361111111111111e-06, 'epoch': 6.11}\n"
          ]
        },
        {
          "data": {
            "application/vnd.jupyter.widget-view+json": {
              "model_id": "dcbbd70860a54ed28b51c1c7d30b7330",
              "version_major": 2,
              "version_minor": 0
            },
            "text/plain": [
              "  0%|          | 0/113 [00:00<?, ?it/s]"
            ]
          },
          "metadata": {},
          "output_type": "display_data"
        },
        {
          "name": "stdout",
          "output_type": "stream",
          "text": [
            "{'eval_loss': 0.9493332505226135, 'eval_accuracy': 0.5572222222222222, 'eval_runtime': 4.8708, 'eval_samples_per_second': 369.552, 'eval_steps_per_second': 23.2, 'epoch': 6.11}\n",
            "{'loss': 0.9777, 'learning_rate': 2.222222222222222e-06, 'epoch': 6.22}\n"
          ]
        },
        {
          "data": {
            "application/vnd.jupyter.widget-view+json": {
              "model_id": "eebb9dc0d1ad48a494d9d5b5bb484c5c",
              "version_major": 2,
              "version_minor": 0
            },
            "text/plain": [
              "  0%|          | 0/113 [00:00<?, ?it/s]"
            ]
          },
          "metadata": {},
          "output_type": "display_data"
        },
        {
          "name": "stdout",
          "output_type": "stream",
          "text": [
            "{'eval_loss': 0.965114176273346, 'eval_accuracy': 0.5405555555555556, 'eval_runtime': 4.2885, 'eval_samples_per_second': 419.726, 'eval_steps_per_second': 26.349, 'epoch': 6.22}\n",
            "{'loss': 0.9814, 'learning_rate': 2.0833333333333334e-06, 'epoch': 6.33}\n"
          ]
        },
        {
          "data": {
            "application/vnd.jupyter.widget-view+json": {
              "model_id": "415d077992dd4cf88288f178cac45d41",
              "version_major": 2,
              "version_minor": 0
            },
            "text/plain": [
              "  0%|          | 0/113 [00:00<?, ?it/s]"
            ]
          },
          "metadata": {},
          "output_type": "display_data"
        },
        {
          "name": "stdout",
          "output_type": "stream",
          "text": [
            "{'eval_loss': 0.9582291841506958, 'eval_accuracy': 0.5605555555555556, 'eval_runtime': 3.3057, 'eval_samples_per_second': 544.519, 'eval_steps_per_second': 34.184, 'epoch': 6.33}\n",
            "{'loss': 0.9833, 'learning_rate': 1.944444444444445e-06, 'epoch': 6.44}\n"
          ]
        },
        {
          "data": {
            "application/vnd.jupyter.widget-view+json": {
              "model_id": "00119e98caa140588b3308cf19e47ec7",
              "version_major": 2,
              "version_minor": 0
            },
            "text/plain": [
              "  0%|          | 0/113 [00:00<?, ?it/s]"
            ]
          },
          "metadata": {},
          "output_type": "display_data"
        },
        {
          "name": "stdout",
          "output_type": "stream",
          "text": [
            "{'eval_loss': 0.9534196257591248, 'eval_accuracy': 0.5572222222222222, 'eval_runtime': 3.3252, 'eval_samples_per_second': 541.318, 'eval_steps_per_second': 33.983, 'epoch': 6.44}\n",
            "{'loss': 0.9694, 'learning_rate': 1.8055555555555557e-06, 'epoch': 6.56}\n"
          ]
        },
        {
          "data": {
            "application/vnd.jupyter.widget-view+json": {
              "model_id": "f4caaa2c9d114d78916d8e9d77f44108",
              "version_major": 2,
              "version_minor": 0
            },
            "text/plain": [
              "  0%|          | 0/113 [00:00<?, ?it/s]"
            ]
          },
          "metadata": {},
          "output_type": "display_data"
        },
        {
          "name": "stdout",
          "output_type": "stream",
          "text": [
            "{'eval_loss': 0.9537227153778076, 'eval_accuracy': 0.5527777777777778, 'eval_runtime': 3.2943, 'eval_samples_per_second': 546.391, 'eval_steps_per_second': 34.301, 'epoch': 6.56}\n",
            "{'loss': 0.9581, 'learning_rate': 1.6666666666666667e-06, 'epoch': 6.67}\n"
          ]
        },
        {
          "data": {
            "application/vnd.jupyter.widget-view+json": {
              "model_id": "ebb11c33af2c4a0085d0ee97fbe04332",
              "version_major": 2,
              "version_minor": 0
            },
            "text/plain": [
              "  0%|          | 0/113 [00:00<?, ?it/s]"
            ]
          },
          "metadata": {},
          "output_type": "display_data"
        },
        {
          "name": "stdout",
          "output_type": "stream",
          "text": [
            "{'eval_loss': 0.9565883874893188, 'eval_accuracy': 0.5583333333333333, 'eval_runtime': 3.304, 'eval_samples_per_second': 544.802, 'eval_steps_per_second': 34.201, 'epoch': 6.67}\n",
            "{'loss': 0.9701, 'learning_rate': 1.527777777777778e-06, 'epoch': 6.78}\n"
          ]
        },
        {
          "data": {
            "application/vnd.jupyter.widget-view+json": {
              "model_id": "c393a23921b84a61b72d831aa9712155",
              "version_major": 2,
              "version_minor": 0
            },
            "text/plain": [
              "  0%|          | 0/113 [00:00<?, ?it/s]"
            ]
          },
          "metadata": {},
          "output_type": "display_data"
        },
        {
          "name": "stdout",
          "output_type": "stream",
          "text": [
            "{'eval_loss': 0.952713668346405, 'eval_accuracy': 0.5566666666666666, 'eval_runtime': 3.3075, 'eval_samples_per_second': 544.222, 'eval_steps_per_second': 34.165, 'epoch': 6.78}\n",
            "{'loss': 0.9832, 'learning_rate': 1.3888888888888892e-06, 'epoch': 6.89}\n"
          ]
        },
        {
          "data": {
            "application/vnd.jupyter.widget-view+json": {
              "model_id": "0e5daff1c81a414c9fe146643f639338",
              "version_major": 2,
              "version_minor": 0
            },
            "text/plain": [
              "  0%|          | 0/113 [00:00<?, ?it/s]"
            ]
          },
          "metadata": {},
          "output_type": "display_data"
        },
        {
          "name": "stdout",
          "output_type": "stream",
          "text": [
            "{'eval_loss': 0.9512417316436768, 'eval_accuracy': 0.5633333333333334, 'eval_runtime': 3.3106, 'eval_samples_per_second': 543.7, 'eval_steps_per_second': 34.132, 'epoch': 6.89}\n",
            "{'loss': 0.9769, 'learning_rate': 1.25e-06, 'epoch': 7.0}\n"
          ]
        },
        {
          "data": {
            "application/vnd.jupyter.widget-view+json": {
              "model_id": "62f5034e83fa40b7bede1ffb6694a6b9",
              "version_major": 2,
              "version_minor": 0
            },
            "text/plain": [
              "  0%|          | 0/113 [00:00<?, ?it/s]"
            ]
          },
          "metadata": {},
          "output_type": "display_data"
        },
        {
          "name": "stdout",
          "output_type": "stream",
          "text": [
            "{'eval_loss': 0.9491072297096252, 'eval_accuracy': 0.5561111111111111, 'eval_runtime': 3.3571, 'eval_samples_per_second': 536.181, 'eval_steps_per_second': 33.66, 'epoch': 7.0}\n",
            "{'loss': 0.9816, 'learning_rate': 1.111111111111111e-06, 'epoch': 7.11}\n"
          ]
        },
        {
          "data": {
            "application/vnd.jupyter.widget-view+json": {
              "model_id": "a395d83a2f0e4256ad6b916cc1c68063",
              "version_major": 2,
              "version_minor": 0
            },
            "text/plain": [
              "  0%|          | 0/113 [00:00<?, ?it/s]"
            ]
          },
          "metadata": {},
          "output_type": "display_data"
        },
        {
          "name": "stdout",
          "output_type": "stream",
          "text": [
            "{'eval_loss': 0.949720025062561, 'eval_accuracy': 0.5711111111111111, 'eval_runtime': 3.3029, 'eval_samples_per_second': 544.976, 'eval_steps_per_second': 34.212, 'epoch': 7.11}\n",
            "{'loss': 0.9753, 'learning_rate': 9.722222222222224e-07, 'epoch': 7.22}\n"
          ]
        },
        {
          "data": {
            "application/vnd.jupyter.widget-view+json": {
              "model_id": "bf19dccdc8af42f585c9a577486a0448",
              "version_major": 2,
              "version_minor": 0
            },
            "text/plain": [
              "  0%|          | 0/113 [00:00<?, ?it/s]"
            ]
          },
          "metadata": {},
          "output_type": "display_data"
        },
        {
          "name": "stdout",
          "output_type": "stream",
          "text": [
            "{'eval_loss': 0.9498581290245056, 'eval_accuracy': 0.5727777777777778, 'eval_runtime': 3.308, 'eval_samples_per_second': 544.128, 'eval_steps_per_second': 34.159, 'epoch': 7.22}\n",
            "{'loss': 0.9694, 'learning_rate': 8.333333333333333e-07, 'epoch': 7.33}\n"
          ]
        },
        {
          "data": {
            "application/vnd.jupyter.widget-view+json": {
              "model_id": "0abedfea25d541c0b978f05a5223b160",
              "version_major": 2,
              "version_minor": 0
            },
            "text/plain": [
              "  0%|          | 0/113 [00:00<?, ?it/s]"
            ]
          },
          "metadata": {},
          "output_type": "display_data"
        },
        {
          "name": "stdout",
          "output_type": "stream",
          "text": [
            "{'eval_loss': 0.9502179026603699, 'eval_accuracy': 0.5716666666666667, 'eval_runtime': 3.3124, 'eval_samples_per_second': 543.417, 'eval_steps_per_second': 34.115, 'epoch': 7.33}\n",
            "{'loss': 0.9836, 'learning_rate': 6.944444444444446e-07, 'epoch': 7.44}\n"
          ]
        },
        {
          "data": {
            "application/vnd.jupyter.widget-view+json": {
              "model_id": "82b5dca75aaa4fe199c60c5d55d2cb7d",
              "version_major": 2,
              "version_minor": 0
            },
            "text/plain": [
              "  0%|          | 0/113 [00:00<?, ?it/s]"
            ]
          },
          "metadata": {},
          "output_type": "display_data"
        },
        {
          "name": "stdout",
          "output_type": "stream",
          "text": [
            "{'eval_loss': 0.9516940712928772, 'eval_accuracy': 0.5655555555555556, 'eval_runtime': 3.3272, 'eval_samples_per_second': 541.001, 'eval_steps_per_second': 33.963, 'epoch': 7.44}\n",
            "{'loss': 0.963, 'learning_rate': 5.555555555555555e-07, 'epoch': 7.56}\n"
          ]
        },
        {
          "data": {
            "application/vnd.jupyter.widget-view+json": {
              "model_id": "f284162939c74515af4d6fd7e3694e37",
              "version_major": 2,
              "version_minor": 0
            },
            "text/plain": [
              "  0%|          | 0/113 [00:00<?, ?it/s]"
            ]
          },
          "metadata": {},
          "output_type": "display_data"
        },
        {
          "name": "stdout",
          "output_type": "stream",
          "text": [
            "{'eval_loss': 0.9533224701881409, 'eval_accuracy': 0.5638888888888889, 'eval_runtime': 3.3461, 'eval_samples_per_second': 537.948, 'eval_steps_per_second': 33.771, 'epoch': 7.56}\n",
            "{'loss': 0.9563, 'learning_rate': 4.1666666666666667e-07, 'epoch': 7.67}\n"
          ]
        },
        {
          "data": {
            "application/vnd.jupyter.widget-view+json": {
              "model_id": "72cb1442e549484490ff45ce21b36bb3",
              "version_major": 2,
              "version_minor": 0
            },
            "text/plain": [
              "  0%|          | 0/113 [00:00<?, ?it/s]"
            ]
          },
          "metadata": {},
          "output_type": "display_data"
        },
        {
          "name": "stdout",
          "output_type": "stream",
          "text": [
            "{'eval_loss': 0.9528329968452454, 'eval_accuracy': 0.5627777777777778, 'eval_runtime': 3.299, 'eval_samples_per_second': 545.624, 'eval_steps_per_second': 34.253, 'epoch': 7.67}\n",
            "{'loss': 0.9701, 'learning_rate': 2.7777777777777776e-07, 'epoch': 7.78}\n"
          ]
        },
        {
          "data": {
            "application/vnd.jupyter.widget-view+json": {
              "model_id": "bc07f38837114894b83b23f853ae1c03",
              "version_major": 2,
              "version_minor": 0
            },
            "text/plain": [
              "  0%|          | 0/113 [00:00<?, ?it/s]"
            ]
          },
          "metadata": {},
          "output_type": "display_data"
        },
        {
          "name": "stdout",
          "output_type": "stream",
          "text": [
            "{'eval_loss': 0.9518423080444336, 'eval_accuracy': 0.5672222222222222, 'eval_runtime': 3.307, 'eval_samples_per_second': 544.298, 'eval_steps_per_second': 34.17, 'epoch': 7.78}\n",
            "{'loss': 0.9617, 'learning_rate': 1.3888888888888888e-07, 'epoch': 7.89}\n"
          ]
        },
        {
          "data": {
            "application/vnd.jupyter.widget-view+json": {
              "model_id": "2647346d0c764898b8599396af6354df",
              "version_major": 2,
              "version_minor": 0
            },
            "text/plain": [
              "  0%|          | 0/113 [00:00<?, ?it/s]"
            ]
          },
          "metadata": {},
          "output_type": "display_data"
        },
        {
          "name": "stdout",
          "output_type": "stream",
          "text": [
            "{'eval_loss': 0.950999915599823, 'eval_accuracy': 0.5666666666666667, 'eval_runtime': 3.2967, 'eval_samples_per_second': 546.003, 'eval_steps_per_second': 34.277, 'epoch': 7.89}\n",
            "{'loss': 0.9614, 'learning_rate': 0.0, 'epoch': 8.0}\n"
          ]
        },
        {
          "data": {
            "application/vnd.jupyter.widget-view+json": {
              "model_id": "28e00afd7ac74aeab45e4833951395e5",
              "version_major": 2,
              "version_minor": 0
            },
            "text/plain": [
              "  0%|          | 0/113 [00:00<?, ?it/s]"
            ]
          },
          "metadata": {},
          "output_type": "display_data"
        },
        {
          "name": "stdout",
          "output_type": "stream",
          "text": [
            "{'eval_loss': 0.9511668682098389, 'eval_accuracy': 0.5661111111111111, 'eval_runtime': 3.3219, 'eval_samples_per_second': 541.86, 'eval_steps_per_second': 34.017, 'epoch': 8.0}\n",
            "{'train_runtime': 1098.6088, 'train_samples_per_second': 104.86, 'train_steps_per_second': 6.554, 'train_loss': 0.9919003214273188, 'epoch': 8.0}\n"
          ]
        }
      ],
      "source": [
        "trainer.train()\n",
        "trainer.save_model(\"best_finetuned_model\")"
      ]
    },
    {
      "cell_type": "code",
      "execution_count": 23,
      "metadata": {},
      "outputs": [
        {
          "data": {
            "application/vnd.jupyter.widget-view+json": {
              "model_id": "5510c93df72247f5bb30c6524428aa21",
              "version_major": 2,
              "version_minor": 0
            },
            "text/plain": [
              "  0%|          | 0/113 [00:00<?, ?it/s]"
            ]
          },
          "metadata": {},
          "output_type": "display_data"
        },
        {
          "data": {
            "text/plain": [
              "{'eval_loss': 0.9596143364906311,\n",
              " 'eval_accuracy': 0.5522222222222222,\n",
              " 'eval_runtime': 3.4994,\n",
              " 'eval_samples_per_second': 514.377,\n",
              " 'eval_steps_per_second': 32.291,\n",
              " 'epoch': 8.0}"
            ]
          },
          "execution_count": 23,
          "metadata": {},
          "output_type": "execute_result"
        }
      ],
      "source": [
        "trainer.evaluate(eval_dataset=test_loader)"
      ]
    },
    {
      "cell_type": "code",
      "execution_count": 24,
      "metadata": {},
      "outputs": [
        {
          "data": {
            "application/vnd.jupyter.widget-view+json": {
              "model_id": "c0ed80270d9a40d6847d3029a53c2309",
              "version_major": 2,
              "version_minor": 0
            },
            "text/plain": [
              "adapter_model.safetensors:   0%|          | 0.00/24.2M [00:00<?, ?B/s]"
            ]
          },
          "metadata": {},
          "output_type": "display_data"
        },
        {
          "data": {
            "text/plain": [
              "CommitInfo(commit_url='https://huggingface.co/datptm2003/lora-vietnamese-feedback-analysis/commit/18cfb72ba895b1100dddde51d9d9ddafd3473826', commit_message='Upload model', commit_description='', oid='18cfb72ba895b1100dddde51d9d9ddafd3473826', pr_url=None, pr_revision=None, pr_num=None)"
            ]
          },
          "execution_count": 24,
          "metadata": {},
          "output_type": "execute_result"
        }
      ],
      "source": [
        "model_lora.push_to_hub(\"lora-vietnamese-feedback-analysis\")"
      ]
    },
    {
      "cell_type": "markdown",
      "metadata": {},
      "source": [
        "# 6. Inference"
      ]
    },
    {
      "cell_type": "code",
      "execution_count": 25,
      "metadata": {
        "colab": {
          "base_uri": "https://localhost:8080/"
        },
        "id": "WNmgPv-0Y1T3",
        "outputId": "5e82c0e0-b628-4ef9-90e1-b18535226f0f"
      },
      "outputs": [
        {
          "name": "stdout",
          "output_type": "stream",
          "text": [
            "\"Hàng rất tốt nha, cảm ơn shop.\": \n",
            ">>> Positive\n",
            "\n",
            "\"Áo tạm được, chất lượng vừa phải\": \n",
            ">>> Negative\n",
            "\n",
            "\"Hàng kém chất lượng, không nên mua\": \n",
            ">>> Negative\n",
            "\n",
            "\"Wow tuyệt quá!\": \n",
            ">>> Negative\n",
            "\n",
            "\"Phí tiền, khuyên các bạn nên tẩy chay shop.\": \n",
            ">>> Negative\n",
            "\n",
            "\"Quá xấu\": \n",
            ">>> Positive\n",
            "\n",
            "\"Màu k giống trong hình,Chất mặc nóng, bí không thấm hút mồ hôi.\": \n",
            ">>> Negative\n",
            "\n",
            "\"Chất da cá ( tiền naoc của đó ).\": \n",
            ">>> Negative\n",
            "\n",
            "\"Quần chưa thử nên không biết có che được không nhưng mình k thích cái viền ren lắm.\": \n",
            ">>> Negative\n",
            "\n",
            "\"Bình thường\": \n",
            ">>> Positive\n",
            "\n"
          ]
        }
      ],
      "source": [
        "texts = [\n",
        "    \"Hàng rất tốt nha, cảm ơn shop.\",\n",
        "    \"Áo tạm được, chất lượng vừa phải\",\n",
        "    \"Hàng kém chất lượng, không nên mua\",\n",
        "    \"Wow tuyệt quá!\",\n",
        "    \"Phí tiền, khuyên các bạn nên tẩy chay shop.\",\n",
        "    \"Quá xấu\",\n",
        "    \"Màu k giống trong hình,Chất mặc nóng, bí không thấm hút mồ hôi.\",\n",
        "    \"Chất da cá ( tiền naoc của đó ).\",\n",
        "    \"Quần chưa thử nên không biết có che được không nhưng mình k thích cái viền ren lắm.\",\n",
        "    \"Bình thường\"\n",
        "]\n",
        "for text in texts:\n",
        "  inputs = tokenizer.encode(text, return_tensors=\"pt\").to(\"cuda\")\n",
        "\n",
        "  logits = model_lora(inputs).logits\n",
        "  # print(\"---Logits:\",logits)\n",
        "  predictions = torch.max(logits,1).indices\n",
        "\n",
        "  id2label = {0: \"Negative\", 1: \"Neutral\", 2: \"Positive\"}\n",
        "  print(f\"\\\"{text}\\\": \\n>>> {id2label[predictions.tolist()[0]]}\\n\")"
      ]
    }
  ],
  "metadata": {
    "colab": {
      "provenance": []
    },
    "kernelspec": {
      "display_name": "Python 3",
      "name": "python3"
    },
    "language_info": {
      "codemirror_mode": {
        "name": "ipython",
        "version": 3
      },
      "file_extension": ".py",
      "mimetype": "text/x-python",
      "name": "python",
      "nbconvert_exporter": "python",
      "pygments_lexer": "ipython3",
      "version": "3.12.1"
    },
    "widgets": {
      "application/vnd.jupyter.widget-state+json": {
        "03bef6afc6e14f03bd3424ec009a6541": {
          "model_module": "@jupyter-widgets/controls",
          "model_module_version": "1.5.0",
          "model_name": "HTMLModel",
          "state": {
            "_dom_classes": [],
            "_model_module": "@jupyter-widgets/controls",
            "_model_module_version": "1.5.0",
            "_model_name": "HTMLModel",
            "_view_count": null,
            "_view_module": "@jupyter-widgets/controls",
            "_view_module_version": "1.5.0",
            "_view_name": "HTMLView",
            "description": "",
            "description_tooltip": null,
            "layout": "IPY_MODEL_1da96539234942cb8b0bcb34003ab812",
            "placeholder": "​",
            "style": "IPY_MODEL_1870a6a78896411480afc6f022029e2d",
            "value": "bpe.codes: 100%"
          }
        },
        "057b383852f742acb0d6da467ad84edd": {
          "model_module": "@jupyter-widgets/controls",
          "model_module_version": "1.5.0",
          "model_name": "HTMLModel",
          "state": {
            "_dom_classes": [],
            "_model_module": "@jupyter-widgets/controls",
            "_model_module_version": "1.5.0",
            "_model_name": "HTMLModel",
            "_view_count": null,
            "_view_module": "@jupyter-widgets/controls",
            "_view_module_version": "1.5.0",
            "_view_name": "HTMLView",
            "description": "",
            "description_tooltip": null,
            "layout": "IPY_MODEL_0f5d3b26bb6e4a9b872033d57c591307",
            "placeholder": "​",
            "style": "IPY_MODEL_8590a5b611ba4dbd94fc0a408347998f",
            "value": " 3.13M/3.13M [00:00&lt;00:00, 6.37MB/s]"
          }
        },
        "0a16009068af467fa9b376c53075f205": {
          "model_module": "@jupyter-widgets/controls",
          "model_module_version": "1.5.0",
          "model_name": "HTMLModel",
          "state": {
            "_dom_classes": [],
            "_model_module": "@jupyter-widgets/controls",
            "_model_module_version": "1.5.0",
            "_model_name": "HTMLModel",
            "_view_count": null,
            "_view_module": "@jupyter-widgets/controls",
            "_view_module_version": "1.5.0",
            "_view_name": "HTMLView",
            "description": "",
            "description_tooltip": null,
            "layout": "IPY_MODEL_c33a7c45eb2b40819f319482f829ca16",
            "placeholder": "​",
            "style": "IPY_MODEL_b724e1c96d484493bf2dcb20d763413b",
            "value": " 895k/895k [00:00&lt;00:00, 2.74MB/s]"
          }
        },
        "0f5d3b26bb6e4a9b872033d57c591307": {
          "model_module": "@jupyter-widgets/base",
          "model_module_version": "1.2.0",
          "model_name": "LayoutModel",
          "state": {
            "_model_module": "@jupyter-widgets/base",
            "_model_module_version": "1.2.0",
            "_model_name": "LayoutModel",
            "_view_count": null,
            "_view_module": "@jupyter-widgets/base",
            "_view_module_version": "1.2.0",
            "_view_name": "LayoutView",
            "align_content": null,
            "align_items": null,
            "align_self": null,
            "border": null,
            "bottom": null,
            "display": null,
            "flex": null,
            "flex_flow": null,
            "grid_area": null,
            "grid_auto_columns": null,
            "grid_auto_flow": null,
            "grid_auto_rows": null,
            "grid_column": null,
            "grid_gap": null,
            "grid_row": null,
            "grid_template_areas": null,
            "grid_template_columns": null,
            "grid_template_rows": null,
            "height": null,
            "justify_content": null,
            "justify_items": null,
            "left": null,
            "margin": null,
            "max_height": null,
            "max_width": null,
            "min_height": null,
            "min_width": null,
            "object_fit": null,
            "object_position": null,
            "order": null,
            "overflow": null,
            "overflow_x": null,
            "overflow_y": null,
            "padding": null,
            "right": null,
            "top": null,
            "visibility": null,
            "width": null
          }
        },
        "11fd3b3d22d842508e00a1ff7cbd68f2": {
          "model_module": "@jupyter-widgets/base",
          "model_module_version": "1.2.0",
          "model_name": "LayoutModel",
          "state": {
            "_model_module": "@jupyter-widgets/base",
            "_model_module_version": "1.2.0",
            "_model_name": "LayoutModel",
            "_view_count": null,
            "_view_module": "@jupyter-widgets/base",
            "_view_module_version": "1.2.0",
            "_view_name": "LayoutView",
            "align_content": null,
            "align_items": null,
            "align_self": null,
            "border": null,
            "bottom": null,
            "display": null,
            "flex": null,
            "flex_flow": null,
            "grid_area": null,
            "grid_auto_columns": null,
            "grid_auto_flow": null,
            "grid_auto_rows": null,
            "grid_column": null,
            "grid_gap": null,
            "grid_row": null,
            "grid_template_areas": null,
            "grid_template_columns": null,
            "grid_template_rows": null,
            "height": null,
            "justify_content": null,
            "justify_items": null,
            "left": null,
            "margin": null,
            "max_height": null,
            "max_width": null,
            "min_height": null,
            "min_width": null,
            "object_fit": null,
            "object_position": null,
            "order": null,
            "overflow": null,
            "overflow_x": null,
            "overflow_y": null,
            "padding": null,
            "right": null,
            "top": null,
            "visibility": null,
            "width": null
          }
        },
        "1331542b5cbb47a29882535c2b9fb97c": {
          "model_module": "@jupyter-widgets/controls",
          "model_module_version": "1.5.0",
          "model_name": "HBoxModel",
          "state": {
            "_dom_classes": [],
            "_model_module": "@jupyter-widgets/controls",
            "_model_module_version": "1.5.0",
            "_model_name": "HBoxModel",
            "_view_count": null,
            "_view_module": "@jupyter-widgets/controls",
            "_view_module_version": "1.5.0",
            "_view_name": "HBoxView",
            "box_style": "",
            "children": [
              "IPY_MODEL_1844b4314d2045949fcbab7e15a309f6",
              "IPY_MODEL_b1067bd7e70246bfb7c566f02a4a01ed",
              "IPY_MODEL_0a16009068af467fa9b376c53075f205"
            ],
            "layout": "IPY_MODEL_80d04a2779054fd8ab29e4119d334490"
          }
        },
        "1388318749cb4d26afae0907da04b011": {
          "model_module": "@jupyter-widgets/base",
          "model_module_version": "1.2.0",
          "model_name": "LayoutModel",
          "state": {
            "_model_module": "@jupyter-widgets/base",
            "_model_module_version": "1.2.0",
            "_model_name": "LayoutModel",
            "_view_count": null,
            "_view_module": "@jupyter-widgets/base",
            "_view_module_version": "1.2.0",
            "_view_name": "LayoutView",
            "align_content": null,
            "align_items": null,
            "align_self": null,
            "border": null,
            "bottom": null,
            "display": null,
            "flex": null,
            "flex_flow": null,
            "grid_area": null,
            "grid_auto_columns": null,
            "grid_auto_flow": null,
            "grid_auto_rows": null,
            "grid_column": null,
            "grid_gap": null,
            "grid_row": null,
            "grid_template_areas": null,
            "grid_template_columns": null,
            "grid_template_rows": null,
            "height": null,
            "justify_content": null,
            "justify_items": null,
            "left": null,
            "margin": null,
            "max_height": null,
            "max_width": null,
            "min_height": null,
            "min_width": null,
            "object_fit": null,
            "object_position": null,
            "order": null,
            "overflow": null,
            "overflow_x": null,
            "overflow_y": null,
            "padding": null,
            "right": null,
            "top": null,
            "visibility": null,
            "width": null
          }
        },
        "1844b4314d2045949fcbab7e15a309f6": {
          "model_module": "@jupyter-widgets/controls",
          "model_module_version": "1.5.0",
          "model_name": "HTMLModel",
          "state": {
            "_dom_classes": [],
            "_model_module": "@jupyter-widgets/controls",
            "_model_module_version": "1.5.0",
            "_model_name": "HTMLModel",
            "_view_count": null,
            "_view_module": "@jupyter-widgets/controls",
            "_view_module_version": "1.5.0",
            "_view_name": "HTMLView",
            "description": "",
            "description_tooltip": null,
            "layout": "IPY_MODEL_7f77336e439640ba8aabe2cfc6a620c1",
            "placeholder": "​",
            "style": "IPY_MODEL_4fdcbef0dec4466dbd32e3de83c808e6",
            "value": "vocab.txt: 100%"
          }
        },
        "184c77f61b74420ba90c5759d2d07767": {
          "model_module": "@jupyter-widgets/base",
          "model_module_version": "1.2.0",
          "model_name": "LayoutModel",
          "state": {
            "_model_module": "@jupyter-widgets/base",
            "_model_module_version": "1.2.0",
            "_model_name": "LayoutModel",
            "_view_count": null,
            "_view_module": "@jupyter-widgets/base",
            "_view_module_version": "1.2.0",
            "_view_name": "LayoutView",
            "align_content": null,
            "align_items": null,
            "align_self": null,
            "border": null,
            "bottom": null,
            "display": null,
            "flex": null,
            "flex_flow": null,
            "grid_area": null,
            "grid_auto_columns": null,
            "grid_auto_flow": null,
            "grid_auto_rows": null,
            "grid_column": null,
            "grid_gap": null,
            "grid_row": null,
            "grid_template_areas": null,
            "grid_template_columns": null,
            "grid_template_rows": null,
            "height": null,
            "justify_content": null,
            "justify_items": null,
            "left": null,
            "margin": null,
            "max_height": null,
            "max_width": null,
            "min_height": null,
            "min_width": null,
            "object_fit": null,
            "object_position": null,
            "order": null,
            "overflow": null,
            "overflow_x": null,
            "overflow_y": null,
            "padding": null,
            "right": null,
            "top": null,
            "visibility": null,
            "width": null
          }
        },
        "1870a6a78896411480afc6f022029e2d": {
          "model_module": "@jupyter-widgets/controls",
          "model_module_version": "1.5.0",
          "model_name": "DescriptionStyleModel",
          "state": {
            "_model_module": "@jupyter-widgets/controls",
            "_model_module_version": "1.5.0",
            "_model_name": "DescriptionStyleModel",
            "_view_count": null,
            "_view_module": "@jupyter-widgets/base",
            "_view_module_version": "1.2.0",
            "_view_name": "StyleView",
            "description_width": ""
          }
        },
        "1da96539234942cb8b0bcb34003ab812": {
          "model_module": "@jupyter-widgets/base",
          "model_module_version": "1.2.0",
          "model_name": "LayoutModel",
          "state": {
            "_model_module": "@jupyter-widgets/base",
            "_model_module_version": "1.2.0",
            "_model_name": "LayoutModel",
            "_view_count": null,
            "_view_module": "@jupyter-widgets/base",
            "_view_module_version": "1.2.0",
            "_view_name": "LayoutView",
            "align_content": null,
            "align_items": null,
            "align_self": null,
            "border": null,
            "bottom": null,
            "display": null,
            "flex": null,
            "flex_flow": null,
            "grid_area": null,
            "grid_auto_columns": null,
            "grid_auto_flow": null,
            "grid_auto_rows": null,
            "grid_column": null,
            "grid_gap": null,
            "grid_row": null,
            "grid_template_areas": null,
            "grid_template_columns": null,
            "grid_template_rows": null,
            "height": null,
            "justify_content": null,
            "justify_items": null,
            "left": null,
            "margin": null,
            "max_height": null,
            "max_width": null,
            "min_height": null,
            "min_width": null,
            "object_fit": null,
            "object_position": null,
            "order": null,
            "overflow": null,
            "overflow_x": null,
            "overflow_y": null,
            "padding": null,
            "right": null,
            "top": null,
            "visibility": null,
            "width": null
          }
        },
        "26eb06846b794b3daf0b65f555eb1a04": {
          "model_module": "@jupyter-widgets/controls",
          "model_module_version": "1.5.0",
          "model_name": "HBoxModel",
          "state": {
            "_dom_classes": [],
            "_model_module": "@jupyter-widgets/controls",
            "_model_module_version": "1.5.0",
            "_model_name": "HBoxModel",
            "_view_count": null,
            "_view_module": "@jupyter-widgets/controls",
            "_view_module_version": "1.5.0",
            "_view_name": "HBoxView",
            "box_style": "",
            "children": [
              "IPY_MODEL_c62e9a5a18294e119f138ca1dc67bc43",
              "IPY_MODEL_b5df0102b52940ef9990ad766ab38b7f",
              "IPY_MODEL_75e8cc01921f4cc98e346df9fe20d587"
            ],
            "layout": "IPY_MODEL_7f5ede8f2d444c90a1ae62416e278cbb"
          }
        },
        "2a2e678a9205480da4b26e80aea8f2fe": {
          "model_module": "@jupyter-widgets/base",
          "model_module_version": "1.2.0",
          "model_name": "LayoutModel",
          "state": {
            "_model_module": "@jupyter-widgets/base",
            "_model_module_version": "1.2.0",
            "_model_name": "LayoutModel",
            "_view_count": null,
            "_view_module": "@jupyter-widgets/base",
            "_view_module_version": "1.2.0",
            "_view_name": "LayoutView",
            "align_content": null,
            "align_items": null,
            "align_self": null,
            "border": null,
            "bottom": null,
            "display": null,
            "flex": null,
            "flex_flow": null,
            "grid_area": null,
            "grid_auto_columns": null,
            "grid_auto_flow": null,
            "grid_auto_rows": null,
            "grid_column": null,
            "grid_gap": null,
            "grid_row": null,
            "grid_template_areas": null,
            "grid_template_columns": null,
            "grid_template_rows": null,
            "height": null,
            "justify_content": null,
            "justify_items": null,
            "left": null,
            "margin": null,
            "max_height": null,
            "max_width": null,
            "min_height": null,
            "min_width": null,
            "object_fit": null,
            "object_position": null,
            "order": null,
            "overflow": null,
            "overflow_x": null,
            "overflow_y": null,
            "padding": null,
            "right": null,
            "top": null,
            "visibility": null,
            "width": null
          }
        },
        "43af5e2c0860458fabc72918dbaefbe0": {
          "model_module": "@jupyter-widgets/controls",
          "model_module_version": "1.5.0",
          "model_name": "FloatProgressModel",
          "state": {
            "_dom_classes": [],
            "_model_module": "@jupyter-widgets/controls",
            "_model_module_version": "1.5.0",
            "_model_name": "FloatProgressModel",
            "_view_count": null,
            "_view_module": "@jupyter-widgets/controls",
            "_view_module_version": "1.5.0",
            "_view_name": "ProgressView",
            "bar_style": "success",
            "description": "",
            "description_tooltip": null,
            "layout": "IPY_MODEL_2a2e678a9205480da4b26e80aea8f2fe",
            "max": 678,
            "min": 0,
            "orientation": "horizontal",
            "style": "IPY_MODEL_f38240d65cd34199b10458f6fec3a561",
            "value": 678
          }
        },
        "45d4070a7e1a49b68ab2535b83b1f7c4": {
          "model_module": "@jupyter-widgets/controls",
          "model_module_version": "1.5.0",
          "model_name": "ProgressStyleModel",
          "state": {
            "_model_module": "@jupyter-widgets/controls",
            "_model_module_version": "1.5.0",
            "_model_name": "ProgressStyleModel",
            "_view_count": null,
            "_view_module": "@jupyter-widgets/base",
            "_view_module_version": "1.2.0",
            "_view_name": "StyleView",
            "bar_color": null,
            "description_width": ""
          }
        },
        "4f286c442ea44ecb93c3be7bff526bac": {
          "model_module": "@jupyter-widgets/controls",
          "model_module_version": "1.5.0",
          "model_name": "DescriptionStyleModel",
          "state": {
            "_model_module": "@jupyter-widgets/controls",
            "_model_module_version": "1.5.0",
            "_model_name": "DescriptionStyleModel",
            "_view_count": null,
            "_view_module": "@jupyter-widgets/base",
            "_view_module_version": "1.2.0",
            "_view_name": "StyleView",
            "description_width": ""
          }
        },
        "4fdcbef0dec4466dbd32e3de83c808e6": {
          "model_module": "@jupyter-widgets/controls",
          "model_module_version": "1.5.0",
          "model_name": "DescriptionStyleModel",
          "state": {
            "_model_module": "@jupyter-widgets/controls",
            "_model_module_version": "1.5.0",
            "_model_name": "DescriptionStyleModel",
            "_view_count": null,
            "_view_module": "@jupyter-widgets/base",
            "_view_module_version": "1.2.0",
            "_view_name": "StyleView",
            "description_width": ""
          }
        },
        "53001c4fceb24b6c8685c8f6457a52df": {
          "model_module": "@jupyter-widgets/controls",
          "model_module_version": "1.5.0",
          "model_name": "ProgressStyleModel",
          "state": {
            "_model_module": "@jupyter-widgets/controls",
            "_model_module_version": "1.5.0",
            "_model_name": "ProgressStyleModel",
            "_view_count": null,
            "_view_module": "@jupyter-widgets/base",
            "_view_module_version": "1.2.0",
            "_view_name": "StyleView",
            "bar_color": null,
            "description_width": ""
          }
        },
        "55566df945d84895b617de03381bdb69": {
          "model_module": "@jupyter-widgets/base",
          "model_module_version": "1.2.0",
          "model_name": "LayoutModel",
          "state": {
            "_model_module": "@jupyter-widgets/base",
            "_model_module_version": "1.2.0",
            "_model_name": "LayoutModel",
            "_view_count": null,
            "_view_module": "@jupyter-widgets/base",
            "_view_module_version": "1.2.0",
            "_view_name": "LayoutView",
            "align_content": null,
            "align_items": null,
            "align_self": null,
            "border": null,
            "bottom": null,
            "display": null,
            "flex": null,
            "flex_flow": null,
            "grid_area": null,
            "grid_auto_columns": null,
            "grid_auto_flow": null,
            "grid_auto_rows": null,
            "grid_column": null,
            "grid_gap": null,
            "grid_row": null,
            "grid_template_areas": null,
            "grid_template_columns": null,
            "grid_template_rows": null,
            "height": null,
            "justify_content": null,
            "justify_items": null,
            "left": null,
            "margin": null,
            "max_height": null,
            "max_width": null,
            "min_height": null,
            "min_width": null,
            "object_fit": null,
            "object_position": null,
            "order": null,
            "overflow": null,
            "overflow_x": null,
            "overflow_y": null,
            "padding": null,
            "right": null,
            "top": null,
            "visibility": null,
            "width": null
          }
        },
        "566dad7e052f4227a5717824b208bb84": {
          "model_module": "@jupyter-widgets/base",
          "model_module_version": "1.2.0",
          "model_name": "LayoutModel",
          "state": {
            "_model_module": "@jupyter-widgets/base",
            "_model_module_version": "1.2.0",
            "_model_name": "LayoutModel",
            "_view_count": null,
            "_view_module": "@jupyter-widgets/base",
            "_view_module_version": "1.2.0",
            "_view_name": "LayoutView",
            "align_content": null,
            "align_items": null,
            "align_self": null,
            "border": null,
            "bottom": null,
            "display": null,
            "flex": null,
            "flex_flow": null,
            "grid_area": null,
            "grid_auto_columns": null,
            "grid_auto_flow": null,
            "grid_auto_rows": null,
            "grid_column": null,
            "grid_gap": null,
            "grid_row": null,
            "grid_template_areas": null,
            "grid_template_columns": null,
            "grid_template_rows": null,
            "height": null,
            "justify_content": null,
            "justify_items": null,
            "left": null,
            "margin": null,
            "max_height": null,
            "max_width": null,
            "min_height": null,
            "min_width": null,
            "object_fit": null,
            "object_position": null,
            "order": null,
            "overflow": null,
            "overflow_x": null,
            "overflow_y": null,
            "padding": null,
            "right": null,
            "top": null,
            "visibility": null,
            "width": null
          }
        },
        "5d60d8524fd943099c5b346895cb55ad": {
          "model_module": "@jupyter-widgets/controls",
          "model_module_version": "1.5.0",
          "model_name": "HBoxModel",
          "state": {
            "_dom_classes": [],
            "_model_module": "@jupyter-widgets/controls",
            "_model_module_version": "1.5.0",
            "_model_name": "HBoxModel",
            "_view_count": null,
            "_view_module": "@jupyter-widgets/controls",
            "_view_module_version": "1.5.0",
            "_view_name": "HBoxView",
            "box_style": "",
            "children": [
              "IPY_MODEL_781d933e037a48feb88c13473384de34",
              "IPY_MODEL_94831dd6afc549f69b5c7528eae48cd4",
              "IPY_MODEL_9907536478cf45759a517379e409893a"
            ],
            "layout": "IPY_MODEL_7cecee774f84459b9e118e3277217034"
          }
        },
        "5ebcd590768042c4a39cf2b0a66a9a3b": {
          "model_module": "@jupyter-widgets/controls",
          "model_module_version": "1.5.0",
          "model_name": "HTMLModel",
          "state": {
            "_dom_classes": [],
            "_model_module": "@jupyter-widgets/controls",
            "_model_module_version": "1.5.0",
            "_model_name": "HTMLModel",
            "_view_count": null,
            "_view_module": "@jupyter-widgets/controls",
            "_view_module_version": "1.5.0",
            "_view_name": "HTMLView",
            "description": "",
            "description_tooltip": null,
            "layout": "IPY_MODEL_647dd7bbc8754423a601187b7e7a5643",
            "placeholder": "​",
            "style": "IPY_MODEL_6d334f0fc26d4845a52c05aef2676f67",
            "value": "tokenizer.json: 100%"
          }
        },
        "63549f5e05f64726b5b2972f7fc111af": {
          "model_module": "@jupyter-widgets/controls",
          "model_module_version": "1.5.0",
          "model_name": "HBoxModel",
          "state": {
            "_dom_classes": [],
            "_model_module": "@jupyter-widgets/controls",
            "_model_module_version": "1.5.0",
            "_model_name": "HBoxModel",
            "_view_count": null,
            "_view_module": "@jupyter-widgets/controls",
            "_view_module_version": "1.5.0",
            "_view_name": "HBoxView",
            "box_style": "",
            "children": [
              "IPY_MODEL_5ebcd590768042c4a39cf2b0a66a9a3b",
              "IPY_MODEL_a6caf99f49ce417882b146bab2c5c6fb",
              "IPY_MODEL_057b383852f742acb0d6da467ad84edd"
            ],
            "layout": "IPY_MODEL_566dad7e052f4227a5717824b208bb84"
          }
        },
        "647dd7bbc8754423a601187b7e7a5643": {
          "model_module": "@jupyter-widgets/base",
          "model_module_version": "1.2.0",
          "model_name": "LayoutModel",
          "state": {
            "_model_module": "@jupyter-widgets/base",
            "_model_module_version": "1.2.0",
            "_model_name": "LayoutModel",
            "_view_count": null,
            "_view_module": "@jupyter-widgets/base",
            "_view_module_version": "1.2.0",
            "_view_name": "LayoutView",
            "align_content": null,
            "align_items": null,
            "align_self": null,
            "border": null,
            "bottom": null,
            "display": null,
            "flex": null,
            "flex_flow": null,
            "grid_area": null,
            "grid_auto_columns": null,
            "grid_auto_flow": null,
            "grid_auto_rows": null,
            "grid_column": null,
            "grid_gap": null,
            "grid_row": null,
            "grid_template_areas": null,
            "grid_template_columns": null,
            "grid_template_rows": null,
            "height": null,
            "justify_content": null,
            "justify_items": null,
            "left": null,
            "margin": null,
            "max_height": null,
            "max_width": null,
            "min_height": null,
            "min_width": null,
            "object_fit": null,
            "object_position": null,
            "order": null,
            "overflow": null,
            "overflow_x": null,
            "overflow_y": null,
            "padding": null,
            "right": null,
            "top": null,
            "visibility": null,
            "width": null
          }
        },
        "674c992b2f0e4885abef04f7abf4daec": {
          "model_module": "@jupyter-widgets/controls",
          "model_module_version": "1.5.0",
          "model_name": "HTMLModel",
          "state": {
            "_dom_classes": [],
            "_model_module": "@jupyter-widgets/controls",
            "_model_module_version": "1.5.0",
            "_model_name": "HTMLModel",
            "_view_count": null,
            "_view_module": "@jupyter-widgets/controls",
            "_view_module_version": "1.5.0",
            "_view_name": "HTMLView",
            "description": "",
            "description_tooltip": null,
            "layout": "IPY_MODEL_184c77f61b74420ba90c5759d2d07767",
            "placeholder": "​",
            "style": "IPY_MODEL_cca6f3f86ea149be8d0160ac1da2701e",
            "value": " 1.14M/1.14M [00:00&lt;00:00, 4.52MB/s]"
          }
        },
        "6bc705ed99ea4033b692f9d95977052e": {
          "model_module": "@jupyter-widgets/base",
          "model_module_version": "1.2.0",
          "model_name": "LayoutModel",
          "state": {
            "_model_module": "@jupyter-widgets/base",
            "_model_module_version": "1.2.0",
            "_model_name": "LayoutModel",
            "_view_count": null,
            "_view_module": "@jupyter-widgets/base",
            "_view_module_version": "1.2.0",
            "_view_name": "LayoutView",
            "align_content": null,
            "align_items": null,
            "align_self": null,
            "border": null,
            "bottom": null,
            "display": null,
            "flex": null,
            "flex_flow": null,
            "grid_area": null,
            "grid_auto_columns": null,
            "grid_auto_flow": null,
            "grid_auto_rows": null,
            "grid_column": null,
            "grid_gap": null,
            "grid_row": null,
            "grid_template_areas": null,
            "grid_template_columns": null,
            "grid_template_rows": null,
            "height": null,
            "justify_content": null,
            "justify_items": null,
            "left": null,
            "margin": null,
            "max_height": null,
            "max_width": null,
            "min_height": null,
            "min_width": null,
            "object_fit": null,
            "object_position": null,
            "order": null,
            "overflow": null,
            "overflow_x": null,
            "overflow_y": null,
            "padding": null,
            "right": null,
            "top": null,
            "visibility": null,
            "width": null
          }
        },
        "6d334f0fc26d4845a52c05aef2676f67": {
          "model_module": "@jupyter-widgets/controls",
          "model_module_version": "1.5.0",
          "model_name": "DescriptionStyleModel",
          "state": {
            "_model_module": "@jupyter-widgets/controls",
            "_model_module_version": "1.5.0",
            "_model_name": "DescriptionStyleModel",
            "_view_count": null,
            "_view_module": "@jupyter-widgets/base",
            "_view_module_version": "1.2.0",
            "_view_name": "StyleView",
            "description_width": ""
          }
        },
        "6fc7a2f283f74be6a52caf97473cd4a4": {
          "model_module": "@jupyter-widgets/base",
          "model_module_version": "1.2.0",
          "model_name": "LayoutModel",
          "state": {
            "_model_module": "@jupyter-widgets/base",
            "_model_module_version": "1.2.0",
            "_model_name": "LayoutModel",
            "_view_count": null,
            "_view_module": "@jupyter-widgets/base",
            "_view_module_version": "1.2.0",
            "_view_name": "LayoutView",
            "align_content": null,
            "align_items": null,
            "align_self": null,
            "border": null,
            "bottom": null,
            "display": null,
            "flex": null,
            "flex_flow": null,
            "grid_area": null,
            "grid_auto_columns": null,
            "grid_auto_flow": null,
            "grid_auto_rows": null,
            "grid_column": null,
            "grid_gap": null,
            "grid_row": null,
            "grid_template_areas": null,
            "grid_template_columns": null,
            "grid_template_rows": null,
            "height": null,
            "justify_content": null,
            "justify_items": null,
            "left": null,
            "margin": null,
            "max_height": null,
            "max_width": null,
            "min_height": null,
            "min_width": null,
            "object_fit": null,
            "object_position": null,
            "order": null,
            "overflow": null,
            "overflow_x": null,
            "overflow_y": null,
            "padding": null,
            "right": null,
            "top": null,
            "visibility": null,
            "width": null
          }
        },
        "713a8372d14e49418caeca871e41476d": {
          "model_module": "@jupyter-widgets/controls",
          "model_module_version": "1.5.0",
          "model_name": "DescriptionStyleModel",
          "state": {
            "_model_module": "@jupyter-widgets/controls",
            "_model_module_version": "1.5.0",
            "_model_name": "DescriptionStyleModel",
            "_view_count": null,
            "_view_module": "@jupyter-widgets/base",
            "_view_module_version": "1.2.0",
            "_view_name": "StyleView",
            "description_width": ""
          }
        },
        "75e8cc01921f4cc98e346df9fe20d587": {
          "model_module": "@jupyter-widgets/controls",
          "model_module_version": "1.5.0",
          "model_name": "HTMLModel",
          "state": {
            "_dom_classes": [],
            "_model_module": "@jupyter-widgets/controls",
            "_model_module_version": "1.5.0",
            "_model_name": "HTMLModel",
            "_view_count": null,
            "_view_module": "@jupyter-widgets/controls",
            "_view_module_version": "1.5.0",
            "_view_name": "HTMLView",
            "description": "",
            "description_tooltip": null,
            "layout": "IPY_MODEL_6bc705ed99ea4033b692f9d95977052e",
            "placeholder": "​",
            "style": "IPY_MODEL_b43c9360d9774281beaeeecfc89ec00d",
            "value": " 540M/540M [00:03&lt;00:00, 126MB/s]"
          }
        },
        "781d933e037a48feb88c13473384de34": {
          "model_module": "@jupyter-widgets/controls",
          "model_module_version": "1.5.0",
          "model_name": "HTMLModel",
          "state": {
            "_dom_classes": [],
            "_model_module": "@jupyter-widgets/controls",
            "_model_module_version": "1.5.0",
            "_model_name": "HTMLModel",
            "_view_count": null,
            "_view_module": "@jupyter-widgets/controls",
            "_view_module_version": "1.5.0",
            "_view_name": "HTMLView",
            "description": "",
            "description_tooltip": null,
            "layout": "IPY_MODEL_55566df945d84895b617de03381bdb69",
            "placeholder": "​",
            "style": "IPY_MODEL_a8e275ca5d20454290fb4b227df0d8fa",
            "value": "Downloading builder script: 100%"
          }
        },
        "7a59cc96e46e44d7a4588161f8586c13": {
          "model_module": "@jupyter-widgets/base",
          "model_module_version": "1.2.0",
          "model_name": "LayoutModel",
          "state": {
            "_model_module": "@jupyter-widgets/base",
            "_model_module_version": "1.2.0",
            "_model_name": "LayoutModel",
            "_view_count": null,
            "_view_module": "@jupyter-widgets/base",
            "_view_module_version": "1.2.0",
            "_view_name": "LayoutView",
            "align_content": null,
            "align_items": null,
            "align_self": null,
            "border": null,
            "bottom": null,
            "display": null,
            "flex": null,
            "flex_flow": null,
            "grid_area": null,
            "grid_auto_columns": null,
            "grid_auto_flow": null,
            "grid_auto_rows": null,
            "grid_column": null,
            "grid_gap": null,
            "grid_row": null,
            "grid_template_areas": null,
            "grid_template_columns": null,
            "grid_template_rows": null,
            "height": null,
            "justify_content": null,
            "justify_items": null,
            "left": null,
            "margin": null,
            "max_height": null,
            "max_width": null,
            "min_height": null,
            "min_width": null,
            "object_fit": null,
            "object_position": null,
            "order": null,
            "overflow": null,
            "overflow_x": null,
            "overflow_y": null,
            "padding": null,
            "right": null,
            "top": null,
            "visibility": null,
            "width": null
          }
        },
        "7b80a3b039da47108ca649279f4f1979": {
          "model_module": "@jupyter-widgets/base",
          "model_module_version": "1.2.0",
          "model_name": "LayoutModel",
          "state": {
            "_model_module": "@jupyter-widgets/base",
            "_model_module_version": "1.2.0",
            "_model_name": "LayoutModel",
            "_view_count": null,
            "_view_module": "@jupyter-widgets/base",
            "_view_module_version": "1.2.0",
            "_view_name": "LayoutView",
            "align_content": null,
            "align_items": null,
            "align_self": null,
            "border": null,
            "bottom": null,
            "display": null,
            "flex": null,
            "flex_flow": null,
            "grid_area": null,
            "grid_auto_columns": null,
            "grid_auto_flow": null,
            "grid_auto_rows": null,
            "grid_column": null,
            "grid_gap": null,
            "grid_row": null,
            "grid_template_areas": null,
            "grid_template_columns": null,
            "grid_template_rows": null,
            "height": null,
            "justify_content": null,
            "justify_items": null,
            "left": null,
            "margin": null,
            "max_height": null,
            "max_width": null,
            "min_height": null,
            "min_width": null,
            "object_fit": null,
            "object_position": null,
            "order": null,
            "overflow": null,
            "overflow_x": null,
            "overflow_y": null,
            "padding": null,
            "right": null,
            "top": null,
            "visibility": null,
            "width": null
          }
        },
        "7b930b490c6048208d81048ae1f624ed": {
          "model_module": "@jupyter-widgets/controls",
          "model_module_version": "1.5.0",
          "model_name": "ProgressStyleModel",
          "state": {
            "_model_module": "@jupyter-widgets/controls",
            "_model_module_version": "1.5.0",
            "_model_name": "ProgressStyleModel",
            "_view_count": null,
            "_view_module": "@jupyter-widgets/base",
            "_view_module_version": "1.2.0",
            "_view_name": "StyleView",
            "bar_color": null,
            "description_width": ""
          }
        },
        "7cecee774f84459b9e118e3277217034": {
          "model_module": "@jupyter-widgets/base",
          "model_module_version": "1.2.0",
          "model_name": "LayoutModel",
          "state": {
            "_model_module": "@jupyter-widgets/base",
            "_model_module_version": "1.2.0",
            "_model_name": "LayoutModel",
            "_view_count": null,
            "_view_module": "@jupyter-widgets/base",
            "_view_module_version": "1.2.0",
            "_view_name": "LayoutView",
            "align_content": null,
            "align_items": null,
            "align_self": null,
            "border": null,
            "bottom": null,
            "display": null,
            "flex": null,
            "flex_flow": null,
            "grid_area": null,
            "grid_auto_columns": null,
            "grid_auto_flow": null,
            "grid_auto_rows": null,
            "grid_column": null,
            "grid_gap": null,
            "grid_row": null,
            "grid_template_areas": null,
            "grid_template_columns": null,
            "grid_template_rows": null,
            "height": null,
            "justify_content": null,
            "justify_items": null,
            "left": null,
            "margin": null,
            "max_height": null,
            "max_width": null,
            "min_height": null,
            "min_width": null,
            "object_fit": null,
            "object_position": null,
            "order": null,
            "overflow": null,
            "overflow_x": null,
            "overflow_y": null,
            "padding": null,
            "right": null,
            "top": null,
            "visibility": null,
            "width": null
          }
        },
        "7f5ede8f2d444c90a1ae62416e278cbb": {
          "model_module": "@jupyter-widgets/base",
          "model_module_version": "1.2.0",
          "model_name": "LayoutModel",
          "state": {
            "_model_module": "@jupyter-widgets/base",
            "_model_module_version": "1.2.0",
            "_model_name": "LayoutModel",
            "_view_count": null,
            "_view_module": "@jupyter-widgets/base",
            "_view_module_version": "1.2.0",
            "_view_name": "LayoutView",
            "align_content": null,
            "align_items": null,
            "align_self": null,
            "border": null,
            "bottom": null,
            "display": null,
            "flex": null,
            "flex_flow": null,
            "grid_area": null,
            "grid_auto_columns": null,
            "grid_auto_flow": null,
            "grid_auto_rows": null,
            "grid_column": null,
            "grid_gap": null,
            "grid_row": null,
            "grid_template_areas": null,
            "grid_template_columns": null,
            "grid_template_rows": null,
            "height": null,
            "justify_content": null,
            "justify_items": null,
            "left": null,
            "margin": null,
            "max_height": null,
            "max_width": null,
            "min_height": null,
            "min_width": null,
            "object_fit": null,
            "object_position": null,
            "order": null,
            "overflow": null,
            "overflow_x": null,
            "overflow_y": null,
            "padding": null,
            "right": null,
            "top": null,
            "visibility": null,
            "width": null
          }
        },
        "7f77336e439640ba8aabe2cfc6a620c1": {
          "model_module": "@jupyter-widgets/base",
          "model_module_version": "1.2.0",
          "model_name": "LayoutModel",
          "state": {
            "_model_module": "@jupyter-widgets/base",
            "_model_module_version": "1.2.0",
            "_model_name": "LayoutModel",
            "_view_count": null,
            "_view_module": "@jupyter-widgets/base",
            "_view_module_version": "1.2.0",
            "_view_name": "LayoutView",
            "align_content": null,
            "align_items": null,
            "align_self": null,
            "border": null,
            "bottom": null,
            "display": null,
            "flex": null,
            "flex_flow": null,
            "grid_area": null,
            "grid_auto_columns": null,
            "grid_auto_flow": null,
            "grid_auto_rows": null,
            "grid_column": null,
            "grid_gap": null,
            "grid_row": null,
            "grid_template_areas": null,
            "grid_template_columns": null,
            "grid_template_rows": null,
            "height": null,
            "justify_content": null,
            "justify_items": null,
            "left": null,
            "margin": null,
            "max_height": null,
            "max_width": null,
            "min_height": null,
            "min_width": null,
            "object_fit": null,
            "object_position": null,
            "order": null,
            "overflow": null,
            "overflow_x": null,
            "overflow_y": null,
            "padding": null,
            "right": null,
            "top": null,
            "visibility": null,
            "width": null
          }
        },
        "80d04a2779054fd8ab29e4119d334490": {
          "model_module": "@jupyter-widgets/base",
          "model_module_version": "1.2.0",
          "model_name": "LayoutModel",
          "state": {
            "_model_module": "@jupyter-widgets/base",
            "_model_module_version": "1.2.0",
            "_model_name": "LayoutModel",
            "_view_count": null,
            "_view_module": "@jupyter-widgets/base",
            "_view_module_version": "1.2.0",
            "_view_name": "LayoutView",
            "align_content": null,
            "align_items": null,
            "align_self": null,
            "border": null,
            "bottom": null,
            "display": null,
            "flex": null,
            "flex_flow": null,
            "grid_area": null,
            "grid_auto_columns": null,
            "grid_auto_flow": null,
            "grid_auto_rows": null,
            "grid_column": null,
            "grid_gap": null,
            "grid_row": null,
            "grid_template_areas": null,
            "grid_template_columns": null,
            "grid_template_rows": null,
            "height": null,
            "justify_content": null,
            "justify_items": null,
            "left": null,
            "margin": null,
            "max_height": null,
            "max_width": null,
            "min_height": null,
            "min_width": null,
            "object_fit": null,
            "object_position": null,
            "order": null,
            "overflow": null,
            "overflow_x": null,
            "overflow_y": null,
            "padding": null,
            "right": null,
            "top": null,
            "visibility": null,
            "width": null
          }
        },
        "839dbcaf318044a1a91ff0d141c65618": {
          "model_module": "@jupyter-widgets/controls",
          "model_module_version": "1.5.0",
          "model_name": "HTMLModel",
          "state": {
            "_dom_classes": [],
            "_model_module": "@jupyter-widgets/controls",
            "_model_module_version": "1.5.0",
            "_model_name": "HTMLModel",
            "_view_count": null,
            "_view_module": "@jupyter-widgets/controls",
            "_view_module_version": "1.5.0",
            "_view_name": "HTMLView",
            "description": "",
            "description_tooltip": null,
            "layout": "IPY_MODEL_11fd3b3d22d842508e00a1ff7cbd68f2",
            "placeholder": "​",
            "style": "IPY_MODEL_4f286c442ea44ecb93c3be7bff526bac",
            "value": " 678/678 [00:00&lt;00:00, 29.4kB/s]"
          }
        },
        "8590a5b611ba4dbd94fc0a408347998f": {
          "model_module": "@jupyter-widgets/controls",
          "model_module_version": "1.5.0",
          "model_name": "DescriptionStyleModel",
          "state": {
            "_model_module": "@jupyter-widgets/controls",
            "_model_module_version": "1.5.0",
            "_model_name": "DescriptionStyleModel",
            "_view_count": null,
            "_view_module": "@jupyter-widgets/base",
            "_view_module_version": "1.2.0",
            "_view_name": "StyleView",
            "description_width": ""
          }
        },
        "8c8612f33d2c491a92ce9a47c9f612fe": {
          "model_module": "@jupyter-widgets/controls",
          "model_module_version": "1.5.0",
          "model_name": "DescriptionStyleModel",
          "state": {
            "_model_module": "@jupyter-widgets/controls",
            "_model_module_version": "1.5.0",
            "_model_name": "DescriptionStyleModel",
            "_view_count": null,
            "_view_module": "@jupyter-widgets/base",
            "_view_module_version": "1.2.0",
            "_view_name": "StyleView",
            "description_width": ""
          }
        },
        "94831dd6afc549f69b5c7528eae48cd4": {
          "model_module": "@jupyter-widgets/controls",
          "model_module_version": "1.5.0",
          "model_name": "FloatProgressModel",
          "state": {
            "_dom_classes": [],
            "_model_module": "@jupyter-widgets/controls",
            "_model_module_version": "1.5.0",
            "_model_name": "FloatProgressModel",
            "_view_count": null,
            "_view_module": "@jupyter-widgets/controls",
            "_view_module_version": "1.5.0",
            "_view_name": "ProgressView",
            "bar_style": "success",
            "description": "",
            "description_tooltip": null,
            "layout": "IPY_MODEL_f83d7cb64cd54cf9b6bf5c601e2fd3fc",
            "max": 4203,
            "min": 0,
            "orientation": "horizontal",
            "style": "IPY_MODEL_c663589e87ba4cfb8ec2318a719f9a34",
            "value": 4203
          }
        },
        "9907536478cf45759a517379e409893a": {
          "model_module": "@jupyter-widgets/controls",
          "model_module_version": "1.5.0",
          "model_name": "HTMLModel",
          "state": {
            "_dom_classes": [],
            "_model_module": "@jupyter-widgets/controls",
            "_model_module_version": "1.5.0",
            "_model_name": "HTMLModel",
            "_view_count": null,
            "_view_module": "@jupyter-widgets/controls",
            "_view_module_version": "1.5.0",
            "_view_name": "HTMLView",
            "description": "",
            "description_tooltip": null,
            "layout": "IPY_MODEL_dd535ed8c74d49aabfb6b30d9104a5ad",
            "placeholder": "​",
            "style": "IPY_MODEL_8c8612f33d2c491a92ce9a47c9f612fe",
            "value": " 4.20k/4.20k [00:00&lt;00:00, 85.4kB/s]"
          }
        },
        "9d7db848873c4aafa88c1bfcc2e1b021": {
          "model_module": "@jupyter-widgets/controls",
          "model_module_version": "1.5.0",
          "model_name": "HBoxModel",
          "state": {
            "_dom_classes": [],
            "_model_module": "@jupyter-widgets/controls",
            "_model_module_version": "1.5.0",
            "_model_name": "HBoxModel",
            "_view_count": null,
            "_view_module": "@jupyter-widgets/controls",
            "_view_module_version": "1.5.0",
            "_view_name": "HBoxView",
            "box_style": "",
            "children": [
              "IPY_MODEL_03bef6afc6e14f03bd3424ec009a6541",
              "IPY_MODEL_d1842bb6b0324c1d905e20e9d78e59a3",
              "IPY_MODEL_674c992b2f0e4885abef04f7abf4daec"
            ],
            "layout": "IPY_MODEL_1388318749cb4d26afae0907da04b011"
          }
        },
        "a6caf99f49ce417882b146bab2c5c6fb": {
          "model_module": "@jupyter-widgets/controls",
          "model_module_version": "1.5.0",
          "model_name": "FloatProgressModel",
          "state": {
            "_dom_classes": [],
            "_model_module": "@jupyter-widgets/controls",
            "_model_module_version": "1.5.0",
            "_model_name": "FloatProgressModel",
            "_view_count": null,
            "_view_module": "@jupyter-widgets/controls",
            "_view_module_version": "1.5.0",
            "_view_name": "ProgressView",
            "bar_style": "success",
            "description": "",
            "description_tooltip": null,
            "layout": "IPY_MODEL_d41de0dfb65a47bd8f74a2e6a74a7283",
            "max": 3132320,
            "min": 0,
            "orientation": "horizontal",
            "style": "IPY_MODEL_7b930b490c6048208d81048ae1f624ed",
            "value": 3132320
          }
        },
        "a8e275ca5d20454290fb4b227df0d8fa": {
          "model_module": "@jupyter-widgets/controls",
          "model_module_version": "1.5.0",
          "model_name": "DescriptionStyleModel",
          "state": {
            "_model_module": "@jupyter-widgets/controls",
            "_model_module_version": "1.5.0",
            "_model_name": "DescriptionStyleModel",
            "_view_count": null,
            "_view_module": "@jupyter-widgets/base",
            "_view_module_version": "1.2.0",
            "_view_name": "StyleView",
            "description_width": ""
          }
        },
        "ab8ce04af0d74e0a8a3dc673d8c09ac4": {
          "model_module": "@jupyter-widgets/controls",
          "model_module_version": "1.5.0",
          "model_name": "DescriptionStyleModel",
          "state": {
            "_model_module": "@jupyter-widgets/controls",
            "_model_module_version": "1.5.0",
            "_model_name": "DescriptionStyleModel",
            "_view_count": null,
            "_view_module": "@jupyter-widgets/base",
            "_view_module_version": "1.2.0",
            "_view_name": "StyleView",
            "description_width": ""
          }
        },
        "b1067bd7e70246bfb7c566f02a4a01ed": {
          "model_module": "@jupyter-widgets/controls",
          "model_module_version": "1.5.0",
          "model_name": "FloatProgressModel",
          "state": {
            "_dom_classes": [],
            "_model_module": "@jupyter-widgets/controls",
            "_model_module_version": "1.5.0",
            "_model_name": "FloatProgressModel",
            "_view_count": null,
            "_view_module": "@jupyter-widgets/controls",
            "_view_module_version": "1.5.0",
            "_view_name": "ProgressView",
            "bar_style": "success",
            "description": "",
            "description_tooltip": null,
            "layout": "IPY_MODEL_6fc7a2f283f74be6a52caf97473cd4a4",
            "max": 895321,
            "min": 0,
            "orientation": "horizontal",
            "style": "IPY_MODEL_fbd5a5a708b444b09410813c2ff2a3cd",
            "value": 895321
          }
        },
        "b43c9360d9774281beaeeecfc89ec00d": {
          "model_module": "@jupyter-widgets/controls",
          "model_module_version": "1.5.0",
          "model_name": "DescriptionStyleModel",
          "state": {
            "_model_module": "@jupyter-widgets/controls",
            "_model_module_version": "1.5.0",
            "_model_name": "DescriptionStyleModel",
            "_view_count": null,
            "_view_module": "@jupyter-widgets/base",
            "_view_module_version": "1.2.0",
            "_view_name": "StyleView",
            "description_width": ""
          }
        },
        "b5df0102b52940ef9990ad766ab38b7f": {
          "model_module": "@jupyter-widgets/controls",
          "model_module_version": "1.5.0",
          "model_name": "FloatProgressModel",
          "state": {
            "_dom_classes": [],
            "_model_module": "@jupyter-widgets/controls",
            "_model_module_version": "1.5.0",
            "_model_name": "FloatProgressModel",
            "_view_count": null,
            "_view_module": "@jupyter-widgets/controls",
            "_view_module_version": "1.5.0",
            "_view_name": "ProgressView",
            "bar_style": "success",
            "description": "",
            "description_tooltip": null,
            "layout": "IPY_MODEL_f1e8e0f8381e4b058aed8c3f5c734508",
            "max": 540322347,
            "min": 0,
            "orientation": "horizontal",
            "style": "IPY_MODEL_53001c4fceb24b6c8685c8f6457a52df",
            "value": 540322347
          }
        },
        "b724e1c96d484493bf2dcb20d763413b": {
          "model_module": "@jupyter-widgets/controls",
          "model_module_version": "1.5.0",
          "model_name": "DescriptionStyleModel",
          "state": {
            "_model_module": "@jupyter-widgets/controls",
            "_model_module_version": "1.5.0",
            "_model_name": "DescriptionStyleModel",
            "_view_count": null,
            "_view_module": "@jupyter-widgets/base",
            "_view_module_version": "1.2.0",
            "_view_name": "StyleView",
            "description_width": ""
          }
        },
        "baebbb54c0f04095b7d0fe89d2f9e0fc": {
          "model_module": "@jupyter-widgets/controls",
          "model_module_version": "1.5.0",
          "model_name": "HBoxModel",
          "state": {
            "_dom_classes": [],
            "_model_module": "@jupyter-widgets/controls",
            "_model_module_version": "1.5.0",
            "_model_name": "HBoxModel",
            "_view_count": null,
            "_view_module": "@jupyter-widgets/controls",
            "_view_module_version": "1.5.0",
            "_view_name": "HBoxView",
            "box_style": "",
            "children": [
              "IPY_MODEL_c00e0f5b2afa4e5da15056295f28879a",
              "IPY_MODEL_43af5e2c0860458fabc72918dbaefbe0",
              "IPY_MODEL_839dbcaf318044a1a91ff0d141c65618"
            ],
            "layout": "IPY_MODEL_7b80a3b039da47108ca649279f4f1979"
          }
        },
        "c00e0f5b2afa4e5da15056295f28879a": {
          "model_module": "@jupyter-widgets/controls",
          "model_module_version": "1.5.0",
          "model_name": "HTMLModel",
          "state": {
            "_dom_classes": [],
            "_model_module": "@jupyter-widgets/controls",
            "_model_module_version": "1.5.0",
            "_model_name": "HTMLModel",
            "_view_count": null,
            "_view_module": "@jupyter-widgets/controls",
            "_view_module_version": "1.5.0",
            "_view_name": "HTMLView",
            "description": "",
            "description_tooltip": null,
            "layout": "IPY_MODEL_e777ac16f5d04ef3bd6b9a80de49390d",
            "placeholder": "​",
            "style": "IPY_MODEL_ab8ce04af0d74e0a8a3dc673d8c09ac4",
            "value": "config.json: 100%"
          }
        },
        "c33a7c45eb2b40819f319482f829ca16": {
          "model_module": "@jupyter-widgets/base",
          "model_module_version": "1.2.0",
          "model_name": "LayoutModel",
          "state": {
            "_model_module": "@jupyter-widgets/base",
            "_model_module_version": "1.2.0",
            "_model_name": "LayoutModel",
            "_view_count": null,
            "_view_module": "@jupyter-widgets/base",
            "_view_module_version": "1.2.0",
            "_view_name": "LayoutView",
            "align_content": null,
            "align_items": null,
            "align_self": null,
            "border": null,
            "bottom": null,
            "display": null,
            "flex": null,
            "flex_flow": null,
            "grid_area": null,
            "grid_auto_columns": null,
            "grid_auto_flow": null,
            "grid_auto_rows": null,
            "grid_column": null,
            "grid_gap": null,
            "grid_row": null,
            "grid_template_areas": null,
            "grid_template_columns": null,
            "grid_template_rows": null,
            "height": null,
            "justify_content": null,
            "justify_items": null,
            "left": null,
            "margin": null,
            "max_height": null,
            "max_width": null,
            "min_height": null,
            "min_width": null,
            "object_fit": null,
            "object_position": null,
            "order": null,
            "overflow": null,
            "overflow_x": null,
            "overflow_y": null,
            "padding": null,
            "right": null,
            "top": null,
            "visibility": null,
            "width": null
          }
        },
        "c62e9a5a18294e119f138ca1dc67bc43": {
          "model_module": "@jupyter-widgets/controls",
          "model_module_version": "1.5.0",
          "model_name": "HTMLModel",
          "state": {
            "_dom_classes": [],
            "_model_module": "@jupyter-widgets/controls",
            "_model_module_version": "1.5.0",
            "_model_name": "HTMLModel",
            "_view_count": null,
            "_view_module": "@jupyter-widgets/controls",
            "_view_module_version": "1.5.0",
            "_view_name": "HTMLView",
            "description": "",
            "description_tooltip": null,
            "layout": "IPY_MODEL_f6c540e350e64552bff17ac35c55dd1d",
            "placeholder": "​",
            "style": "IPY_MODEL_713a8372d14e49418caeca871e41476d",
            "value": "pytorch_model.bin: 100%"
          }
        },
        "c663589e87ba4cfb8ec2318a719f9a34": {
          "model_module": "@jupyter-widgets/controls",
          "model_module_version": "1.5.0",
          "model_name": "ProgressStyleModel",
          "state": {
            "_model_module": "@jupyter-widgets/controls",
            "_model_module_version": "1.5.0",
            "_model_name": "ProgressStyleModel",
            "_view_count": null,
            "_view_module": "@jupyter-widgets/base",
            "_view_module_version": "1.2.0",
            "_view_name": "StyleView",
            "bar_color": null,
            "description_width": ""
          }
        },
        "cca6f3f86ea149be8d0160ac1da2701e": {
          "model_module": "@jupyter-widgets/controls",
          "model_module_version": "1.5.0",
          "model_name": "DescriptionStyleModel",
          "state": {
            "_model_module": "@jupyter-widgets/controls",
            "_model_module_version": "1.5.0",
            "_model_name": "DescriptionStyleModel",
            "_view_count": null,
            "_view_module": "@jupyter-widgets/base",
            "_view_module_version": "1.2.0",
            "_view_name": "StyleView",
            "description_width": ""
          }
        },
        "d1842bb6b0324c1d905e20e9d78e59a3": {
          "model_module": "@jupyter-widgets/controls",
          "model_module_version": "1.5.0",
          "model_name": "FloatProgressModel",
          "state": {
            "_dom_classes": [],
            "_model_module": "@jupyter-widgets/controls",
            "_model_module_version": "1.5.0",
            "_model_name": "FloatProgressModel",
            "_view_count": null,
            "_view_module": "@jupyter-widgets/controls",
            "_view_module_version": "1.5.0",
            "_view_name": "ProgressView",
            "bar_style": "success",
            "description": "",
            "description_tooltip": null,
            "layout": "IPY_MODEL_7a59cc96e46e44d7a4588161f8586c13",
            "max": 1135173,
            "min": 0,
            "orientation": "horizontal",
            "style": "IPY_MODEL_45d4070a7e1a49b68ab2535b83b1f7c4",
            "value": 1135173
          }
        },
        "d41de0dfb65a47bd8f74a2e6a74a7283": {
          "model_module": "@jupyter-widgets/base",
          "model_module_version": "1.2.0",
          "model_name": "LayoutModel",
          "state": {
            "_model_module": "@jupyter-widgets/base",
            "_model_module_version": "1.2.0",
            "_model_name": "LayoutModel",
            "_view_count": null,
            "_view_module": "@jupyter-widgets/base",
            "_view_module_version": "1.2.0",
            "_view_name": "LayoutView",
            "align_content": null,
            "align_items": null,
            "align_self": null,
            "border": null,
            "bottom": null,
            "display": null,
            "flex": null,
            "flex_flow": null,
            "grid_area": null,
            "grid_auto_columns": null,
            "grid_auto_flow": null,
            "grid_auto_rows": null,
            "grid_column": null,
            "grid_gap": null,
            "grid_row": null,
            "grid_template_areas": null,
            "grid_template_columns": null,
            "grid_template_rows": null,
            "height": null,
            "justify_content": null,
            "justify_items": null,
            "left": null,
            "margin": null,
            "max_height": null,
            "max_width": null,
            "min_height": null,
            "min_width": null,
            "object_fit": null,
            "object_position": null,
            "order": null,
            "overflow": null,
            "overflow_x": null,
            "overflow_y": null,
            "padding": null,
            "right": null,
            "top": null,
            "visibility": null,
            "width": null
          }
        },
        "dd535ed8c74d49aabfb6b30d9104a5ad": {
          "model_module": "@jupyter-widgets/base",
          "model_module_version": "1.2.0",
          "model_name": "LayoutModel",
          "state": {
            "_model_module": "@jupyter-widgets/base",
            "_model_module_version": "1.2.0",
            "_model_name": "LayoutModel",
            "_view_count": null,
            "_view_module": "@jupyter-widgets/base",
            "_view_module_version": "1.2.0",
            "_view_name": "LayoutView",
            "align_content": null,
            "align_items": null,
            "align_self": null,
            "border": null,
            "bottom": null,
            "display": null,
            "flex": null,
            "flex_flow": null,
            "grid_area": null,
            "grid_auto_columns": null,
            "grid_auto_flow": null,
            "grid_auto_rows": null,
            "grid_column": null,
            "grid_gap": null,
            "grid_row": null,
            "grid_template_areas": null,
            "grid_template_columns": null,
            "grid_template_rows": null,
            "height": null,
            "justify_content": null,
            "justify_items": null,
            "left": null,
            "margin": null,
            "max_height": null,
            "max_width": null,
            "min_height": null,
            "min_width": null,
            "object_fit": null,
            "object_position": null,
            "order": null,
            "overflow": null,
            "overflow_x": null,
            "overflow_y": null,
            "padding": null,
            "right": null,
            "top": null,
            "visibility": null,
            "width": null
          }
        },
        "e777ac16f5d04ef3bd6b9a80de49390d": {
          "model_module": "@jupyter-widgets/base",
          "model_module_version": "1.2.0",
          "model_name": "LayoutModel",
          "state": {
            "_model_module": "@jupyter-widgets/base",
            "_model_module_version": "1.2.0",
            "_model_name": "LayoutModel",
            "_view_count": null,
            "_view_module": "@jupyter-widgets/base",
            "_view_module_version": "1.2.0",
            "_view_name": "LayoutView",
            "align_content": null,
            "align_items": null,
            "align_self": null,
            "border": null,
            "bottom": null,
            "display": null,
            "flex": null,
            "flex_flow": null,
            "grid_area": null,
            "grid_auto_columns": null,
            "grid_auto_flow": null,
            "grid_auto_rows": null,
            "grid_column": null,
            "grid_gap": null,
            "grid_row": null,
            "grid_template_areas": null,
            "grid_template_columns": null,
            "grid_template_rows": null,
            "height": null,
            "justify_content": null,
            "justify_items": null,
            "left": null,
            "margin": null,
            "max_height": null,
            "max_width": null,
            "min_height": null,
            "min_width": null,
            "object_fit": null,
            "object_position": null,
            "order": null,
            "overflow": null,
            "overflow_x": null,
            "overflow_y": null,
            "padding": null,
            "right": null,
            "top": null,
            "visibility": null,
            "width": null
          }
        },
        "f1e8e0f8381e4b058aed8c3f5c734508": {
          "model_module": "@jupyter-widgets/base",
          "model_module_version": "1.2.0",
          "model_name": "LayoutModel",
          "state": {
            "_model_module": "@jupyter-widgets/base",
            "_model_module_version": "1.2.0",
            "_model_name": "LayoutModel",
            "_view_count": null,
            "_view_module": "@jupyter-widgets/base",
            "_view_module_version": "1.2.0",
            "_view_name": "LayoutView",
            "align_content": null,
            "align_items": null,
            "align_self": null,
            "border": null,
            "bottom": null,
            "display": null,
            "flex": null,
            "flex_flow": null,
            "grid_area": null,
            "grid_auto_columns": null,
            "grid_auto_flow": null,
            "grid_auto_rows": null,
            "grid_column": null,
            "grid_gap": null,
            "grid_row": null,
            "grid_template_areas": null,
            "grid_template_columns": null,
            "grid_template_rows": null,
            "height": null,
            "justify_content": null,
            "justify_items": null,
            "left": null,
            "margin": null,
            "max_height": null,
            "max_width": null,
            "min_height": null,
            "min_width": null,
            "object_fit": null,
            "object_position": null,
            "order": null,
            "overflow": null,
            "overflow_x": null,
            "overflow_y": null,
            "padding": null,
            "right": null,
            "top": null,
            "visibility": null,
            "width": null
          }
        },
        "f38240d65cd34199b10458f6fec3a561": {
          "model_module": "@jupyter-widgets/controls",
          "model_module_version": "1.5.0",
          "model_name": "ProgressStyleModel",
          "state": {
            "_model_module": "@jupyter-widgets/controls",
            "_model_module_version": "1.5.0",
            "_model_name": "ProgressStyleModel",
            "_view_count": null,
            "_view_module": "@jupyter-widgets/base",
            "_view_module_version": "1.2.0",
            "_view_name": "StyleView",
            "bar_color": null,
            "description_width": ""
          }
        },
        "f6c540e350e64552bff17ac35c55dd1d": {
          "model_module": "@jupyter-widgets/base",
          "model_module_version": "1.2.0",
          "model_name": "LayoutModel",
          "state": {
            "_model_module": "@jupyter-widgets/base",
            "_model_module_version": "1.2.0",
            "_model_name": "LayoutModel",
            "_view_count": null,
            "_view_module": "@jupyter-widgets/base",
            "_view_module_version": "1.2.0",
            "_view_name": "LayoutView",
            "align_content": null,
            "align_items": null,
            "align_self": null,
            "border": null,
            "bottom": null,
            "display": null,
            "flex": null,
            "flex_flow": null,
            "grid_area": null,
            "grid_auto_columns": null,
            "grid_auto_flow": null,
            "grid_auto_rows": null,
            "grid_column": null,
            "grid_gap": null,
            "grid_row": null,
            "grid_template_areas": null,
            "grid_template_columns": null,
            "grid_template_rows": null,
            "height": null,
            "justify_content": null,
            "justify_items": null,
            "left": null,
            "margin": null,
            "max_height": null,
            "max_width": null,
            "min_height": null,
            "min_width": null,
            "object_fit": null,
            "object_position": null,
            "order": null,
            "overflow": null,
            "overflow_x": null,
            "overflow_y": null,
            "padding": null,
            "right": null,
            "top": null,
            "visibility": null,
            "width": null
          }
        },
        "f83d7cb64cd54cf9b6bf5c601e2fd3fc": {
          "model_module": "@jupyter-widgets/base",
          "model_module_version": "1.2.0",
          "model_name": "LayoutModel",
          "state": {
            "_model_module": "@jupyter-widgets/base",
            "_model_module_version": "1.2.0",
            "_model_name": "LayoutModel",
            "_view_count": null,
            "_view_module": "@jupyter-widgets/base",
            "_view_module_version": "1.2.0",
            "_view_name": "LayoutView",
            "align_content": null,
            "align_items": null,
            "align_self": null,
            "border": null,
            "bottom": null,
            "display": null,
            "flex": null,
            "flex_flow": null,
            "grid_area": null,
            "grid_auto_columns": null,
            "grid_auto_flow": null,
            "grid_auto_rows": null,
            "grid_column": null,
            "grid_gap": null,
            "grid_row": null,
            "grid_template_areas": null,
            "grid_template_columns": null,
            "grid_template_rows": null,
            "height": null,
            "justify_content": null,
            "justify_items": null,
            "left": null,
            "margin": null,
            "max_height": null,
            "max_width": null,
            "min_height": null,
            "min_width": null,
            "object_fit": null,
            "object_position": null,
            "order": null,
            "overflow": null,
            "overflow_x": null,
            "overflow_y": null,
            "padding": null,
            "right": null,
            "top": null,
            "visibility": null,
            "width": null
          }
        },
        "fbd5a5a708b444b09410813c2ff2a3cd": {
          "model_module": "@jupyter-widgets/controls",
          "model_module_version": "1.5.0",
          "model_name": "ProgressStyleModel",
          "state": {
            "_model_module": "@jupyter-widgets/controls",
            "_model_module_version": "1.5.0",
            "_model_name": "ProgressStyleModel",
            "_view_count": null,
            "_view_module": "@jupyter-widgets/base",
            "_view_module_version": "1.2.0",
            "_view_name": "StyleView",
            "bar_color": null,
            "description_width": ""
          }
        }
      }
    }
  },
  "nbformat": 4,
  "nbformat_minor": 0
}
