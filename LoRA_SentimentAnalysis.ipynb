{
  "cells": [
    {
      "cell_type": "code",
      "execution_count": 1,
      "metadata": {
        "colab": {
          "base_uri": "https://localhost:8080/"
        },
        "id": "omRPDQPWBhpn",
        "outputId": "6f558dea-54ee-4890-989f-9e36a84f2eda"
      },
      "outputs": [],
      "source": [
        "# %pip install peft\n",
        "# %pip install evaluate"
      ]
    },
    {
      "cell_type": "markdown",
      "metadata": {},
      "source": [
        "# 1. Import libraries and check GPU"
      ]
    },
    {
      "cell_type": "code",
      "execution_count": 2,
      "metadata": {
        "id": "aR0fuI0qcwTt"
      },
      "outputs": [
        {
          "name": "stderr",
          "output_type": "stream",
          "text": [
            "f:\\APPLICATION\\Python\\Python312\\Lib\\site-packages\\transformers\\utils\\generic.py:441: UserWarning: torch.utils._pytree._register_pytree_node is deprecated. Please use torch.utils._pytree.register_pytree_node instead.\n",
            "  _torch_pytree._register_pytree_node(\n",
            "f:\\APPLICATION\\Python\\Python312\\Lib\\site-packages\\transformers\\utils\\generic.py:309: UserWarning: torch.utils._pytree._register_pytree_node is deprecated. Please use torch.utils._pytree.register_pytree_node instead.\n",
            "  _torch_pytree._register_pytree_node(\n",
            "f:\\APPLICATION\\Python\\Python312\\Lib\\site-packages\\transformers\\utils\\generic.py:309: UserWarning: torch.utils._pytree._register_pytree_node is deprecated. Please use torch.utils._pytree.register_pytree_node instead.\n",
            "  _torch_pytree._register_pytree_node(\n"
          ]
        }
      ],
      "source": [
        "import pandas as pd\n",
        "import torch\n",
        "from transformers import AutoTokenizer, RobertaConfig, RobertaForSequenceClassification, Trainer, TrainingArguments, DataCollatorWithPadding\n",
        "from peft import LoraConfig, get_peft_model\n",
        "import numpy as np\n",
        "import evaluate\n",
        "from huggingface_hub import notebook_login"
      ]
    },
    {
      "cell_type": "code",
      "execution_count": 3,
      "metadata": {
        "colab": {
          "base_uri": "https://localhost:8080/"
        },
        "id": "yvN4LJEheSXh",
        "outputId": "23a89c00-8d3e-4425-fd47-aec33bad3461"
      },
      "outputs": [
        {
          "data": {
            "text/plain": [
              "device(type='cuda', index=0)"
            ]
          },
          "execution_count": 3,
          "metadata": {},
          "output_type": "execute_result"
        }
      ],
      "source": [
        "device = torch.device(\"cuda:0\" if torch.cuda.is_available() else \"cpu\")\n",
        "device"
      ]
    },
    {
      "cell_type": "markdown",
      "metadata": {},
      "source": [
        "# 2. Define evaluation metrics"
      ]
    },
    {
      "cell_type": "code",
      "execution_count": 4,
      "metadata": {
        "colab": {
          "base_uri": "https://localhost:8080/",
          "height": 49,
          "referenced_widgets": [
            "5d60d8524fd943099c5b346895cb55ad",
            "781d933e037a48feb88c13473384de34",
            "94831dd6afc549f69b5c7528eae48cd4",
            "9907536478cf45759a517379e409893a",
            "7cecee774f84459b9e118e3277217034",
            "55566df945d84895b617de03381bdb69",
            "a8e275ca5d20454290fb4b227df0d8fa",
            "f83d7cb64cd54cf9b6bf5c601e2fd3fc",
            "c663589e87ba4cfb8ec2318a719f9a34",
            "dd535ed8c74d49aabfb6b30d9104a5ad",
            "8c8612f33d2c491a92ce9a47c9f612fe"
          ]
        },
        "id": "RGi_YzGPl5ZS",
        "outputId": "3a932ad2-0029-47e0-c2d0-d94584909b2a"
      },
      "outputs": [],
      "source": [
        "accuracy = evaluate.load(\"accuracy\")"
      ]
    },
    {
      "cell_type": "code",
      "execution_count": 5,
      "metadata": {
        "id": "PWLdz1TfmbLo"
      },
      "outputs": [],
      "source": [
        "def compute_metrics(p):\n",
        "    predictions, labels = p\n",
        "    predictions = np.argmax(predictions, axis=1)\n",
        "    # print(predictions, \":\", labels)\n",
        "\n",
        "    return accuracy.compute(predictions=predictions, references=labels)"
      ]
    },
    {
      "cell_type": "code",
      "execution_count": 6,
      "metadata": {
        "id": "NoQTSHAfn0BT"
      },
      "outputs": [
        {
          "data": {
            "text/html": [
              "<div>\n",
              "<style scoped>\n",
              "    .dataframe tbody tr th:only-of-type {\n",
              "        vertical-align: middle;\n",
              "    }\n",
              "\n",
              "    .dataframe tbody tr th {\n",
              "        vertical-align: top;\n",
              "    }\n",
              "\n",
              "    .dataframe thead th {\n",
              "        text-align: right;\n",
              "    }\n",
              "</style>\n",
              "<table border=\"1\" class=\"dataframe\">\n",
              "  <thead>\n",
              "    <tr style=\"text-align: right;\">\n",
              "      <th></th>\n",
              "      <th>comment</th>\n",
              "      <th>label</th>\n",
              "    </tr>\n",
              "  </thead>\n",
              "  <tbody>\n",
              "    <tr>\n",
              "      <th>0</th>\n",
              "      <td>Đặt size S giao M.</td>\n",
              "      <td>NEU</td>\n",
              "    </tr>\n",
              "    <tr>\n",
              "      <th>1</th>\n",
              "      <td>Đèn cũ bụi bẩn như hàng đã qua sử dụng.</td>\n",
              "      <td>NEG</td>\n",
              "    </tr>\n",
              "    <tr>\n",
              "      <th>2</th>\n",
              "      <td>Vải đẹp, màu sắc chất liệu y hình.</td>\n",
              "      <td>POS</td>\n",
              "    </tr>\n",
              "    <tr>\n",
              "      <th>3</th>\n",
              "      <td>.</td>\n",
              "      <td>NEU</td>\n",
              "    </tr>\n",
              "    <tr>\n",
              "      <th>4</th>\n",
              "      <td>Bên shopee đơt này bán và phí vận chuyển đắt h...</td>\n",
              "      <td>NEG</td>\n",
              "    </tr>\n",
              "    <tr>\n",
              "      <th>...</th>\n",
              "      <td>...</td>\n",
              "      <td>...</td>\n",
              "    </tr>\n",
              "    <tr>\n",
              "      <th>17995</th>\n",
              "      <td>Màu vàng k giống ảnh, nhưng vải khá đẹp.</td>\n",
              "      <td>NEU</td>\n",
              "    </tr>\n",
              "    <tr>\n",
              "      <th>17996</th>\n",
              "      <td>Hàng y hình.</td>\n",
              "      <td>NEU</td>\n",
              "    </tr>\n",
              "    <tr>\n",
              "      <th>17997</th>\n",
              "      <td>sản phẩm y hình. chất cũng được.</td>\n",
              "      <td>POS</td>\n",
              "    </tr>\n",
              "    <tr>\n",
              "      <th>17998</th>\n",
              "      <td>Nice style but the fabric is too hard and ửink...</td>\n",
              "      <td>NEU</td>\n",
              "    </tr>\n",
              "    <tr>\n",
              "      <th>17999</th>\n",
              "      <td>Sp như hình mỗi tội vải hơi mỏng.</td>\n",
              "      <td>NEU</td>\n",
              "    </tr>\n",
              "  </tbody>\n",
              "</table>\n",
              "<p>18000 rows × 2 columns</p>\n",
              "</div>"
            ],
            "text/plain": [
              "                                                 comment label\n",
              "0                                     Đặt size S giao M.   NEU\n",
              "1                Đèn cũ bụi bẩn như hàng đã qua sử dụng.   NEG\n",
              "2                     Vải đẹp, màu sắc chất liệu y hình.   POS\n",
              "3                                                      .   NEU\n",
              "4      Bên shopee đơt này bán và phí vận chuyển đắt h...   NEG\n",
              "...                                                  ...   ...\n",
              "17995           Màu vàng k giống ảnh, nhưng vải khá đẹp.   NEU\n",
              "17996                                       Hàng y hình.   NEU\n",
              "17997                   sản phẩm y hình. chất cũng được.   POS\n",
              "17998  Nice style but the fabric is too hard and ửink...   NEU\n",
              "17999                  Sp như hình mỗi tội vải hơi mỏng.   NEU\n",
              "\n",
              "[18000 rows x 2 columns]"
            ]
          },
          "execution_count": 6,
          "metadata": {},
          "output_type": "execute_result"
        }
      ],
      "source": [
        "df = pd.read_csv(\"https://docs.google.com/spreadsheets/d/e/2PACX-1vRJVBTys7CQjrbs6jcYDZEsEuMnMoDm0gGdZCX1tTvYxnbydPHNxfdooM4t3DeKGMMQ27HAvwpzFxKH/pub?output=csv\").iloc[:, :2]\n",
        "df"
      ]
    },
    {
      "cell_type": "markdown",
      "metadata": {},
      "source": [
        "# 3. Preprocess dataset"
      ]
    },
    {
      "cell_type": "code",
      "execution_count": 7,
      "metadata": {
        "id": "SCF_Zi96o57Z"
      },
      "outputs": [],
      "source": [
        "def labels_index(string_labels):\n",
        "  if string_labels == 'NEG':\n",
        "    return 0\n",
        "  elif string_labels == 'NEU':\n",
        "    return 1\n",
        "  else:\n",
        "    return 2"
      ]
    },
    {
      "cell_type": "code",
      "execution_count": 8,
      "metadata": {},
      "outputs": [],
      "source": [
        "checkpoint = \"vinai/phobert-base-v2\"\n",
        "tokenizer = AutoTokenizer.from_pretrained(checkpoint)"
      ]
    },
    {
      "cell_type": "code",
      "execution_count": 9,
      "metadata": {},
      "outputs": [
        {
          "name": "stderr",
          "output_type": "stream",
          "text": [
            "Asking to truncate to max_length but no maximum length is provided and the model has no predefined maximum length. Default to no truncation.\n"
          ]
        },
        {
          "name": "stdout",
          "output_type": "stream",
          "text": [
            "{'input_ids': [0, 611, 3683, 207, 18, 2], 'token_type_ids': [0, 0, 0, 0, 0, 0], 'attention_mask': [1, 1, 1, 1, 1, 1]}\n"
          ]
        }
      ],
      "source": [
        "def tokenize(data):\n",
        "  return tokenizer(data, padding='longest', truncation=True)\n",
        "\n",
        "\n",
        "print(tokenize(\"xin chào mọi người\"))"
      ]
    },
    {
      "cell_type": "code",
      "execution_count": 10,
      "metadata": {
        "id": "J0R7oC20pF-7"
      },
      "outputs": [
        {
          "data": {
            "text/html": [
              "<div>\n",
              "<style scoped>\n",
              "    .dataframe tbody tr th:only-of-type {\n",
              "        vertical-align: middle;\n",
              "    }\n",
              "\n",
              "    .dataframe tbody tr th {\n",
              "        vertical-align: top;\n",
              "    }\n",
              "\n",
              "    .dataframe thead th {\n",
              "        text-align: right;\n",
              "    }\n",
              "</style>\n",
              "<table border=\"1\" class=\"dataframe\">\n",
              "  <thead>\n",
              "    <tr style=\"text-align: right;\">\n",
              "      <th></th>\n",
              "      <th>comment</th>\n",
              "      <th>label</th>\n",
              "    </tr>\n",
              "  </thead>\n",
              "  <tbody>\n",
              "    <tr>\n",
              "      <th>0</th>\n",
              "      <td>[[0, 8209, 19275, 2053, 574, 4015, 2], [0, 0, ...</td>\n",
              "      <td>1</td>\n",
              "    </tr>\n",
              "    <tr>\n",
              "      <th>1</th>\n",
              "      <td>[[0, 15451, 633, 2694, 3116, 42, 119, 14, 89, ...</td>\n",
              "      <td>0</td>\n",
              "    </tr>\n",
              "    <tr>\n",
              "      <th>2</th>\n",
              "      <td>[[0, 31385, 56234, 1487, 4, 412, 2104, 567, 19...</td>\n",
              "      <td>2</td>\n",
              "    </tr>\n",
              "    <tr>\n",
              "      <th>3</th>\n",
              "      <td>[[0, 5, 2], [0, 0, 0], [1, 1, 1]]</td>\n",
              "      <td>1</td>\n",
              "    </tr>\n",
              "    <tr>\n",
              "      <th>4</th>\n",
              "      <td>[[0, 559, 12231, 36653, 26202, 1204, 23, 170, ...</td>\n",
              "      <td>0</td>\n",
              "    </tr>\n",
              "    <tr>\n",
              "      <th>...</th>\n",
              "      <td>...</td>\n",
              "      <td>...</td>\n",
              "    </tr>\n",
              "    <tr>\n",
              "      <th>17995</th>\n",
              "      <td>[[0, 6957, 354, 1947, 475, 15250, 2008, 4, 51,...</td>\n",
              "      <td>1</td>\n",
              "    </tr>\n",
              "    <tr>\n",
              "      <th>17996</th>\n",
              "      <td>[[0, 1383, 1231, 50350, 18109, 2], [0, 0, 0, 0...</td>\n",
              "      <td>1</td>\n",
              "    </tr>\n",
              "    <tr>\n",
              "      <th>17997</th>\n",
              "      <td>[[0, 4770, 3884, 1231, 50350, 18109, 567, 32, ...</td>\n",
              "      <td>2</td>\n",
              "    </tr>\n",
              "    <tr>\n",
              "      <th>17998</th>\n",
              "      <td>[[0, 19518, 11303, 30045, 2292, 1866, 3377, 28...</td>\n",
              "      <td>1</td>\n",
              "    </tr>\n",
              "    <tr>\n",
              "      <th>17999</th>\n",
              "      <td>[[0, 870, 2380, 42, 819, 205, 1291, 2914, 1329...</td>\n",
              "      <td>1</td>\n",
              "    </tr>\n",
              "  </tbody>\n",
              "</table>\n",
              "<p>18000 rows × 2 columns</p>\n",
              "</div>"
            ],
            "text/plain": [
              "                                                 comment  label\n",
              "0      [[0, 8209, 19275, 2053, 574, 4015, 2], [0, 0, ...      1\n",
              "1      [[0, 15451, 633, 2694, 3116, 42, 119, 14, 89, ...      0\n",
              "2      [[0, 31385, 56234, 1487, 4, 412, 2104, 567, 19...      2\n",
              "3                      [[0, 5, 2], [0, 0, 0], [1, 1, 1]]      1\n",
              "4      [[0, 559, 12231, 36653, 26202, 1204, 23, 170, ...      0\n",
              "...                                                  ...    ...\n",
              "17995  [[0, 6957, 354, 1947, 475, 15250, 2008, 4, 51,...      1\n",
              "17996  [[0, 1383, 1231, 50350, 18109, 2], [0, 0, 0, 0...      1\n",
              "17997  [[0, 4770, 3884, 1231, 50350, 18109, 567, 32, ...      2\n",
              "17998  [[0, 19518, 11303, 30045, 2292, 1866, 3377, 28...      1\n",
              "17999  [[0, 870, 2380, 42, 819, 205, 1291, 2914, 1329...      1\n",
              "\n",
              "[18000 rows x 2 columns]"
            ]
          },
          "execution_count": 10,
          "metadata": {},
          "output_type": "execute_result"
        }
      ],
      "source": [
        "tokenized_df = pd.DataFrame()\n",
        "tokenized_df['comment'] = df['comment'].map(lambda r: list(tokenize(r).values()))\n",
        "tokenized_df['label'] = df['label'].map(labels_index)\n",
        "tokenized_df"
      ]
    },
    {
      "cell_type": "code",
      "execution_count": 11,
      "metadata": {
        "id": "6xHbFWSSpGlf"
      },
      "outputs": [],
      "source": [
        "length = len(tokenized_df.index)\n",
        "train_dataset = tokenized_df.iloc[:int(length * 80 / 100),:]\n",
        "valid_dataset = tokenized_df.iloc[int(length * 80 / 100):int(length * 90 / 100),:].reset_index()\n",
        "test_dataset = tokenized_df.iloc[int(length * 90 / 100):,:].reset_index()"
      ]
    },
    {
      "cell_type": "code",
      "execution_count": 12,
      "metadata": {
        "id": "dNy3cTjFpL-g"
      },
      "outputs": [],
      "source": [
        "train_loader = []\n",
        "valid_loader = []\n",
        "test_loader = []\n",
        "\n",
        "for i in range(len(train_dataset.index)):\n",
        "  train_comment = torch.tensor([train_dataset['comment'][i]])\n",
        "  train_label = torch.tensor([train_dataset['label'][i]])\n",
        "  train_loader.append({'input_ids': train_comment[0][0], 'attention_mask': train_comment[0][1], 'labels': train_label[0]})\n",
        "\n",
        "for i in range(len(valid_dataset.index)):\n",
        "  valid_comment = torch.tensor([valid_dataset['comment'][i]])\n",
        "  valid_label = torch.tensor([valid_dataset['label'][i]])\n",
        "  valid_loader.append({'input_ids': valid_comment[0][0], 'attention_mask': valid_comment[0][1], 'labels': valid_label[0]})\n",
        "\n",
        "for i in range(len(test_dataset.index)):\n",
        "  test_comment = torch.tensor([test_dataset['comment'][i]])\n",
        "  test_label = torch.tensor([test_dataset['label'][i]])\n",
        "  test_loader.append({'input_ids': test_comment[0][0], 'attention_mask': test_comment[0][1], 'labels': test_label[0]})"
      ]
    },
    {
      "cell_type": "markdown",
      "metadata": {},
      "source": [
        "# 4. Setup LoRA finetuning model"
      ]
    },
    {
      "cell_type": "code",
      "execution_count": 13,
      "metadata": {},
      "outputs": [],
      "source": [
        "id2label = {\n",
        "    0: \"NEG\",\n",
        "    1: \"NEU\",\n",
        "    2: \"POS\"\n",
        "}\n",
        "label2id = {\n",
        "    \"NEG\": 0,\n",
        "    \"NEU\": 1,\n",
        "    \"POS\": 2\n",
        "}"
      ]
    },
    {
      "cell_type": "code",
      "execution_count": 14,
      "metadata": {
        "colab": {
          "base_uri": "https://localhost:8080/",
          "height": 1000,
          "referenced_widgets": [
            "baebbb54c0f04095b7d0fe89d2f9e0fc",
            "c00e0f5b2afa4e5da15056295f28879a",
            "43af5e2c0860458fabc72918dbaefbe0",
            "839dbcaf318044a1a91ff0d141c65618",
            "7b80a3b039da47108ca649279f4f1979",
            "e777ac16f5d04ef3bd6b9a80de49390d",
            "ab8ce04af0d74e0a8a3dc673d8c09ac4",
            "2a2e678a9205480da4b26e80aea8f2fe",
            "f38240d65cd34199b10458f6fec3a561",
            "11fd3b3d22d842508e00a1ff7cbd68f2",
            "4f286c442ea44ecb93c3be7bff526bac",
            "26eb06846b794b3daf0b65f555eb1a04",
            "c62e9a5a18294e119f138ca1dc67bc43",
            "b5df0102b52940ef9990ad766ab38b7f",
            "75e8cc01921f4cc98e346df9fe20d587",
            "7f5ede8f2d444c90a1ae62416e278cbb",
            "f6c540e350e64552bff17ac35c55dd1d",
            "713a8372d14e49418caeca871e41476d",
            "f1e8e0f8381e4b058aed8c3f5c734508",
            "53001c4fceb24b6c8685c8f6457a52df",
            "6bc705ed99ea4033b692f9d95977052e",
            "b43c9360d9774281beaeeecfc89ec00d",
            "1331542b5cbb47a29882535c2b9fb97c",
            "1844b4314d2045949fcbab7e15a309f6",
            "b1067bd7e70246bfb7c566f02a4a01ed",
            "0a16009068af467fa9b376c53075f205",
            "80d04a2779054fd8ab29e4119d334490",
            "7f77336e439640ba8aabe2cfc6a620c1",
            "4fdcbef0dec4466dbd32e3de83c808e6",
            "6fc7a2f283f74be6a52caf97473cd4a4",
            "fbd5a5a708b444b09410813c2ff2a3cd",
            "c33a7c45eb2b40819f319482f829ca16",
            "b724e1c96d484493bf2dcb20d763413b",
            "9d7db848873c4aafa88c1bfcc2e1b021",
            "03bef6afc6e14f03bd3424ec009a6541",
            "d1842bb6b0324c1d905e20e9d78e59a3",
            "674c992b2f0e4885abef04f7abf4daec",
            "1388318749cb4d26afae0907da04b011",
            "1da96539234942cb8b0bcb34003ab812",
            "1870a6a78896411480afc6f022029e2d",
            "7a59cc96e46e44d7a4588161f8586c13",
            "45d4070a7e1a49b68ab2535b83b1f7c4",
            "184c77f61b74420ba90c5759d2d07767",
            "cca6f3f86ea149be8d0160ac1da2701e",
            "63549f5e05f64726b5b2972f7fc111af",
            "5ebcd590768042c4a39cf2b0a66a9a3b",
            "a6caf99f49ce417882b146bab2c5c6fb",
            "057b383852f742acb0d6da467ad84edd",
            "566dad7e052f4227a5717824b208bb84",
            "647dd7bbc8754423a601187b7e7a5643",
            "6d334f0fc26d4845a52c05aef2676f67",
            "d41de0dfb65a47bd8f74a2e6a74a7283",
            "7b930b490c6048208d81048ae1f624ed",
            "0f5d3b26bb6e4a9b872033d57c591307",
            "8590a5b611ba4dbd94fc0a408347998f"
          ]
        },
        "id": "IyrYGnqQBxn1",
        "outputId": "b84556e6-d9ce-4500-e274-1f7b7100aade"
      },
      "outputs": [
        {
          "name": "stderr",
          "output_type": "stream",
          "text": [
            "Some weights of RobertaForSequenceClassification were not initialized from the model checkpoint at vinai/phobert-base-v2 and are newly initialized: ['classifier.dense.bias', 'classifier.dense.weight', 'classifier.out_proj.bias', 'classifier.out_proj.weight']\n",
            "You should probably TRAIN this model on a down-stream task to be able to use it for predictions and inference.\n"
          ]
        },
        {
          "name": "stdout",
          "output_type": "stream",
          "text": [
            "RobertaForSequenceClassification(\n",
            "  (roberta): RobertaModel(\n",
            "    (embeddings): RobertaEmbeddings(\n",
            "      (word_embeddings): Embedding(64001, 768, padding_idx=1)\n",
            "      (position_embeddings): Embedding(258, 768, padding_idx=1)\n",
            "      (token_type_embeddings): Embedding(1, 768)\n",
            "      (LayerNorm): LayerNorm((768,), eps=1e-05, elementwise_affine=True)\n",
            "      (dropout): Dropout(p=0.1, inplace=False)\n",
            "    )\n",
            "    (encoder): RobertaEncoder(\n",
            "      (layer): ModuleList(\n",
            "        (0-11): 12 x RobertaLayer(\n",
            "          (attention): RobertaAttention(\n",
            "            (self): RobertaSelfAttention(\n",
            "              (query): Linear(in_features=768, out_features=768, bias=True)\n",
            "              (key): Linear(in_features=768, out_features=768, bias=True)\n",
            "              (value): Linear(in_features=768, out_features=768, bias=True)\n",
            "              (dropout): Dropout(p=0.1, inplace=False)\n",
            "            )\n",
            "            (output): RobertaSelfOutput(\n",
            "              (dense): Linear(in_features=768, out_features=768, bias=True)\n",
            "              (LayerNorm): LayerNorm((768,), eps=1e-05, elementwise_affine=True)\n",
            "              (dropout): Dropout(p=0.1, inplace=False)\n",
            "            )\n",
            "          )\n",
            "          (intermediate): RobertaIntermediate(\n",
            "            (dense): Linear(in_features=768, out_features=3072, bias=True)\n",
            "            (intermediate_act_fn): GELUActivation()\n",
            "          )\n",
            "          (output): RobertaOutput(\n",
            "            (dense): Linear(in_features=3072, out_features=768, bias=True)\n",
            "            (LayerNorm): LayerNorm((768,), eps=1e-05, elementwise_affine=True)\n",
            "            (dropout): Dropout(p=0.1, inplace=False)\n",
            "          )\n",
            "        )\n",
            "      )\n",
            "    )\n",
            "  )\n",
            "  (classifier): RobertaClassificationHead(\n",
            "    (dense): Linear(in_features=768, out_features=768, bias=True)\n",
            "    (dropout): Dropout(p=0.1, inplace=False)\n",
            "    (out_proj): Linear(in_features=768, out_features=3, bias=True)\n",
            "  )\n",
            ")\n"
          ]
        }
      ],
      "source": [
        "# checkpoint = \"vinai/phobert-base-v2\"\n",
        "num_labels = 3\n",
        "config = RobertaConfig.from_pretrained(checkpoint, num_labels=num_labels, id2label=id2label, label2id=label2id)\n",
        "model = RobertaForSequenceClassification.from_pretrained(checkpoint, config=config).to(device)\n",
        "\n",
        "print(model)"
      ]
    },
    {
      "cell_type": "code",
      "execution_count": 15,
      "metadata": {},
      "outputs": [],
      "source": [
        "# model = AutoModelForSequenceClassification.from_pretrained(\n",
        "#     checkpoint, num_labels=3, id2label=id2label, label2id=label2id\n",
        "# )"
      ]
    },
    {
      "cell_type": "code",
      "execution_count": 16,
      "metadata": {
        "id": "ZsOm350_WeWV"
      },
      "outputs": [],
      "source": [
        "for param in model.parameters():\n",
        "  param.requires_grad = False  # freeze the model - train adapters later"
      ]
    },
    {
      "cell_type": "code",
      "execution_count": 17,
      "metadata": {
        "id": "ir8yxErzhDgO"
      },
      "outputs": [],
      "source": [
        "def print_trainable_parameters(model):\n",
        "    \"\"\"\n",
        "    Prints the number of trainable parameters in the model.\n",
        "    \"\"\"\n",
        "    trainable_params = 0\n",
        "    all_param = 0\n",
        "    for _, param in model.named_parameters():\n",
        "        all_param += param.numel()\n",
        "        if param.requires_grad:\n",
        "            trainable_params += param.numel()\n",
        "    print(\n",
        "        f\"trainable params: {trainable_params} || all params: {all_param} || trainable%: {100 * trainable_params / all_param}\"\n",
        "    )"
      ]
    },
    {
      "cell_type": "code",
      "execution_count": 18,
      "metadata": {
        "colab": {
          "base_uri": "https://localhost:8080/"
        },
        "id": "hvU4SJgbg46L",
        "outputId": "c942144b-27af-4ad4-f9d7-7b453c2bc65b"
      },
      "outputs": [
        {
          "name": "stdout",
          "output_type": "stream",
          "text": [
            "trainable params: 5950467 || all params: 141000198 || trainable%: 4.22018343548709\n"
          ]
        }
      ],
      "source": [
        "target_modules = ['query','key','value','dense']\n",
        "config = LoraConfig(\n",
        "    r=32,\n",
        "    lora_alpha=64,\n",
        "    target_modules=target_modules,\n",
        "    lora_dropout=0.1,\n",
        "    bias=\"none\",\n",
        "    task_type=\"SEQ_CLS\"\n",
        ")\n",
        "\n",
        "model_lora = get_peft_model(model, config).to(device)\n",
        "print_trainable_parameters(model_lora)"
      ]
    },
    {
      "cell_type": "code",
      "execution_count": 19,
      "metadata": {
        "id": "EDKqSBiAbTsm"
      },
      "outputs": [],
      "source": [
        "num_epoch = 8\n",
        "batch_size = 16\n",
        "learning_rate = 1e-5"
      ]
    },
    {
      "cell_type": "code",
      "execution_count": 20,
      "metadata": {},
      "outputs": [],
      "source": [
        "training_args = TrainingArguments(\n",
        "    evaluation_strategy=\"steps\",\n",
        "    learning_rate=learning_rate,\n",
        "    per_device_train_batch_size=batch_size,\n",
        "    per_device_eval_batch_size=batch_size,\n",
        "    weight_decay=0,\n",
        "    save_total_limit=10,\n",
        "    num_train_epochs=num_epoch,\n",
        "    fp16=False,\n",
        "    push_to_hub=False,\n",
        "    logging_steps=100,\n",
        "    logging_first_step=True,\n",
        "    logging_dir=\"logging/fa-sentiment-finetuned\",\n",
        "    eval_steps=100,\n",
        "    resume_from_checkpoint = \"checkpoint\",\n",
        "    output_dir = \"checkpoint\",\n",
        "    load_best_model_at_end = True,\n",
        "    save_steps = 100\n",
        ")"
      ]
    },
    {
      "cell_type": "code",
      "execution_count": 21,
      "metadata": {
        "id": "dZlP9O1Bpx7x"
      },
      "outputs": [
        {
          "name": "stderr",
          "output_type": "stream",
          "text": [
            "f:\\APPLICATION\\Python\\Python312\\Lib\\site-packages\\accelerate\\accelerator.py:432: FutureWarning: Passing the following arguments to `Accelerator` is deprecated and will be removed in version 1.0 of Accelerate: dict_keys(['dispatch_batches', 'split_batches']). Please pass an `accelerate.DataLoaderConfiguration` instead: \n",
            "dataloader_config = DataLoaderConfiguration(dispatch_batches=None, split_batches=False)\n",
            "  warnings.warn(\n"
          ]
        }
      ],
      "source": [
        "trainer = Trainer(\n",
        "    model=model_lora,\n",
        "    train_dataset=train_loader,\n",
        "    eval_dataset=valid_loader,\n",
        "    args=training_args,\n",
        "    compute_metrics=compute_metrics,\n",
        "    data_collator=DataCollatorWithPadding(tokenizer)\n",
        ")\n",
        "model_lora.config.use_cache = False  # silence the warnings. Please re-enable for inference!"
      ]
    },
    {
      "cell_type": "markdown",
      "metadata": {},
      "source": [
        "# 5. Train and evaluate"
      ]
    },
    {
      "cell_type": "code",
      "execution_count": 22,
      "metadata": {
        "id": "wxfpsN-Ebgmu"
      },
      "outputs": [
        {
          "data": {
            "application/vnd.jupyter.widget-view+json": {
              "model_id": "10a1875927cd420f89cffa7ec2a6ba00",
              "version_major": 2,
              "version_minor": 0
            },
            "text/plain": [
              "  0%|          | 0/7200 [00:00<?, ?it/s]"
            ]
          },
          "metadata": {},
          "output_type": "display_data"
        },
        {
          "name": "stdout",
          "output_type": "stream",
          "text": [
            "{'loss': 1.1205, 'learning_rate': 9.998611111111112e-06, 'epoch': 0.0}\n",
            "{'loss': 1.0987, 'learning_rate': 9.861111111111112e-06, 'epoch': 0.11}\n"
          ]
        },
        {
          "data": {
            "application/vnd.jupyter.widget-view+json": {
              "model_id": "5d08663e96b44165807d49e53f7bb486",
              "version_major": 2,
              "version_minor": 0
            },
            "text/plain": [
              "  0%|          | 0/113 [00:00<?, ?it/s]"
            ]
          },
          "metadata": {},
          "output_type": "display_data"
        },
        {
          "name": "stdout",
          "output_type": "stream",
          "text": [
            "{'eval_loss': 1.0818744897842407, 'eval_accuracy': 0.38722222222222225, 'eval_runtime': 5.5066, 'eval_samples_per_second': 326.882, 'eval_steps_per_second': 20.521, 'epoch': 0.11}\n",
            "{'loss': 1.0831, 'learning_rate': 9.722222222222223e-06, 'epoch': 0.22}\n"
          ]
        },
        {
          "data": {
            "application/vnd.jupyter.widget-view+json": {
              "model_id": "cbbccdaf5a3a499cb2f1d5be029e9a75",
              "version_major": 2,
              "version_minor": 0
            },
            "text/plain": [
              "  0%|          | 0/113 [00:00<?, ?it/s]"
            ]
          },
          "metadata": {},
          "output_type": "display_data"
        },
        {
          "name": "stdout",
          "output_type": "stream",
          "text": [
            "{'eval_loss': 1.0774638652801514, 'eval_accuracy': 0.4411111111111111, 'eval_runtime': 3.3317, 'eval_samples_per_second': 540.267, 'eval_steps_per_second': 33.917, 'epoch': 0.22}\n",
            "{'loss': 1.0858, 'learning_rate': 9.583333333333335e-06, 'epoch': 0.33}\n"
          ]
        },
        {
          "data": {
            "application/vnd.jupyter.widget-view+json": {
              "model_id": "4600aecb61ba4e888ca1263c28749674",
              "version_major": 2,
              "version_minor": 0
            },
            "text/plain": [
              "  0%|          | 0/113 [00:00<?, ?it/s]"
            ]
          },
          "metadata": {},
          "output_type": "display_data"
        },
        {
          "name": "stdout",
          "output_type": "stream",
          "text": [
            "{'eval_loss': 1.0754318237304688, 'eval_accuracy': 0.4444444444444444, 'eval_runtime': 3.3233, 'eval_samples_per_second': 541.634, 'eval_steps_per_second': 34.003, 'epoch': 0.33}\n",
            "{'loss': 1.084, 'learning_rate': 9.444444444444445e-06, 'epoch': 0.44}\n"
          ]
        },
        {
          "data": {
            "application/vnd.jupyter.widget-view+json": {
              "model_id": "b5ec4f3a6200424fbe0c92d21935ad81",
              "version_major": 2,
              "version_minor": 0
            },
            "text/plain": [
              "  0%|          | 0/113 [00:00<?, ?it/s]"
            ]
          },
          "metadata": {},
          "output_type": "display_data"
        },
        {
          "name": "stdout",
          "output_type": "stream",
          "text": [
            "{'eval_loss': 1.075769305229187, 'eval_accuracy': 0.39555555555555555, 'eval_runtime': 3.4409, 'eval_samples_per_second': 523.111, 'eval_steps_per_second': 32.84, 'epoch': 0.44}\n",
            "{'loss': 1.0851, 'learning_rate': 9.305555555555557e-06, 'epoch': 0.56}\n"
          ]
        },
        {
          "data": {
            "application/vnd.jupyter.widget-view+json": {
              "model_id": "5e45b5787dc840d091b8581ffbf1e82a",
              "version_major": 2,
              "version_minor": 0
            },
            "text/plain": [
              "  0%|          | 0/113 [00:00<?, ?it/s]"
            ]
          },
          "metadata": {},
          "output_type": "display_data"
        },
        {
          "name": "stdout",
          "output_type": "stream",
          "text": [
            "{'eval_loss': 1.0752365589141846, 'eval_accuracy': 0.41944444444444445, 'eval_runtime': 5.0919, 'eval_samples_per_second': 353.5, 'eval_steps_per_second': 22.192, 'epoch': 0.56}\n",
            "{'loss': 1.0844, 'learning_rate': 9.166666666666666e-06, 'epoch': 0.67}\n"
          ]
        },
        {
          "data": {
            "application/vnd.jupyter.widget-view+json": {
              "model_id": "4a693e85b234461d9103bcef68a142e2",
              "version_major": 2,
              "version_minor": 0
            },
            "text/plain": [
              "  0%|          | 0/113 [00:00<?, ?it/s]"
            ]
          },
          "metadata": {},
          "output_type": "display_data"
        },
        {
          "name": "stdout",
          "output_type": "stream",
          "text": [
            "{'eval_loss': 1.0725406408309937, 'eval_accuracy': 0.4305555555555556, 'eval_runtime': 4.9558, 'eval_samples_per_second': 363.213, 'eval_steps_per_second': 22.802, 'epoch': 0.67}\n",
            "{'loss': 1.0856, 'learning_rate': 9.027777777777779e-06, 'epoch': 0.78}\n"
          ]
        },
        {
          "data": {
            "application/vnd.jupyter.widget-view+json": {
              "model_id": "277139dbcd204f4086a6b1c53491940b",
              "version_major": 2,
              "version_minor": 0
            },
            "text/plain": [
              "  0%|          | 0/113 [00:00<?, ?it/s]"
            ]
          },
          "metadata": {},
          "output_type": "display_data"
        },
        {
          "name": "stdout",
          "output_type": "stream",
          "text": [
            "{'eval_loss': 1.0698565244674683, 'eval_accuracy': 0.4261111111111111, 'eval_runtime': 4.8669, 'eval_samples_per_second': 369.848, 'eval_steps_per_second': 23.218, 'epoch': 0.78}\n",
            "{'loss': 1.0835, 'learning_rate': 8.888888888888888e-06, 'epoch': 0.89}\n"
          ]
        },
        {
          "data": {
            "application/vnd.jupyter.widget-view+json": {
              "model_id": "5587bf32b10645ff8305c7a37dec9bf9",
              "version_major": 2,
              "version_minor": 0
            },
            "text/plain": [
              "  0%|          | 0/113 [00:00<?, ?it/s]"
            ]
          },
          "metadata": {},
          "output_type": "display_data"
        },
        {
          "name": "stdout",
          "output_type": "stream",
          "text": [
            "{'eval_loss': 1.0737978219985962, 'eval_accuracy': 0.4255555555555556, 'eval_runtime': 3.2936, 'eval_samples_per_second': 546.514, 'eval_steps_per_second': 34.309, 'epoch': 0.89}\n",
            "{'loss': 1.0803, 'learning_rate': 8.750000000000001e-06, 'epoch': 1.0}\n"
          ]
        },
        {
          "data": {
            "application/vnd.jupyter.widget-view+json": {
              "model_id": "b1db63572080416980e2a81057466de2",
              "version_major": 2,
              "version_minor": 0
            },
            "text/plain": [
              "  0%|          | 0/113 [00:00<?, ?it/s]"
            ]
          },
          "metadata": {},
          "output_type": "display_data"
        },
        {
          "name": "stdout",
          "output_type": "stream",
          "text": [
            "{'eval_loss': 1.0727286338806152, 'eval_accuracy': 0.4222222222222222, 'eval_runtime': 3.3064, 'eval_samples_per_second': 544.407, 'eval_steps_per_second': 34.177, 'epoch': 1.0}\n",
            "{'loss': 1.0776, 'learning_rate': 8.611111111111112e-06, 'epoch': 1.11}\n"
          ]
        },
        {
          "data": {
            "application/vnd.jupyter.widget-view+json": {
              "model_id": "bc5f7f722a594bac945a81ce0dfdc0b9",
              "version_major": 2,
              "version_minor": 0
            },
            "text/plain": [
              "  0%|          | 0/113 [00:00<?, ?it/s]"
            ]
          },
          "metadata": {},
          "output_type": "display_data"
        },
        {
          "name": "stdout",
          "output_type": "stream",
          "text": [
            "{'eval_loss': 1.0674195289611816, 'eval_accuracy': 0.4272222222222222, 'eval_runtime': 3.3034, 'eval_samples_per_second': 544.9, 'eval_steps_per_second': 34.208, 'epoch': 1.11}\n",
            "{'loss': 1.0777, 'learning_rate': 8.472222222222223e-06, 'epoch': 1.22}\n"
          ]
        },
        {
          "data": {
            "application/vnd.jupyter.widget-view+json": {
              "model_id": "62a80fb4f8d74ac982e354e2af03e157",
              "version_major": 2,
              "version_minor": 0
            },
            "text/plain": [
              "  0%|          | 0/113 [00:00<?, ?it/s]"
            ]
          },
          "metadata": {},
          "output_type": "display_data"
        },
        {
          "name": "stdout",
          "output_type": "stream",
          "text": [
            "{'eval_loss': 1.0666786432266235, 'eval_accuracy': 0.45, 'eval_runtime': 4.261, 'eval_samples_per_second': 422.435, 'eval_steps_per_second': 26.52, 'epoch': 1.22}\n",
            "{'loss': 1.0767, 'learning_rate': 8.333333333333334e-06, 'epoch': 1.33}\n"
          ]
        },
        {
          "data": {
            "application/vnd.jupyter.widget-view+json": {
              "model_id": "9f7da770a8b64958be455baa486b116d",
              "version_major": 2,
              "version_minor": 0
            },
            "text/plain": [
              "  0%|          | 0/113 [00:00<?, ?it/s]"
            ]
          },
          "metadata": {},
          "output_type": "display_data"
        },
        {
          "name": "stdout",
          "output_type": "stream",
          "text": [
            "{'eval_loss': 1.0645817518234253, 'eval_accuracy': 0.4494444444444444, 'eval_runtime': 3.3702, 'eval_samples_per_second': 534.096, 'eval_steps_per_second': 33.529, 'epoch': 1.33}\n",
            "{'loss': 1.0733, 'learning_rate': 8.194444444444445e-06, 'epoch': 1.44}\n"
          ]
        },
        {
          "data": {
            "application/vnd.jupyter.widget-view+json": {
              "model_id": "d41ef710d5504730b53acef9259f8062",
              "version_major": 2,
              "version_minor": 0
            },
            "text/plain": [
              "  0%|          | 0/113 [00:00<?, ?it/s]"
            ]
          },
          "metadata": {},
          "output_type": "display_data"
        },
        {
          "name": "stdout",
          "output_type": "stream",
          "text": [
            "{'eval_loss': 1.061524748802185, 'eval_accuracy': 0.4633333333333333, 'eval_runtime': 3.3232, 'eval_samples_per_second': 541.652, 'eval_steps_per_second': 34.004, 'epoch': 1.44}\n",
            "{'loss': 1.0749, 'learning_rate': 8.055555555555557e-06, 'epoch': 1.56}\n"
          ]
        },
        {
          "data": {
            "application/vnd.jupyter.widget-view+json": {
              "model_id": "28e31ef14dab402ba7152f82cfb51cec",
              "version_major": 2,
              "version_minor": 0
            },
            "text/plain": [
              "  0%|          | 0/113 [00:00<?, ?it/s]"
            ]
          },
          "metadata": {},
          "output_type": "display_data"
        },
        {
          "name": "stdout",
          "output_type": "stream",
          "text": [
            "{'eval_loss': 1.0556988716125488, 'eval_accuracy': 0.4761111111111111, 'eval_runtime': 3.3155, 'eval_samples_per_second': 542.906, 'eval_steps_per_second': 34.082, 'epoch': 1.56}\n",
            "{'loss': 1.0703, 'learning_rate': 7.916666666666667e-06, 'epoch': 1.67}\n"
          ]
        },
        {
          "data": {
            "application/vnd.jupyter.widget-view+json": {
              "model_id": "b1e04f9a85ed41b4a6123769e6fc1dc4",
              "version_major": 2,
              "version_minor": 0
            },
            "text/plain": [
              "  0%|          | 0/113 [00:00<?, ?it/s]"
            ]
          },
          "metadata": {},
          "output_type": "display_data"
        },
        {
          "name": "stdout",
          "output_type": "stream",
          "text": [
            "{'eval_loss': 1.0571599006652832, 'eval_accuracy': 0.445, 'eval_runtime': 3.3112, 'eval_samples_per_second': 543.608, 'eval_steps_per_second': 34.127, 'epoch': 1.67}\n",
            "{'loss': 1.059, 'learning_rate': 7.77777777777778e-06, 'epoch': 1.78}\n"
          ]
        },
        {
          "data": {
            "application/vnd.jupyter.widget-view+json": {
              "model_id": "e17bf8658f9a4d41be08f86011d52641",
              "version_major": 2,
              "version_minor": 0
            },
            "text/plain": [
              "  0%|          | 0/113 [00:00<?, ?it/s]"
            ]
          },
          "metadata": {},
          "output_type": "display_data"
        },
        {
          "name": "stdout",
          "output_type": "stream",
          "text": [
            "{'eval_loss': 1.0541598796844482, 'eval_accuracy': 0.44722222222222224, 'eval_runtime': 3.321, 'eval_samples_per_second': 542.011, 'eval_steps_per_second': 34.026, 'epoch': 1.78}\n",
            "{'loss': 1.0622, 'learning_rate': 7.638888888888888e-06, 'epoch': 1.89}\n"
          ]
        },
        {
          "data": {
            "application/vnd.jupyter.widget-view+json": {
              "model_id": "fd2d5563ce8e4a3bbd3c3fa01baf7934",
              "version_major": 2,
              "version_minor": 0
            },
            "text/plain": [
              "  0%|          | 0/113 [00:00<?, ?it/s]"
            ]
          },
          "metadata": {},
          "output_type": "display_data"
        },
        {
          "name": "stdout",
          "output_type": "stream",
          "text": [
            "{'eval_loss': 1.046873688697815, 'eval_accuracy': 0.4577777777777778, 'eval_runtime': 3.3064, 'eval_samples_per_second': 544.404, 'eval_steps_per_second': 34.176, 'epoch': 1.89}\n",
            "{'loss': 1.0553, 'learning_rate': 7.500000000000001e-06, 'epoch': 2.0}\n"
          ]
        },
        {
          "data": {
            "application/vnd.jupyter.widget-view+json": {
              "model_id": "075a6cba735546c3a6956da325123593",
              "version_major": 2,
              "version_minor": 0
            },
            "text/plain": [
              "  0%|          | 0/113 [00:00<?, ?it/s]"
            ]
          },
          "metadata": {},
          "output_type": "display_data"
        },
        {
          "name": "stdout",
          "output_type": "stream",
          "text": [
            "{'eval_loss': 1.0348424911499023, 'eval_accuracy': 0.4872222222222222, 'eval_runtime': 3.3621, 'eval_samples_per_second': 535.384, 'eval_steps_per_second': 33.61, 'epoch': 2.0}\n",
            "{'loss': 1.0465, 'learning_rate': 7.361111111111112e-06, 'epoch': 2.11}\n"
          ]
        },
        {
          "data": {
            "application/vnd.jupyter.widget-view+json": {
              "model_id": "ac5ddf5d46a44296ab95c28133f2d802",
              "version_major": 2,
              "version_minor": 0
            },
            "text/plain": [
              "  0%|          | 0/113 [00:00<?, ?it/s]"
            ]
          },
          "metadata": {},
          "output_type": "display_data"
        },
        {
          "name": "stdout",
          "output_type": "stream",
          "text": [
            "{'eval_loss': 1.0280202627182007, 'eval_accuracy': 0.47888888888888886, 'eval_runtime': 3.3045, 'eval_samples_per_second': 544.716, 'eval_steps_per_second': 34.196, 'epoch': 2.11}\n",
            "{'loss': 1.0474, 'learning_rate': 7.222222222222223e-06, 'epoch': 2.22}\n"
          ]
        },
        {
          "data": {
            "application/vnd.jupyter.widget-view+json": {
              "model_id": "869ff26a76764395a390f2c0574d6726",
              "version_major": 2,
              "version_minor": 0
            },
            "text/plain": [
              "  0%|          | 0/113 [00:00<?, ?it/s]"
            ]
          },
          "metadata": {},
          "output_type": "display_data"
        },
        {
          "name": "stdout",
          "output_type": "stream",
          "text": [
            "{'eval_loss': 1.018078327178955, 'eval_accuracy': 0.5094444444444445, 'eval_runtime': 3.3189, 'eval_samples_per_second': 542.349, 'eval_steps_per_second': 34.047, 'epoch': 2.22}\n",
            "{'loss': 1.0365, 'learning_rate': 7.083333333333335e-06, 'epoch': 2.33}\n"
          ]
        },
        {
          "data": {
            "application/vnd.jupyter.widget-view+json": {
              "model_id": "4ee0511a92a6437daeb91019d0da11c6",
              "version_major": 2,
              "version_minor": 0
            },
            "text/plain": [
              "  0%|          | 0/113 [00:00<?, ?it/s]"
            ]
          },
          "metadata": {},
          "output_type": "display_data"
        },
        {
          "name": "stdout",
          "output_type": "stream",
          "text": [
            "{'eval_loss': 1.0113526582717896, 'eval_accuracy': 0.5016666666666667, 'eval_runtime': 3.3241, 'eval_samples_per_second': 541.502, 'eval_steps_per_second': 33.994, 'epoch': 2.33}\n",
            "{'loss': 1.035, 'learning_rate': 6.944444444444445e-06, 'epoch': 2.44}\n"
          ]
        },
        {
          "data": {
            "application/vnd.jupyter.widget-view+json": {
              "model_id": "bc83f373a431438faf6f2fbf6a2ffb80",
              "version_major": 2,
              "version_minor": 0
            },
            "text/plain": [
              "  0%|          | 0/113 [00:00<?, ?it/s]"
            ]
          },
          "metadata": {},
          "output_type": "display_data"
        },
        {
          "name": "stdout",
          "output_type": "stream",
          "text": [
            "{'eval_loss': 1.0099529027938843, 'eval_accuracy': 0.48777777777777775, 'eval_runtime': 3.3708, 'eval_samples_per_second': 534.002, 'eval_steps_per_second': 33.523, 'epoch': 2.44}\n",
            "{'loss': 1.0178, 'learning_rate': 6.8055555555555566e-06, 'epoch': 2.56}\n"
          ]
        },
        {
          "data": {
            "application/vnd.jupyter.widget-view+json": {
              "model_id": "453f43c939fe4ea186e9a525db549540",
              "version_major": 2,
              "version_minor": 0
            },
            "text/plain": [
              "  0%|          | 0/113 [00:00<?, ?it/s]"
            ]
          },
          "metadata": {},
          "output_type": "display_data"
        },
        {
          "name": "stdout",
          "output_type": "stream",
          "text": [
            "{'eval_loss': 1.0057930946350098, 'eval_accuracy': 0.4772222222222222, 'eval_runtime': 4.5016, 'eval_samples_per_second': 399.861, 'eval_steps_per_second': 25.102, 'epoch': 2.56}\n",
            "{'loss': 1.0186, 'learning_rate': 6.666666666666667e-06, 'epoch': 2.67}\n"
          ]
        },
        {
          "data": {
            "application/vnd.jupyter.widget-view+json": {
              "model_id": "b71e250c81cf4711a119ce6d2a0ec739",
              "version_major": 2,
              "version_minor": 0
            },
            "text/plain": [
              "  0%|          | 0/113 [00:00<?, ?it/s]"
            ]
          },
          "metadata": {},
          "output_type": "display_data"
        },
        {
          "name": "stdout",
          "output_type": "stream",
          "text": [
            "{'eval_loss': 1.0006273984909058, 'eval_accuracy': 0.5138888888888888, 'eval_runtime': 3.3255, 'eval_samples_per_second': 541.27, 'eval_steps_per_second': 33.98, 'epoch': 2.67}\n",
            "{'loss': 1.0069, 'learning_rate': 6.5277777777777784e-06, 'epoch': 2.78}\n"
          ]
        },
        {
          "data": {
            "application/vnd.jupyter.widget-view+json": {
              "model_id": "baea4a0c6e4f406883747146ffd334ad",
              "version_major": 2,
              "version_minor": 0
            },
            "text/plain": [
              "  0%|          | 0/113 [00:00<?, ?it/s]"
            ]
          },
          "metadata": {},
          "output_type": "display_data"
        },
        {
          "name": "stdout",
          "output_type": "stream",
          "text": [
            "{'eval_loss': 0.983172595500946, 'eval_accuracy': 0.5355555555555556, 'eval_runtime': 3.317, 'eval_samples_per_second': 542.66, 'eval_steps_per_second': 34.067, 'epoch': 2.78}\n",
            "{'loss': 1.0133, 'learning_rate': 6.3888888888888885e-06, 'epoch': 2.89}\n"
          ]
        },
        {
          "data": {
            "application/vnd.jupyter.widget-view+json": {
              "model_id": "76d8b2ed34a043b3aacd2891633270a2",
              "version_major": 2,
              "version_minor": 0
            },
            "text/plain": [
              "  0%|          | 0/113 [00:00<?, ?it/s]"
            ]
          },
          "metadata": {},
          "output_type": "display_data"
        },
        {
          "name": "stdout",
          "output_type": "stream",
          "text": [
            "{'eval_loss': 0.9802438616752625, 'eval_accuracy': 0.5283333333333333, 'eval_runtime': 4.8425, 'eval_samples_per_second': 371.712, 'eval_steps_per_second': 23.335, 'epoch': 2.89}\n",
            "{'loss': 0.9997, 'learning_rate': 6.25e-06, 'epoch': 3.0}\n"
          ]
        },
        {
          "data": {
            "application/vnd.jupyter.widget-view+json": {
              "model_id": "fcc1537c503548e4a012b3d9efcb6c38",
              "version_major": 2,
              "version_minor": 0
            },
            "text/plain": [
              "  0%|          | 0/113 [00:00<?, ?it/s]"
            ]
          },
          "metadata": {},
          "output_type": "display_data"
        },
        {
          "name": "stdout",
          "output_type": "stream",
          "text": [
            "{'eval_loss': 0.9781795740127563, 'eval_accuracy': 0.5277777777777778, 'eval_runtime': 4.8004, 'eval_samples_per_second': 374.972, 'eval_steps_per_second': 23.54, 'epoch': 3.0}\n",
            "{'loss': 0.9885, 'learning_rate': 6.111111111111112e-06, 'epoch': 3.11}\n"
          ]
        },
        {
          "data": {
            "application/vnd.jupyter.widget-view+json": {
              "model_id": "eb85db775d4f4bceb48b740a7f8a53f3",
              "version_major": 2,
              "version_minor": 0
            },
            "text/plain": [
              "  0%|          | 0/113 [00:00<?, ?it/s]"
            ]
          },
          "metadata": {},
          "output_type": "display_data"
        },
        {
          "name": "stdout",
          "output_type": "stream",
          "text": [
            "{'eval_loss': 0.9758297801017761, 'eval_accuracy': 0.5166666666666667, 'eval_runtime': 4.8448, 'eval_samples_per_second': 371.531, 'eval_steps_per_second': 23.324, 'epoch': 3.11}\n",
            "{'loss': 0.9793, 'learning_rate': 5.972222222222222e-06, 'epoch': 3.22}\n"
          ]
        },
        {
          "data": {
            "application/vnd.jupyter.widget-view+json": {
              "model_id": "92bb7a45f7334881925e3c0a6981e8bb",
              "version_major": 2,
              "version_minor": 0
            },
            "text/plain": [
              "  0%|          | 0/113 [00:00<?, ?it/s]"
            ]
          },
          "metadata": {},
          "output_type": "display_data"
        },
        {
          "name": "stdout",
          "output_type": "stream",
          "text": [
            "{'eval_loss': 0.9648535847663879, 'eval_accuracy': 0.5361111111111111, 'eval_runtime': 4.983, 'eval_samples_per_second': 361.23, 'eval_steps_per_second': 22.677, 'epoch': 3.22}\n",
            "{'loss': 1.0048, 'learning_rate': 5.833333333333334e-06, 'epoch': 3.33}\n"
          ]
        },
        {
          "data": {
            "application/vnd.jupyter.widget-view+json": {
              "model_id": "96dabb85d1e8416dab8bc41dad1f40f9",
              "version_major": 2,
              "version_minor": 0
            },
            "text/plain": [
              "  0%|          | 0/113 [00:00<?, ?it/s]"
            ]
          },
          "metadata": {},
          "output_type": "display_data"
        },
        {
          "name": "stdout",
          "output_type": "stream",
          "text": [
            "{'eval_loss': 0.970766544342041, 'eval_accuracy': 0.5188888888888888, 'eval_runtime': 3.3075, 'eval_samples_per_second': 544.214, 'eval_steps_per_second': 34.165, 'epoch': 3.33}\n",
            "{'loss': 1.0022, 'learning_rate': 5.694444444444445e-06, 'epoch': 3.44}\n"
          ]
        },
        {
          "data": {
            "application/vnd.jupyter.widget-view+json": {
              "model_id": "89f8c23ae20c4233a23705f0a6adb32f",
              "version_major": 2,
              "version_minor": 0
            },
            "text/plain": [
              "  0%|          | 0/113 [00:00<?, ?it/s]"
            ]
          },
          "metadata": {},
          "output_type": "display_data"
        },
        {
          "name": "stdout",
          "output_type": "stream",
          "text": [
            "{'eval_loss': 0.9726232886314392, 'eval_accuracy': 0.5105555555555555, 'eval_runtime': 3.3081, 'eval_samples_per_second': 544.113, 'eval_steps_per_second': 34.158, 'epoch': 3.44}\n",
            "{'loss': 0.9859, 'learning_rate': 5.555555555555557e-06, 'epoch': 3.56}\n"
          ]
        },
        {
          "data": {
            "application/vnd.jupyter.widget-view+json": {
              "model_id": "680f8dd45e84454cbd7b9b911b14d257",
              "version_major": 2,
              "version_minor": 0
            },
            "text/plain": [
              "  0%|          | 0/113 [00:00<?, ?it/s]"
            ]
          },
          "metadata": {},
          "output_type": "display_data"
        },
        {
          "name": "stdout",
          "output_type": "stream",
          "text": [
            "{'eval_loss': 0.9688979983329773, 'eval_accuracy': 0.5122222222222222, 'eval_runtime': 3.4032, 'eval_samples_per_second': 528.91, 'eval_steps_per_second': 33.204, 'epoch': 3.56}\n",
            "{'loss': 0.9942, 'learning_rate': 5.416666666666667e-06, 'epoch': 3.67}\n"
          ]
        },
        {
          "data": {
            "application/vnd.jupyter.widget-view+json": {
              "model_id": "474ddcc033a3401ca13f9b03c1c680d6",
              "version_major": 2,
              "version_minor": 0
            },
            "text/plain": [
              "  0%|          | 0/113 [00:00<?, ?it/s]"
            ]
          },
          "metadata": {},
          "output_type": "display_data"
        },
        {
          "name": "stdout",
          "output_type": "stream",
          "text": [
            "{'eval_loss': 0.9561260342597961, 'eval_accuracy': 0.5338888888888889, 'eval_runtime': 3.3205, 'eval_samples_per_second': 542.088, 'eval_steps_per_second': 34.031, 'epoch': 3.67}\n",
            "{'loss': 0.9648, 'learning_rate': 5.2777777777777785e-06, 'epoch': 3.78}\n"
          ]
        },
        {
          "data": {
            "application/vnd.jupyter.widget-view+json": {
              "model_id": "64649b8e18df4137b2bba5f3d0c82d1d",
              "version_major": 2,
              "version_minor": 0
            },
            "text/plain": [
              "  0%|          | 0/113 [00:00<?, ?it/s]"
            ]
          },
          "metadata": {},
          "output_type": "display_data"
        },
        {
          "name": "stdout",
          "output_type": "stream",
          "text": [
            "{'eval_loss': 0.9434004426002502, 'eval_accuracy': 0.5361111111111111, 'eval_runtime': 3.3384, 'eval_samples_per_second': 539.185, 'eval_steps_per_second': 33.849, 'epoch': 3.78}\n",
            "{'loss': 0.9616, 'learning_rate': 5.138888888888889e-06, 'epoch': 3.89}\n"
          ]
        },
        {
          "data": {
            "application/vnd.jupyter.widget-view+json": {
              "model_id": "7cc66a4fc76a4718868aa9548ebb6a4d",
              "version_major": 2,
              "version_minor": 0
            },
            "text/plain": [
              "  0%|          | 0/113 [00:00<?, ?it/s]"
            ]
          },
          "metadata": {},
          "output_type": "display_data"
        },
        {
          "name": "stdout",
          "output_type": "stream",
          "text": [
            "{'eval_loss': 0.933513343334198, 'eval_accuracy': 0.5561111111111111, 'eval_runtime': 3.3113, 'eval_samples_per_second': 543.591, 'eval_steps_per_second': 34.125, 'epoch': 3.89}\n",
            "{'loss': 0.9654, 'learning_rate': 5e-06, 'epoch': 4.0}\n"
          ]
        },
        {
          "data": {
            "application/vnd.jupyter.widget-view+json": {
              "model_id": "f2031e20fd284ff98fea9166db00f70a",
              "version_major": 2,
              "version_minor": 0
            },
            "text/plain": [
              "  0%|          | 0/113 [00:00<?, ?it/s]"
            ]
          },
          "metadata": {},
          "output_type": "display_data"
        },
        {
          "name": "stdout",
          "output_type": "stream",
          "text": [
            "{'eval_loss': 0.9353312253952026, 'eval_accuracy': 0.5438888888888889, 'eval_runtime': 3.3062, 'eval_samples_per_second': 544.433, 'eval_steps_per_second': 34.178, 'epoch': 4.0}\n",
            "{'loss': 0.9471, 'learning_rate': 4.861111111111111e-06, 'epoch': 4.11}\n"
          ]
        },
        {
          "data": {
            "application/vnd.jupyter.widget-view+json": {
              "model_id": "fac467bd0143421e954c69478e4e6518",
              "version_major": 2,
              "version_minor": 0
            },
            "text/plain": [
              "  0%|          | 0/113 [00:00<?, ?it/s]"
            ]
          },
          "metadata": {},
          "output_type": "display_data"
        },
        {
          "name": "stdout",
          "output_type": "stream",
          "text": [
            "{'eval_loss': 0.927049994468689, 'eval_accuracy': 0.5494444444444444, 'eval_runtime': 3.307, 'eval_samples_per_second': 544.303, 'eval_steps_per_second': 34.17, 'epoch': 4.11}\n",
            "{'loss': 0.964, 'learning_rate': 4.722222222222222e-06, 'epoch': 4.22}\n"
          ]
        },
        {
          "data": {
            "application/vnd.jupyter.widget-view+json": {
              "model_id": "18ac46a67db14cd394f7e6adbfcec7da",
              "version_major": 2,
              "version_minor": 0
            },
            "text/plain": [
              "  0%|          | 0/113 [00:00<?, ?it/s]"
            ]
          },
          "metadata": {},
          "output_type": "display_data"
        },
        {
          "name": "stdout",
          "output_type": "stream",
          "text": [
            "{'eval_loss': 0.9206553101539612, 'eval_accuracy': 0.5533333333333333, 'eval_runtime': 3.3061, 'eval_samples_per_second': 544.441, 'eval_steps_per_second': 34.179, 'epoch': 4.22}\n",
            "{'loss': 0.9552, 'learning_rate': 4.583333333333333e-06, 'epoch': 4.33}\n"
          ]
        },
        {
          "data": {
            "application/vnd.jupyter.widget-view+json": {
              "model_id": "10be873651d944c69e489c2b6dc211ec",
              "version_major": 2,
              "version_minor": 0
            },
            "text/plain": [
              "  0%|          | 0/113 [00:00<?, ?it/s]"
            ]
          },
          "metadata": {},
          "output_type": "display_data"
        },
        {
          "name": "stdout",
          "output_type": "stream",
          "text": [
            "{'eval_loss': 0.9204319715499878, 'eval_accuracy': 0.5488888888888889, 'eval_runtime': 3.4196, 'eval_samples_per_second': 526.384, 'eval_steps_per_second': 33.045, 'epoch': 4.33}\n",
            "{'loss': 0.9296, 'learning_rate': 4.444444444444444e-06, 'epoch': 4.44}\n"
          ]
        },
        {
          "data": {
            "application/vnd.jupyter.widget-view+json": {
              "model_id": "674e1099e63e44809b270f50c769b5fb",
              "version_major": 2,
              "version_minor": 0
            },
            "text/plain": [
              "  0%|          | 0/113 [00:00<?, ?it/s]"
            ]
          },
          "metadata": {},
          "output_type": "display_data"
        },
        {
          "name": "stdout",
          "output_type": "stream",
          "text": [
            "{'eval_loss': 0.9216210842132568, 'eval_accuracy': 0.5483333333333333, 'eval_runtime': 3.438, 'eval_samples_per_second': 523.558, 'eval_steps_per_second': 32.868, 'epoch': 4.44}\n",
            "{'loss': 0.9364, 'learning_rate': 4.305555555555556e-06, 'epoch': 4.56}\n"
          ]
        },
        {
          "data": {
            "application/vnd.jupyter.widget-view+json": {
              "model_id": "4448986650ec4368add1472a9cfdda57",
              "version_major": 2,
              "version_minor": 0
            },
            "text/plain": [
              "  0%|          | 0/113 [00:00<?, ?it/s]"
            ]
          },
          "metadata": {},
          "output_type": "display_data"
        },
        {
          "name": "stdout",
          "output_type": "stream",
          "text": [
            "{'eval_loss': 0.9170159101486206, 'eval_accuracy': 0.55, 'eval_runtime': 3.3176, 'eval_samples_per_second': 542.569, 'eval_steps_per_second': 34.061, 'epoch': 4.56}\n",
            "{'loss': 0.961, 'learning_rate': 4.166666666666667e-06, 'epoch': 4.67}\n"
          ]
        },
        {
          "data": {
            "application/vnd.jupyter.widget-view+json": {
              "model_id": "3d0a77b6a87b41d3868081b0a83e6a3c",
              "version_major": 2,
              "version_minor": 0
            },
            "text/plain": [
              "  0%|          | 0/113 [00:00<?, ?it/s]"
            ]
          },
          "metadata": {},
          "output_type": "display_data"
        },
        {
          "name": "stdout",
          "output_type": "stream",
          "text": [
            "{'eval_loss': 0.9151784777641296, 'eval_accuracy': 0.5527777777777778, 'eval_runtime': 4.8745, 'eval_samples_per_second': 369.267, 'eval_steps_per_second': 23.182, 'epoch': 4.67}\n",
            "{'loss': 0.9725, 'learning_rate': 4.027777777777779e-06, 'epoch': 4.78}\n"
          ]
        },
        {
          "data": {
            "application/vnd.jupyter.widget-view+json": {
              "model_id": "9f692d3d3fd34513946639331b023876",
              "version_major": 2,
              "version_minor": 0
            },
            "text/plain": [
              "  0%|          | 0/113 [00:00<?, ?it/s]"
            ]
          },
          "metadata": {},
          "output_type": "display_data"
        },
        {
          "name": "stdout",
          "output_type": "stream",
          "text": [
            "{'eval_loss': 0.9171426296234131, 'eval_accuracy': 0.5433333333333333, 'eval_runtime': 4.9517, 'eval_samples_per_second': 363.512, 'eval_steps_per_second': 22.82, 'epoch': 4.78}\n",
            "{'loss': 0.9489, 'learning_rate': 3.88888888888889e-06, 'epoch': 4.89}\n"
          ]
        },
        {
          "data": {
            "application/vnd.jupyter.widget-view+json": {
              "model_id": "dba7cffcd4b1405ba8ee959560b24ebd",
              "version_major": 2,
              "version_minor": 0
            },
            "text/plain": [
              "  0%|          | 0/113 [00:00<?, ?it/s]"
            ]
          },
          "metadata": {},
          "output_type": "display_data"
        },
        {
          "name": "stdout",
          "output_type": "stream",
          "text": [
            "{'eval_loss': 0.917639970779419, 'eval_accuracy': 0.5488888888888889, 'eval_runtime': 5.1163, 'eval_samples_per_second': 351.818, 'eval_steps_per_second': 22.086, 'epoch': 4.89}\n",
            "{'loss': 0.9507, 'learning_rate': 3.7500000000000005e-06, 'epoch': 5.0}\n"
          ]
        },
        {
          "data": {
            "application/vnd.jupyter.widget-view+json": {
              "model_id": "c9b0d32122514d0f8516f6976762b8a7",
              "version_major": 2,
              "version_minor": 0
            },
            "text/plain": [
              "  0%|          | 0/113 [00:00<?, ?it/s]"
            ]
          },
          "metadata": {},
          "output_type": "display_data"
        },
        {
          "name": "stdout",
          "output_type": "stream",
          "text": [
            "{'eval_loss': 0.9224867224693298, 'eval_accuracy': 0.5488888888888889, 'eval_runtime': 3.276, 'eval_samples_per_second': 549.448, 'eval_steps_per_second': 34.493, 'epoch': 5.0}\n",
            "{'loss': 0.9502, 'learning_rate': 3.6111111111111115e-06, 'epoch': 5.11}\n"
          ]
        },
        {
          "data": {
            "application/vnd.jupyter.widget-view+json": {
              "model_id": "e845ae9356bd4e8f9f13dac0d57f4a67",
              "version_major": 2,
              "version_minor": 0
            },
            "text/plain": [
              "  0%|          | 0/113 [00:00<?, ?it/s]"
            ]
          },
          "metadata": {},
          "output_type": "display_data"
        },
        {
          "name": "stdout",
          "output_type": "stream",
          "text": [
            "{'eval_loss': 0.9287129640579224, 'eval_accuracy': 0.5372222222222223, 'eval_runtime': 3.2982, 'eval_samples_per_second': 545.749, 'eval_steps_per_second': 34.261, 'epoch': 5.11}\n",
            "{'loss': 0.957, 'learning_rate': 3.4722222222222224e-06, 'epoch': 5.22}\n"
          ]
        },
        {
          "data": {
            "application/vnd.jupyter.widget-view+json": {
              "model_id": "98b2637678c0409ca167c67b4965ac00",
              "version_major": 2,
              "version_minor": 0
            },
            "text/plain": [
              "  0%|          | 0/113 [00:00<?, ?it/s]"
            ]
          },
          "metadata": {},
          "output_type": "display_data"
        },
        {
          "name": "stdout",
          "output_type": "stream",
          "text": [
            "{'eval_loss': 0.9383553266525269, 'eval_accuracy': 0.5294444444444445, 'eval_runtime': 3.3324, 'eval_samples_per_second': 540.158, 'eval_steps_per_second': 33.91, 'epoch': 5.22}\n",
            "{'loss': 0.9554, 'learning_rate': 3.3333333333333333e-06, 'epoch': 5.33}\n"
          ]
        },
        {
          "data": {
            "application/vnd.jupyter.widget-view+json": {
              "model_id": "0cbd8e17e39541b4b92c3a7aa17562c8",
              "version_major": 2,
              "version_minor": 0
            },
            "text/plain": [
              "  0%|          | 0/113 [00:00<?, ?it/s]"
            ]
          },
          "metadata": {},
          "output_type": "display_data"
        },
        {
          "name": "stdout",
          "output_type": "stream",
          "text": [
            "{'eval_loss': 0.9333527684211731, 'eval_accuracy': 0.5338888888888889, 'eval_runtime': 3.3153, 'eval_samples_per_second': 542.939, 'eval_steps_per_second': 34.084, 'epoch': 5.33}\n",
            "{'loss': 0.9538, 'learning_rate': 3.1944444444444443e-06, 'epoch': 5.44}\n"
          ]
        },
        {
          "data": {
            "application/vnd.jupyter.widget-view+json": {
              "model_id": "fa66295b1a2f4234be689aa4179fb375",
              "version_major": 2,
              "version_minor": 0
            },
            "text/plain": [
              "  0%|          | 0/113 [00:00<?, ?it/s]"
            ]
          },
          "metadata": {},
          "output_type": "display_data"
        },
        {
          "name": "stdout",
          "output_type": "stream",
          "text": [
            "{'eval_loss': 0.9352890253067017, 'eval_accuracy': 0.5405555555555556, 'eval_runtime': 3.2985, 'eval_samples_per_second': 545.7, 'eval_steps_per_second': 34.258, 'epoch': 5.44}\n",
            "{'loss': 0.9439, 'learning_rate': 3.055555555555556e-06, 'epoch': 5.56}\n"
          ]
        },
        {
          "data": {
            "application/vnd.jupyter.widget-view+json": {
              "model_id": "3223d016bc684c67a979fc0768ea8699",
              "version_major": 2,
              "version_minor": 0
            },
            "text/plain": [
              "  0%|          | 0/113 [00:00<?, ?it/s]"
            ]
          },
          "metadata": {},
          "output_type": "display_data"
        },
        {
          "name": "stdout",
          "output_type": "stream",
          "text": [
            "{'eval_loss': 0.9323834776878357, 'eval_accuracy': 0.5411111111111111, 'eval_runtime': 3.3678, 'eval_samples_per_second': 534.467, 'eval_steps_per_second': 33.553, 'epoch': 5.56}\n",
            "{'loss': 0.9415, 'learning_rate': 2.916666666666667e-06, 'epoch': 5.67}\n"
          ]
        },
        {
          "data": {
            "application/vnd.jupyter.widget-view+json": {
              "model_id": "ece4004fbd7440b3be5fc628d355b890",
              "version_major": 2,
              "version_minor": 0
            },
            "text/plain": [
              "  0%|          | 0/113 [00:00<?, ?it/s]"
            ]
          },
          "metadata": {},
          "output_type": "display_data"
        },
        {
          "name": "stdout",
          "output_type": "stream",
          "text": [
            "{'eval_loss': 0.9362111687660217, 'eval_accuracy': 0.5366666666666666, 'eval_runtime': 3.3311, 'eval_samples_per_second': 540.354, 'eval_steps_per_second': 33.922, 'epoch': 5.67}\n",
            "{'loss': 0.9476, 'learning_rate': 2.7777777777777783e-06, 'epoch': 5.78}\n"
          ]
        },
        {
          "data": {
            "application/vnd.jupyter.widget-view+json": {
              "model_id": "1b812cdc40534b9db856451796cd1130",
              "version_major": 2,
              "version_minor": 0
            },
            "text/plain": [
              "  0%|          | 0/113 [00:00<?, ?it/s]"
            ]
          },
          "metadata": {},
          "output_type": "display_data"
        },
        {
          "name": "stdout",
          "output_type": "stream",
          "text": [
            "{'eval_loss': 0.937575101852417, 'eval_accuracy': 0.5311111111111111, 'eval_runtime': 3.4006, 'eval_samples_per_second': 529.316, 'eval_steps_per_second': 33.229, 'epoch': 5.78}\n",
            "{'loss': 0.9447, 'learning_rate': 2.6388888888888893e-06, 'epoch': 5.89}\n"
          ]
        },
        {
          "data": {
            "application/vnd.jupyter.widget-view+json": {
              "model_id": "47865fb61f584507aa2ea8c9b3f90f20",
              "version_major": 2,
              "version_minor": 0
            },
            "text/plain": [
              "  0%|          | 0/113 [00:00<?, ?it/s]"
            ]
          },
          "metadata": {},
          "output_type": "display_data"
        },
        {
          "name": "stdout",
          "output_type": "stream",
          "text": [
            "{'eval_loss': 0.9366404414176941, 'eval_accuracy': 0.5327777777777778, 'eval_runtime': 3.3246, 'eval_samples_per_second': 541.415, 'eval_steps_per_second': 33.989, 'epoch': 5.89}\n",
            "{'loss': 0.9612, 'learning_rate': 2.5e-06, 'epoch': 6.0}\n"
          ]
        },
        {
          "data": {
            "application/vnd.jupyter.widget-view+json": {
              "model_id": "f1ca82d342a44219abefde269398dbac",
              "version_major": 2,
              "version_minor": 0
            },
            "text/plain": [
              "  0%|          | 0/113 [00:00<?, ?it/s]"
            ]
          },
          "metadata": {},
          "output_type": "display_data"
        },
        {
          "name": "stdout",
          "output_type": "stream",
          "text": [
            "{'eval_loss': 0.9412257671356201, 'eval_accuracy': 0.5255555555555556, 'eval_runtime': 3.4672, 'eval_samples_per_second': 519.153, 'eval_steps_per_second': 32.591, 'epoch': 6.0}\n",
            "{'loss': 0.9355, 'learning_rate': 2.361111111111111e-06, 'epoch': 6.11}\n"
          ]
        },
        {
          "data": {
            "application/vnd.jupyter.widget-view+json": {
              "model_id": "b16ff1215c1943bd81335ae08f6e1bf9",
              "version_major": 2,
              "version_minor": 0
            },
            "text/plain": [
              "  0%|          | 0/113 [00:00<?, ?it/s]"
            ]
          },
          "metadata": {},
          "output_type": "display_data"
        },
        {
          "name": "stdout",
          "output_type": "stream",
          "text": [
            "{'eval_loss': 0.9334142804145813, 'eval_accuracy': 0.5533333333333333, 'eval_runtime': 3.3709, 'eval_samples_per_second': 533.989, 'eval_steps_per_second': 33.523, 'epoch': 6.11}\n",
            "{'loss': 0.9534, 'learning_rate': 2.222222222222222e-06, 'epoch': 6.22}\n"
          ]
        },
        {
          "data": {
            "application/vnd.jupyter.widget-view+json": {
              "model_id": "334d255aef5240b09c2bc14a2e7b6f83",
              "version_major": 2,
              "version_minor": 0
            },
            "text/plain": [
              "  0%|          | 0/113 [00:00<?, ?it/s]"
            ]
          },
          "metadata": {},
          "output_type": "display_data"
        },
        {
          "name": "stdout",
          "output_type": "stream",
          "text": [
            "{'eval_loss': 0.9347800016403198, 'eval_accuracy': 0.5477777777777778, 'eval_runtime': 3.3987, 'eval_samples_per_second': 529.616, 'eval_steps_per_second': 33.248, 'epoch': 6.22}\n",
            "{'loss': 0.959, 'learning_rate': 2.0833333333333334e-06, 'epoch': 6.33}\n"
          ]
        },
        {
          "data": {
            "application/vnd.jupyter.widget-view+json": {
              "model_id": "5d52f1ffff29473f8e080e329f61154d",
              "version_major": 2,
              "version_minor": 0
            },
            "text/plain": [
              "  0%|          | 0/113 [00:00<?, ?it/s]"
            ]
          },
          "metadata": {},
          "output_type": "display_data"
        },
        {
          "name": "stdout",
          "output_type": "stream",
          "text": [
            "{'eval_loss': 0.9353819489479065, 'eval_accuracy': 0.5461111111111111, 'eval_runtime': 3.4759, 'eval_samples_per_second': 517.859, 'eval_steps_per_second': 32.51, 'epoch': 6.33}\n",
            "{'loss': 0.9508, 'learning_rate': 1.944444444444445e-06, 'epoch': 6.44}\n"
          ]
        },
        {
          "data": {
            "application/vnd.jupyter.widget-view+json": {
              "model_id": "f82383358a1849f085da2ba48c3273ed",
              "version_major": 2,
              "version_minor": 0
            },
            "text/plain": [
              "  0%|          | 0/113 [00:00<?, ?it/s]"
            ]
          },
          "metadata": {},
          "output_type": "display_data"
        },
        {
          "name": "stdout",
          "output_type": "stream",
          "text": [
            "{'eval_loss': 0.932924211025238, 'eval_accuracy': 0.5433333333333333, 'eval_runtime': 3.4964, 'eval_samples_per_second': 514.815, 'eval_steps_per_second': 32.319, 'epoch': 6.44}\n",
            "{'loss': 0.933, 'learning_rate': 1.8055555555555557e-06, 'epoch': 6.56}\n"
          ]
        },
        {
          "data": {
            "application/vnd.jupyter.widget-view+json": {
              "model_id": "ac4a383118144e92a3bfb3c6338a9808",
              "version_major": 2,
              "version_minor": 0
            },
            "text/plain": [
              "  0%|          | 0/113 [00:00<?, ?it/s]"
            ]
          },
          "metadata": {},
          "output_type": "display_data"
        },
        {
          "name": "stdout",
          "output_type": "stream",
          "text": [
            "{'eval_loss': 0.9316879510879517, 'eval_accuracy': 0.5461111111111111, 'eval_runtime': 3.6982, 'eval_samples_per_second': 486.72, 'eval_steps_per_second': 30.555, 'epoch': 6.56}\n",
            "{'loss': 0.9344, 'learning_rate': 1.6666666666666667e-06, 'epoch': 6.67}\n"
          ]
        },
        {
          "data": {
            "application/vnd.jupyter.widget-view+json": {
              "model_id": "6c7e4523c550487ebbb13f8fc1850e32",
              "version_major": 2,
              "version_minor": 0
            },
            "text/plain": [
              "  0%|          | 0/113 [00:00<?, ?it/s]"
            ]
          },
          "metadata": {},
          "output_type": "display_data"
        },
        {
          "name": "stdout",
          "output_type": "stream",
          "text": [
            "{'eval_loss': 0.9289883375167847, 'eval_accuracy': 0.5516666666666666, 'eval_runtime': 3.6495, 'eval_samples_per_second': 493.217, 'eval_steps_per_second': 30.963, 'epoch': 6.67}\n",
            "{'loss': 0.9508, 'learning_rate': 1.527777777777778e-06, 'epoch': 6.78}\n"
          ]
        },
        {
          "data": {
            "application/vnd.jupyter.widget-view+json": {
              "model_id": "c003f6f4ffbc40df8371e367d96bba2c",
              "version_major": 2,
              "version_minor": 0
            },
            "text/plain": [
              "  0%|          | 0/113 [00:00<?, ?it/s]"
            ]
          },
          "metadata": {},
          "output_type": "display_data"
        },
        {
          "name": "stdout",
          "output_type": "stream",
          "text": [
            "{'eval_loss': 0.9279426336288452, 'eval_accuracy': 0.555, 'eval_runtime': 3.3075, 'eval_samples_per_second': 544.216, 'eval_steps_per_second': 34.165, 'epoch': 6.78}\n",
            "{'loss': 0.9607, 'learning_rate': 1.3888888888888892e-06, 'epoch': 6.89}\n"
          ]
        },
        {
          "data": {
            "application/vnd.jupyter.widget-view+json": {
              "model_id": "fcc6f5b15f79420ca6e08564bfc446f9",
              "version_major": 2,
              "version_minor": 0
            },
            "text/plain": [
              "  0%|          | 0/113 [00:00<?, ?it/s]"
            ]
          },
          "metadata": {},
          "output_type": "display_data"
        },
        {
          "name": "stdout",
          "output_type": "stream",
          "text": [
            "{'eval_loss': 0.9282623529434204, 'eval_accuracy': 0.5516666666666666, 'eval_runtime': 3.3215, 'eval_samples_per_second': 541.919, 'eval_steps_per_second': 34.02, 'epoch': 6.89}\n",
            "{'loss': 0.9511, 'learning_rate': 1.25e-06, 'epoch': 7.0}\n"
          ]
        },
        {
          "data": {
            "application/vnd.jupyter.widget-view+json": {
              "model_id": "4cd10ffc9bc5468793c5feb23b23b56b",
              "version_major": 2,
              "version_minor": 0
            },
            "text/plain": [
              "  0%|          | 0/113 [00:00<?, ?it/s]"
            ]
          },
          "metadata": {},
          "output_type": "display_data"
        },
        {
          "name": "stdout",
          "output_type": "stream",
          "text": [
            "{'eval_loss': 0.9324374794960022, 'eval_accuracy': 0.55, 'eval_runtime': 3.3062, 'eval_samples_per_second': 544.429, 'eval_steps_per_second': 34.178, 'epoch': 7.0}\n",
            "{'loss': 0.9513, 'learning_rate': 1.111111111111111e-06, 'epoch': 7.11}\n"
          ]
        },
        {
          "data": {
            "application/vnd.jupyter.widget-view+json": {
              "model_id": "1655a73b80bc4510ae9618d298ceec79",
              "version_major": 2,
              "version_minor": 0
            },
            "text/plain": [
              "  0%|          | 0/113 [00:00<?, ?it/s]"
            ]
          },
          "metadata": {},
          "output_type": "display_data"
        },
        {
          "name": "stdout",
          "output_type": "stream",
          "text": [
            "{'eval_loss': 0.9287338852882385, 'eval_accuracy': 0.5538888888888889, 'eval_runtime': 5.0651, 'eval_samples_per_second': 355.376, 'eval_steps_per_second': 22.31, 'epoch': 7.11}\n",
            "{'loss': 0.964, 'learning_rate': 9.722222222222224e-07, 'epoch': 7.22}\n"
          ]
        },
        {
          "data": {
            "application/vnd.jupyter.widget-view+json": {
              "model_id": "bca79289bf374f19a0950f075e554473",
              "version_major": 2,
              "version_minor": 0
            },
            "text/plain": [
              "  0%|          | 0/113 [00:00<?, ?it/s]"
            ]
          },
          "metadata": {},
          "output_type": "display_data"
        },
        {
          "name": "stdout",
          "output_type": "stream",
          "text": [
            "{'eval_loss': 0.9272887110710144, 'eval_accuracy': 0.5516666666666666, 'eval_runtime': 3.3882, 'eval_samples_per_second': 531.248, 'eval_steps_per_second': 33.351, 'epoch': 7.22}\n",
            "{'loss': 0.9449, 'learning_rate': 8.333333333333333e-07, 'epoch': 7.33}\n"
          ]
        },
        {
          "data": {
            "application/vnd.jupyter.widget-view+json": {
              "model_id": "c2e05dec80e24e9380b712eff2010af4",
              "version_major": 2,
              "version_minor": 0
            },
            "text/plain": [
              "  0%|          | 0/113 [00:00<?, ?it/s]"
            ]
          },
          "metadata": {},
          "output_type": "display_data"
        },
        {
          "name": "stdout",
          "output_type": "stream",
          "text": [
            "{'eval_loss': 0.928044855594635, 'eval_accuracy': 0.5544444444444444, 'eval_runtime': 3.415, 'eval_samples_per_second': 527.093, 'eval_steps_per_second': 33.09, 'epoch': 7.33}\n",
            "{'loss': 0.9461, 'learning_rate': 6.944444444444446e-07, 'epoch': 7.44}\n"
          ]
        },
        {
          "data": {
            "application/vnd.jupyter.widget-view+json": {
              "model_id": "59953c1ca17a42a289d6fe142e617499",
              "version_major": 2,
              "version_minor": 0
            },
            "text/plain": [
              "  0%|          | 0/113 [00:00<?, ?it/s]"
            ]
          },
          "metadata": {},
          "output_type": "display_data"
        },
        {
          "name": "stdout",
          "output_type": "stream",
          "text": [
            "{'eval_loss': 0.9272738099098206, 'eval_accuracy': 0.5583333333333333, 'eval_runtime': 3.4321, 'eval_samples_per_second': 524.46, 'eval_steps_per_second': 32.924, 'epoch': 7.44}\n",
            "{'loss': 0.9319, 'learning_rate': 5.555555555555555e-07, 'epoch': 7.56}\n"
          ]
        },
        {
          "data": {
            "application/vnd.jupyter.widget-view+json": {
              "model_id": "cb6f1ca1337d41a8964867a32701ad6c",
              "version_major": 2,
              "version_minor": 0
            },
            "text/plain": [
              "  0%|          | 0/113 [00:00<?, ?it/s]"
            ]
          },
          "metadata": {},
          "output_type": "display_data"
        },
        {
          "name": "stdout",
          "output_type": "stream",
          "text": [
            "{'eval_loss': 0.9261025786399841, 'eval_accuracy': 0.5605555555555556, 'eval_runtime': 3.3975, 'eval_samples_per_second': 529.798, 'eval_steps_per_second': 33.26, 'epoch': 7.56}\n",
            "{'loss': 0.9275, 'learning_rate': 4.1666666666666667e-07, 'epoch': 7.67}\n"
          ]
        },
        {
          "data": {
            "application/vnd.jupyter.widget-view+json": {
              "model_id": "1fd650241aa8461b9bad0b3184657c3c",
              "version_major": 2,
              "version_minor": 0
            },
            "text/plain": [
              "  0%|          | 0/113 [00:00<?, ?it/s]"
            ]
          },
          "metadata": {},
          "output_type": "display_data"
        },
        {
          "name": "stdout",
          "output_type": "stream",
          "text": [
            "{'eval_loss': 0.9251468777656555, 'eval_accuracy': 0.5666666666666667, 'eval_runtime': 3.3555, 'eval_samples_per_second': 536.434, 'eval_steps_per_second': 33.676, 'epoch': 7.67}\n",
            "{'loss': 0.9399, 'learning_rate': 2.7777777777777776e-07, 'epoch': 7.78}\n"
          ]
        },
        {
          "data": {
            "application/vnd.jupyter.widget-view+json": {
              "model_id": "e4ae31e11f9641578532c82810e1758f",
              "version_major": 2,
              "version_minor": 0
            },
            "text/plain": [
              "  0%|          | 0/113 [00:00<?, ?it/s]"
            ]
          },
          "metadata": {},
          "output_type": "display_data"
        },
        {
          "name": "stdout",
          "output_type": "stream",
          "text": [
            "{'eval_loss': 0.9232358932495117, 'eval_accuracy': 0.5677777777777778, 'eval_runtime': 3.4413, 'eval_samples_per_second': 523.059, 'eval_steps_per_second': 32.836, 'epoch': 7.78}\n",
            "{'loss': 0.9248, 'learning_rate': 1.3888888888888888e-07, 'epoch': 7.89}\n"
          ]
        },
        {
          "data": {
            "application/vnd.jupyter.widget-view+json": {
              "model_id": "26b62dec661b489f8a40222ee3382334",
              "version_major": 2,
              "version_minor": 0
            },
            "text/plain": [
              "  0%|          | 0/113 [00:00<?, ?it/s]"
            ]
          },
          "metadata": {},
          "output_type": "display_data"
        },
        {
          "name": "stdout",
          "output_type": "stream",
          "text": [
            "{'eval_loss': 0.9228014349937439, 'eval_accuracy': 0.5683333333333334, 'eval_runtime': 3.5235, 'eval_samples_per_second': 510.859, 'eval_steps_per_second': 32.071, 'epoch': 7.89}\n",
            "{'loss': 0.9261, 'learning_rate': 0.0, 'epoch': 8.0}\n"
          ]
        },
        {
          "data": {
            "application/vnd.jupyter.widget-view+json": {
              "model_id": "7a840db269ca48be8180c25a6d5f82de",
              "version_major": 2,
              "version_minor": 0
            },
            "text/plain": [
              "  0%|          | 0/113 [00:00<?, ?it/s]"
            ]
          },
          "metadata": {},
          "output_type": "display_data"
        },
        {
          "name": "stdout",
          "output_type": "stream",
          "text": [
            "{'eval_loss': 0.9228432774543762, 'eval_accuracy': 0.5683333333333334, 'eval_runtime': 3.3104, 'eval_samples_per_second': 543.747, 'eval_steps_per_second': 34.135, 'epoch': 8.0}\n",
            "{'train_runtime': 930.067, 'train_samples_per_second': 123.862, 'train_steps_per_second': 7.741, 'train_loss': 0.9940477209621006, 'epoch': 8.0}\n"
          ]
        }
      ],
      "source": [
        "trainer.train()\n",
        "trainer.save_model(\"best_finetuned_model\")"
      ]
    },
    {
      "cell_type": "code",
      "execution_count": 23,
      "metadata": {},
      "outputs": [
        {
          "data": {
            "application/vnd.jupyter.widget-view+json": {
              "model_id": "883d4993fac84b17899f32319c0dd0ea",
              "version_major": 2,
              "version_minor": 0
            },
            "text/plain": [
              "  0%|          | 0/113 [00:00<?, ?it/s]"
            ]
          },
          "metadata": {},
          "output_type": "display_data"
        },
        {
          "data": {
            "text/plain": [
              "{'eval_loss': 0.9417571425437927,\n",
              " 'eval_accuracy': 0.5416666666666666,\n",
              " 'eval_runtime': 3.4929,\n",
              " 'eval_samples_per_second': 515.336,\n",
              " 'eval_steps_per_second': 32.352,\n",
              " 'epoch': 8.0}"
            ]
          },
          "execution_count": 23,
          "metadata": {},
          "output_type": "execute_result"
        }
      ],
      "source": [
        "trainer.evaluate(eval_dataset=test_loader)"
      ]
    },
    {
      "cell_type": "code",
      "execution_count": 24,
      "metadata": {},
      "outputs": [],
      "source": [
        "# model_lora.push_to_hub(\"lora-vietnamese-feedback-analysis\")"
      ]
    },
    {
      "cell_type": "markdown",
      "metadata": {},
      "source": [
        "# 6. Inference"
      ]
    },
    {
      "cell_type": "code",
      "execution_count": 25,
      "metadata": {
        "colab": {
          "base_uri": "https://localhost:8080/"
        },
        "id": "WNmgPv-0Y1T3",
        "outputId": "5e82c0e0-b628-4ef9-90e1-b18535226f0f"
      },
      "outputs": [
        {
          "name": "stdout",
          "output_type": "stream",
          "text": [
            "\"Hàng rất tốt nha, cảm ơn shop.\": \n",
            ">>> Positive\n",
            "\n",
            "\"Áo tạm được, chất lượng vừa phải\": \n",
            ">>> Positive\n",
            "\n",
            "\"Hàng kém chất lượng, không nên mua\": \n",
            ">>> Positive\n",
            "\n",
            "\"Wow tuyệt quá!\": \n",
            ">>> Positive\n",
            "\n",
            "\"Phí tiền, khuyên các bạn nên tẩy chay shop.\": \n",
            ">>> Positive\n",
            "\n",
            "\"Quá xấu\": \n",
            ">>> Positive\n",
            "\n",
            "\"Màu k giống trong hình,Chất mặc nóng, bí không thấm hút mồ hôi.\": \n",
            ">>> Positive\n",
            "\n",
            "\"Chất da cá ( tiền naoc của đó ).\": \n",
            ">>> Positive\n",
            "\n",
            "\"Quần chưa thử nên không biết có che được không nhưng mình k thích cái viền ren lắm.\": \n",
            ">>> Negative\n",
            "\n",
            "\"Bình thường\": \n",
            ">>> Positive\n",
            "\n"
          ]
        }
      ],
      "source": [
        "texts = [\n",
        "    \"Hàng rất tốt nha, cảm ơn shop.\",\n",
        "    \"Áo tạm được, chất lượng vừa phải\",\n",
        "    \"Hàng kém chất lượng, không nên mua\",\n",
        "    \"Wow tuyệt quá!\",\n",
        "    \"Phí tiền, khuyên các bạn nên tẩy chay shop.\",\n",
        "    \"Quá xấu\",\n",
        "    \"Màu k giống trong hình,Chất mặc nóng, bí không thấm hút mồ hôi.\",\n",
        "    \"Chất da cá ( tiền naoc của đó ).\",\n",
        "    \"Quần chưa thử nên không biết có che được không nhưng mình k thích cái viền ren lắm.\",\n",
        "    \"Bình thường\"\n",
        "]\n",
        "for text in texts:\n",
        "  inputs = tokenizer.encode(text, return_tensors=\"pt\").to(\"cuda\")\n",
        "\n",
        "  logits = model_lora(inputs).logits\n",
        "  # print(\"---Logits:\",logits)\n",
        "  predictions = torch.max(logits,1).indices\n",
        "\n",
        "  id2label = {0: \"Negative\", 1: \"Neutral\", 2: \"Positive\"}\n",
        "  print(f\"\\\"{text}\\\": \\n>>> {id2label[predictions.tolist()[0]]}\\n\")"
      ]
    }
  ],
  "metadata": {
    "colab": {
      "provenance": []
    },
    "kernelspec": {
      "display_name": "Python 3",
      "name": "python3"
    },
    "language_info": {
      "codemirror_mode": {
        "name": "ipython",
        "version": 3
      },
      "file_extension": ".py",
      "mimetype": "text/x-python",
      "name": "python",
      "nbconvert_exporter": "python",
      "pygments_lexer": "ipython3",
      "version": "3.12.1"
    },
    "widgets": {
      "application/vnd.jupyter.widget-state+json": {
        "03bef6afc6e14f03bd3424ec009a6541": {
          "model_module": "@jupyter-widgets/controls",
          "model_module_version": "1.5.0",
          "model_name": "HTMLModel",
          "state": {
            "_dom_classes": [],
            "_model_module": "@jupyter-widgets/controls",
            "_model_module_version": "1.5.0",
            "_model_name": "HTMLModel",
            "_view_count": null,
            "_view_module": "@jupyter-widgets/controls",
            "_view_module_version": "1.5.0",
            "_view_name": "HTMLView",
            "description": "",
            "description_tooltip": null,
            "layout": "IPY_MODEL_1da96539234942cb8b0bcb34003ab812",
            "placeholder": "​",
            "style": "IPY_MODEL_1870a6a78896411480afc6f022029e2d",
            "value": "bpe.codes: 100%"
          }
        },
        "057b383852f742acb0d6da467ad84edd": {
          "model_module": "@jupyter-widgets/controls",
          "model_module_version": "1.5.0",
          "model_name": "HTMLModel",
          "state": {
            "_dom_classes": [],
            "_model_module": "@jupyter-widgets/controls",
            "_model_module_version": "1.5.0",
            "_model_name": "HTMLModel",
            "_view_count": null,
            "_view_module": "@jupyter-widgets/controls",
            "_view_module_version": "1.5.0",
            "_view_name": "HTMLView",
            "description": "",
            "description_tooltip": null,
            "layout": "IPY_MODEL_0f5d3b26bb6e4a9b872033d57c591307",
            "placeholder": "​",
            "style": "IPY_MODEL_8590a5b611ba4dbd94fc0a408347998f",
            "value": " 3.13M/3.13M [00:00&lt;00:00, 6.37MB/s]"
          }
        },
        "0a16009068af467fa9b376c53075f205": {
          "model_module": "@jupyter-widgets/controls",
          "model_module_version": "1.5.0",
          "model_name": "HTMLModel",
          "state": {
            "_dom_classes": [],
            "_model_module": "@jupyter-widgets/controls",
            "_model_module_version": "1.5.0",
            "_model_name": "HTMLModel",
            "_view_count": null,
            "_view_module": "@jupyter-widgets/controls",
            "_view_module_version": "1.5.0",
            "_view_name": "HTMLView",
            "description": "",
            "description_tooltip": null,
            "layout": "IPY_MODEL_c33a7c45eb2b40819f319482f829ca16",
            "placeholder": "​",
            "style": "IPY_MODEL_b724e1c96d484493bf2dcb20d763413b",
            "value": " 895k/895k [00:00&lt;00:00, 2.74MB/s]"
          }
        },
        "0f5d3b26bb6e4a9b872033d57c591307": {
          "model_module": "@jupyter-widgets/base",
          "model_module_version": "1.2.0",
          "model_name": "LayoutModel",
          "state": {
            "_model_module": "@jupyter-widgets/base",
            "_model_module_version": "1.2.0",
            "_model_name": "LayoutModel",
            "_view_count": null,
            "_view_module": "@jupyter-widgets/base",
            "_view_module_version": "1.2.0",
            "_view_name": "LayoutView",
            "align_content": null,
            "align_items": null,
            "align_self": null,
            "border": null,
            "bottom": null,
            "display": null,
            "flex": null,
            "flex_flow": null,
            "grid_area": null,
            "grid_auto_columns": null,
            "grid_auto_flow": null,
            "grid_auto_rows": null,
            "grid_column": null,
            "grid_gap": null,
            "grid_row": null,
            "grid_template_areas": null,
            "grid_template_columns": null,
            "grid_template_rows": null,
            "height": null,
            "justify_content": null,
            "justify_items": null,
            "left": null,
            "margin": null,
            "max_height": null,
            "max_width": null,
            "min_height": null,
            "min_width": null,
            "object_fit": null,
            "object_position": null,
            "order": null,
            "overflow": null,
            "overflow_x": null,
            "overflow_y": null,
            "padding": null,
            "right": null,
            "top": null,
            "visibility": null,
            "width": null
          }
        },
        "11fd3b3d22d842508e00a1ff7cbd68f2": {
          "model_module": "@jupyter-widgets/base",
          "model_module_version": "1.2.0",
          "model_name": "LayoutModel",
          "state": {
            "_model_module": "@jupyter-widgets/base",
            "_model_module_version": "1.2.0",
            "_model_name": "LayoutModel",
            "_view_count": null,
            "_view_module": "@jupyter-widgets/base",
            "_view_module_version": "1.2.0",
            "_view_name": "LayoutView",
            "align_content": null,
            "align_items": null,
            "align_self": null,
            "border": null,
            "bottom": null,
            "display": null,
            "flex": null,
            "flex_flow": null,
            "grid_area": null,
            "grid_auto_columns": null,
            "grid_auto_flow": null,
            "grid_auto_rows": null,
            "grid_column": null,
            "grid_gap": null,
            "grid_row": null,
            "grid_template_areas": null,
            "grid_template_columns": null,
            "grid_template_rows": null,
            "height": null,
            "justify_content": null,
            "justify_items": null,
            "left": null,
            "margin": null,
            "max_height": null,
            "max_width": null,
            "min_height": null,
            "min_width": null,
            "object_fit": null,
            "object_position": null,
            "order": null,
            "overflow": null,
            "overflow_x": null,
            "overflow_y": null,
            "padding": null,
            "right": null,
            "top": null,
            "visibility": null,
            "width": null
          }
        },
        "1331542b5cbb47a29882535c2b9fb97c": {
          "model_module": "@jupyter-widgets/controls",
          "model_module_version": "1.5.0",
          "model_name": "HBoxModel",
          "state": {
            "_dom_classes": [],
            "_model_module": "@jupyter-widgets/controls",
            "_model_module_version": "1.5.0",
            "_model_name": "HBoxModel",
            "_view_count": null,
            "_view_module": "@jupyter-widgets/controls",
            "_view_module_version": "1.5.0",
            "_view_name": "HBoxView",
            "box_style": "",
            "children": [
              "IPY_MODEL_1844b4314d2045949fcbab7e15a309f6",
              "IPY_MODEL_b1067bd7e70246bfb7c566f02a4a01ed",
              "IPY_MODEL_0a16009068af467fa9b376c53075f205"
            ],
            "layout": "IPY_MODEL_80d04a2779054fd8ab29e4119d334490"
          }
        },
        "1388318749cb4d26afae0907da04b011": {
          "model_module": "@jupyter-widgets/base",
          "model_module_version": "1.2.0",
          "model_name": "LayoutModel",
          "state": {
            "_model_module": "@jupyter-widgets/base",
            "_model_module_version": "1.2.0",
            "_model_name": "LayoutModel",
            "_view_count": null,
            "_view_module": "@jupyter-widgets/base",
            "_view_module_version": "1.2.0",
            "_view_name": "LayoutView",
            "align_content": null,
            "align_items": null,
            "align_self": null,
            "border": null,
            "bottom": null,
            "display": null,
            "flex": null,
            "flex_flow": null,
            "grid_area": null,
            "grid_auto_columns": null,
            "grid_auto_flow": null,
            "grid_auto_rows": null,
            "grid_column": null,
            "grid_gap": null,
            "grid_row": null,
            "grid_template_areas": null,
            "grid_template_columns": null,
            "grid_template_rows": null,
            "height": null,
            "justify_content": null,
            "justify_items": null,
            "left": null,
            "margin": null,
            "max_height": null,
            "max_width": null,
            "min_height": null,
            "min_width": null,
            "object_fit": null,
            "object_position": null,
            "order": null,
            "overflow": null,
            "overflow_x": null,
            "overflow_y": null,
            "padding": null,
            "right": null,
            "top": null,
            "visibility": null,
            "width": null
          }
        },
        "1844b4314d2045949fcbab7e15a309f6": {
          "model_module": "@jupyter-widgets/controls",
          "model_module_version": "1.5.0",
          "model_name": "HTMLModel",
          "state": {
            "_dom_classes": [],
            "_model_module": "@jupyter-widgets/controls",
            "_model_module_version": "1.5.0",
            "_model_name": "HTMLModel",
            "_view_count": null,
            "_view_module": "@jupyter-widgets/controls",
            "_view_module_version": "1.5.0",
            "_view_name": "HTMLView",
            "description": "",
            "description_tooltip": null,
            "layout": "IPY_MODEL_7f77336e439640ba8aabe2cfc6a620c1",
            "placeholder": "​",
            "style": "IPY_MODEL_4fdcbef0dec4466dbd32e3de83c808e6",
            "value": "vocab.txt: 100%"
          }
        },
        "184c77f61b74420ba90c5759d2d07767": {
          "model_module": "@jupyter-widgets/base",
          "model_module_version": "1.2.0",
          "model_name": "LayoutModel",
          "state": {
            "_model_module": "@jupyter-widgets/base",
            "_model_module_version": "1.2.0",
            "_model_name": "LayoutModel",
            "_view_count": null,
            "_view_module": "@jupyter-widgets/base",
            "_view_module_version": "1.2.0",
            "_view_name": "LayoutView",
            "align_content": null,
            "align_items": null,
            "align_self": null,
            "border": null,
            "bottom": null,
            "display": null,
            "flex": null,
            "flex_flow": null,
            "grid_area": null,
            "grid_auto_columns": null,
            "grid_auto_flow": null,
            "grid_auto_rows": null,
            "grid_column": null,
            "grid_gap": null,
            "grid_row": null,
            "grid_template_areas": null,
            "grid_template_columns": null,
            "grid_template_rows": null,
            "height": null,
            "justify_content": null,
            "justify_items": null,
            "left": null,
            "margin": null,
            "max_height": null,
            "max_width": null,
            "min_height": null,
            "min_width": null,
            "object_fit": null,
            "object_position": null,
            "order": null,
            "overflow": null,
            "overflow_x": null,
            "overflow_y": null,
            "padding": null,
            "right": null,
            "top": null,
            "visibility": null,
            "width": null
          }
        },
        "1870a6a78896411480afc6f022029e2d": {
          "model_module": "@jupyter-widgets/controls",
          "model_module_version": "1.5.0",
          "model_name": "DescriptionStyleModel",
          "state": {
            "_model_module": "@jupyter-widgets/controls",
            "_model_module_version": "1.5.0",
            "_model_name": "DescriptionStyleModel",
            "_view_count": null,
            "_view_module": "@jupyter-widgets/base",
            "_view_module_version": "1.2.0",
            "_view_name": "StyleView",
            "description_width": ""
          }
        },
        "1da96539234942cb8b0bcb34003ab812": {
          "model_module": "@jupyter-widgets/base",
          "model_module_version": "1.2.0",
          "model_name": "LayoutModel",
          "state": {
            "_model_module": "@jupyter-widgets/base",
            "_model_module_version": "1.2.0",
            "_model_name": "LayoutModel",
            "_view_count": null,
            "_view_module": "@jupyter-widgets/base",
            "_view_module_version": "1.2.0",
            "_view_name": "LayoutView",
            "align_content": null,
            "align_items": null,
            "align_self": null,
            "border": null,
            "bottom": null,
            "display": null,
            "flex": null,
            "flex_flow": null,
            "grid_area": null,
            "grid_auto_columns": null,
            "grid_auto_flow": null,
            "grid_auto_rows": null,
            "grid_column": null,
            "grid_gap": null,
            "grid_row": null,
            "grid_template_areas": null,
            "grid_template_columns": null,
            "grid_template_rows": null,
            "height": null,
            "justify_content": null,
            "justify_items": null,
            "left": null,
            "margin": null,
            "max_height": null,
            "max_width": null,
            "min_height": null,
            "min_width": null,
            "object_fit": null,
            "object_position": null,
            "order": null,
            "overflow": null,
            "overflow_x": null,
            "overflow_y": null,
            "padding": null,
            "right": null,
            "top": null,
            "visibility": null,
            "width": null
          }
        },
        "26eb06846b794b3daf0b65f555eb1a04": {
          "model_module": "@jupyter-widgets/controls",
          "model_module_version": "1.5.0",
          "model_name": "HBoxModel",
          "state": {
            "_dom_classes": [],
            "_model_module": "@jupyter-widgets/controls",
            "_model_module_version": "1.5.0",
            "_model_name": "HBoxModel",
            "_view_count": null,
            "_view_module": "@jupyter-widgets/controls",
            "_view_module_version": "1.5.0",
            "_view_name": "HBoxView",
            "box_style": "",
            "children": [
              "IPY_MODEL_c62e9a5a18294e119f138ca1dc67bc43",
              "IPY_MODEL_b5df0102b52940ef9990ad766ab38b7f",
              "IPY_MODEL_75e8cc01921f4cc98e346df9fe20d587"
            ],
            "layout": "IPY_MODEL_7f5ede8f2d444c90a1ae62416e278cbb"
          }
        },
        "2a2e678a9205480da4b26e80aea8f2fe": {
          "model_module": "@jupyter-widgets/base",
          "model_module_version": "1.2.0",
          "model_name": "LayoutModel",
          "state": {
            "_model_module": "@jupyter-widgets/base",
            "_model_module_version": "1.2.0",
            "_model_name": "LayoutModel",
            "_view_count": null,
            "_view_module": "@jupyter-widgets/base",
            "_view_module_version": "1.2.0",
            "_view_name": "LayoutView",
            "align_content": null,
            "align_items": null,
            "align_self": null,
            "border": null,
            "bottom": null,
            "display": null,
            "flex": null,
            "flex_flow": null,
            "grid_area": null,
            "grid_auto_columns": null,
            "grid_auto_flow": null,
            "grid_auto_rows": null,
            "grid_column": null,
            "grid_gap": null,
            "grid_row": null,
            "grid_template_areas": null,
            "grid_template_columns": null,
            "grid_template_rows": null,
            "height": null,
            "justify_content": null,
            "justify_items": null,
            "left": null,
            "margin": null,
            "max_height": null,
            "max_width": null,
            "min_height": null,
            "min_width": null,
            "object_fit": null,
            "object_position": null,
            "order": null,
            "overflow": null,
            "overflow_x": null,
            "overflow_y": null,
            "padding": null,
            "right": null,
            "top": null,
            "visibility": null,
            "width": null
          }
        },
        "43af5e2c0860458fabc72918dbaefbe0": {
          "model_module": "@jupyter-widgets/controls",
          "model_module_version": "1.5.0",
          "model_name": "FloatProgressModel",
          "state": {
            "_dom_classes": [],
            "_model_module": "@jupyter-widgets/controls",
            "_model_module_version": "1.5.0",
            "_model_name": "FloatProgressModel",
            "_view_count": null,
            "_view_module": "@jupyter-widgets/controls",
            "_view_module_version": "1.5.0",
            "_view_name": "ProgressView",
            "bar_style": "success",
            "description": "",
            "description_tooltip": null,
            "layout": "IPY_MODEL_2a2e678a9205480da4b26e80aea8f2fe",
            "max": 678,
            "min": 0,
            "orientation": "horizontal",
            "style": "IPY_MODEL_f38240d65cd34199b10458f6fec3a561",
            "value": 678
          }
        },
        "45d4070a7e1a49b68ab2535b83b1f7c4": {
          "model_module": "@jupyter-widgets/controls",
          "model_module_version": "1.5.0",
          "model_name": "ProgressStyleModel",
          "state": {
            "_model_module": "@jupyter-widgets/controls",
            "_model_module_version": "1.5.0",
            "_model_name": "ProgressStyleModel",
            "_view_count": null,
            "_view_module": "@jupyter-widgets/base",
            "_view_module_version": "1.2.0",
            "_view_name": "StyleView",
            "bar_color": null,
            "description_width": ""
          }
        },
        "4f286c442ea44ecb93c3be7bff526bac": {
          "model_module": "@jupyter-widgets/controls",
          "model_module_version": "1.5.0",
          "model_name": "DescriptionStyleModel",
          "state": {
            "_model_module": "@jupyter-widgets/controls",
            "_model_module_version": "1.5.0",
            "_model_name": "DescriptionStyleModel",
            "_view_count": null,
            "_view_module": "@jupyter-widgets/base",
            "_view_module_version": "1.2.0",
            "_view_name": "StyleView",
            "description_width": ""
          }
        },
        "4fdcbef0dec4466dbd32e3de83c808e6": {
          "model_module": "@jupyter-widgets/controls",
          "model_module_version": "1.5.0",
          "model_name": "DescriptionStyleModel",
          "state": {
            "_model_module": "@jupyter-widgets/controls",
            "_model_module_version": "1.5.0",
            "_model_name": "DescriptionStyleModel",
            "_view_count": null,
            "_view_module": "@jupyter-widgets/base",
            "_view_module_version": "1.2.0",
            "_view_name": "StyleView",
            "description_width": ""
          }
        },
        "53001c4fceb24b6c8685c8f6457a52df": {
          "model_module": "@jupyter-widgets/controls",
          "model_module_version": "1.5.0",
          "model_name": "ProgressStyleModel",
          "state": {
            "_model_module": "@jupyter-widgets/controls",
            "_model_module_version": "1.5.0",
            "_model_name": "ProgressStyleModel",
            "_view_count": null,
            "_view_module": "@jupyter-widgets/base",
            "_view_module_version": "1.2.0",
            "_view_name": "StyleView",
            "bar_color": null,
            "description_width": ""
          }
        },
        "55566df945d84895b617de03381bdb69": {
          "model_module": "@jupyter-widgets/base",
          "model_module_version": "1.2.0",
          "model_name": "LayoutModel",
          "state": {
            "_model_module": "@jupyter-widgets/base",
            "_model_module_version": "1.2.0",
            "_model_name": "LayoutModel",
            "_view_count": null,
            "_view_module": "@jupyter-widgets/base",
            "_view_module_version": "1.2.0",
            "_view_name": "LayoutView",
            "align_content": null,
            "align_items": null,
            "align_self": null,
            "border": null,
            "bottom": null,
            "display": null,
            "flex": null,
            "flex_flow": null,
            "grid_area": null,
            "grid_auto_columns": null,
            "grid_auto_flow": null,
            "grid_auto_rows": null,
            "grid_column": null,
            "grid_gap": null,
            "grid_row": null,
            "grid_template_areas": null,
            "grid_template_columns": null,
            "grid_template_rows": null,
            "height": null,
            "justify_content": null,
            "justify_items": null,
            "left": null,
            "margin": null,
            "max_height": null,
            "max_width": null,
            "min_height": null,
            "min_width": null,
            "object_fit": null,
            "object_position": null,
            "order": null,
            "overflow": null,
            "overflow_x": null,
            "overflow_y": null,
            "padding": null,
            "right": null,
            "top": null,
            "visibility": null,
            "width": null
          }
        },
        "566dad7e052f4227a5717824b208bb84": {
          "model_module": "@jupyter-widgets/base",
          "model_module_version": "1.2.0",
          "model_name": "LayoutModel",
          "state": {
            "_model_module": "@jupyter-widgets/base",
            "_model_module_version": "1.2.0",
            "_model_name": "LayoutModel",
            "_view_count": null,
            "_view_module": "@jupyter-widgets/base",
            "_view_module_version": "1.2.0",
            "_view_name": "LayoutView",
            "align_content": null,
            "align_items": null,
            "align_self": null,
            "border": null,
            "bottom": null,
            "display": null,
            "flex": null,
            "flex_flow": null,
            "grid_area": null,
            "grid_auto_columns": null,
            "grid_auto_flow": null,
            "grid_auto_rows": null,
            "grid_column": null,
            "grid_gap": null,
            "grid_row": null,
            "grid_template_areas": null,
            "grid_template_columns": null,
            "grid_template_rows": null,
            "height": null,
            "justify_content": null,
            "justify_items": null,
            "left": null,
            "margin": null,
            "max_height": null,
            "max_width": null,
            "min_height": null,
            "min_width": null,
            "object_fit": null,
            "object_position": null,
            "order": null,
            "overflow": null,
            "overflow_x": null,
            "overflow_y": null,
            "padding": null,
            "right": null,
            "top": null,
            "visibility": null,
            "width": null
          }
        },
        "5d60d8524fd943099c5b346895cb55ad": {
          "model_module": "@jupyter-widgets/controls",
          "model_module_version": "1.5.0",
          "model_name": "HBoxModel",
          "state": {
            "_dom_classes": [],
            "_model_module": "@jupyter-widgets/controls",
            "_model_module_version": "1.5.0",
            "_model_name": "HBoxModel",
            "_view_count": null,
            "_view_module": "@jupyter-widgets/controls",
            "_view_module_version": "1.5.0",
            "_view_name": "HBoxView",
            "box_style": "",
            "children": [
              "IPY_MODEL_781d933e037a48feb88c13473384de34",
              "IPY_MODEL_94831dd6afc549f69b5c7528eae48cd4",
              "IPY_MODEL_9907536478cf45759a517379e409893a"
            ],
            "layout": "IPY_MODEL_7cecee774f84459b9e118e3277217034"
          }
        },
        "5ebcd590768042c4a39cf2b0a66a9a3b": {
          "model_module": "@jupyter-widgets/controls",
          "model_module_version": "1.5.0",
          "model_name": "HTMLModel",
          "state": {
            "_dom_classes": [],
            "_model_module": "@jupyter-widgets/controls",
            "_model_module_version": "1.5.0",
            "_model_name": "HTMLModel",
            "_view_count": null,
            "_view_module": "@jupyter-widgets/controls",
            "_view_module_version": "1.5.0",
            "_view_name": "HTMLView",
            "description": "",
            "description_tooltip": null,
            "layout": "IPY_MODEL_647dd7bbc8754423a601187b7e7a5643",
            "placeholder": "​",
            "style": "IPY_MODEL_6d334f0fc26d4845a52c05aef2676f67",
            "value": "tokenizer.json: 100%"
          }
        },
        "63549f5e05f64726b5b2972f7fc111af": {
          "model_module": "@jupyter-widgets/controls",
          "model_module_version": "1.5.0",
          "model_name": "HBoxModel",
          "state": {
            "_dom_classes": [],
            "_model_module": "@jupyter-widgets/controls",
            "_model_module_version": "1.5.0",
            "_model_name": "HBoxModel",
            "_view_count": null,
            "_view_module": "@jupyter-widgets/controls",
            "_view_module_version": "1.5.0",
            "_view_name": "HBoxView",
            "box_style": "",
            "children": [
              "IPY_MODEL_5ebcd590768042c4a39cf2b0a66a9a3b",
              "IPY_MODEL_a6caf99f49ce417882b146bab2c5c6fb",
              "IPY_MODEL_057b383852f742acb0d6da467ad84edd"
            ],
            "layout": "IPY_MODEL_566dad7e052f4227a5717824b208bb84"
          }
        },
        "647dd7bbc8754423a601187b7e7a5643": {
          "model_module": "@jupyter-widgets/base",
          "model_module_version": "1.2.0",
          "model_name": "LayoutModel",
          "state": {
            "_model_module": "@jupyter-widgets/base",
            "_model_module_version": "1.2.0",
            "_model_name": "LayoutModel",
            "_view_count": null,
            "_view_module": "@jupyter-widgets/base",
            "_view_module_version": "1.2.0",
            "_view_name": "LayoutView",
            "align_content": null,
            "align_items": null,
            "align_self": null,
            "border": null,
            "bottom": null,
            "display": null,
            "flex": null,
            "flex_flow": null,
            "grid_area": null,
            "grid_auto_columns": null,
            "grid_auto_flow": null,
            "grid_auto_rows": null,
            "grid_column": null,
            "grid_gap": null,
            "grid_row": null,
            "grid_template_areas": null,
            "grid_template_columns": null,
            "grid_template_rows": null,
            "height": null,
            "justify_content": null,
            "justify_items": null,
            "left": null,
            "margin": null,
            "max_height": null,
            "max_width": null,
            "min_height": null,
            "min_width": null,
            "object_fit": null,
            "object_position": null,
            "order": null,
            "overflow": null,
            "overflow_x": null,
            "overflow_y": null,
            "padding": null,
            "right": null,
            "top": null,
            "visibility": null,
            "width": null
          }
        },
        "674c992b2f0e4885abef04f7abf4daec": {
          "model_module": "@jupyter-widgets/controls",
          "model_module_version": "1.5.0",
          "model_name": "HTMLModel",
          "state": {
            "_dom_classes": [],
            "_model_module": "@jupyter-widgets/controls",
            "_model_module_version": "1.5.0",
            "_model_name": "HTMLModel",
            "_view_count": null,
            "_view_module": "@jupyter-widgets/controls",
            "_view_module_version": "1.5.0",
            "_view_name": "HTMLView",
            "description": "",
            "description_tooltip": null,
            "layout": "IPY_MODEL_184c77f61b74420ba90c5759d2d07767",
            "placeholder": "​",
            "style": "IPY_MODEL_cca6f3f86ea149be8d0160ac1da2701e",
            "value": " 1.14M/1.14M [00:00&lt;00:00, 4.52MB/s]"
          }
        },
        "6bc705ed99ea4033b692f9d95977052e": {
          "model_module": "@jupyter-widgets/base",
          "model_module_version": "1.2.0",
          "model_name": "LayoutModel",
          "state": {
            "_model_module": "@jupyter-widgets/base",
            "_model_module_version": "1.2.0",
            "_model_name": "LayoutModel",
            "_view_count": null,
            "_view_module": "@jupyter-widgets/base",
            "_view_module_version": "1.2.0",
            "_view_name": "LayoutView",
            "align_content": null,
            "align_items": null,
            "align_self": null,
            "border": null,
            "bottom": null,
            "display": null,
            "flex": null,
            "flex_flow": null,
            "grid_area": null,
            "grid_auto_columns": null,
            "grid_auto_flow": null,
            "grid_auto_rows": null,
            "grid_column": null,
            "grid_gap": null,
            "grid_row": null,
            "grid_template_areas": null,
            "grid_template_columns": null,
            "grid_template_rows": null,
            "height": null,
            "justify_content": null,
            "justify_items": null,
            "left": null,
            "margin": null,
            "max_height": null,
            "max_width": null,
            "min_height": null,
            "min_width": null,
            "object_fit": null,
            "object_position": null,
            "order": null,
            "overflow": null,
            "overflow_x": null,
            "overflow_y": null,
            "padding": null,
            "right": null,
            "top": null,
            "visibility": null,
            "width": null
          }
        },
        "6d334f0fc26d4845a52c05aef2676f67": {
          "model_module": "@jupyter-widgets/controls",
          "model_module_version": "1.5.0",
          "model_name": "DescriptionStyleModel",
          "state": {
            "_model_module": "@jupyter-widgets/controls",
            "_model_module_version": "1.5.0",
            "_model_name": "DescriptionStyleModel",
            "_view_count": null,
            "_view_module": "@jupyter-widgets/base",
            "_view_module_version": "1.2.0",
            "_view_name": "StyleView",
            "description_width": ""
          }
        },
        "6fc7a2f283f74be6a52caf97473cd4a4": {
          "model_module": "@jupyter-widgets/base",
          "model_module_version": "1.2.0",
          "model_name": "LayoutModel",
          "state": {
            "_model_module": "@jupyter-widgets/base",
            "_model_module_version": "1.2.0",
            "_model_name": "LayoutModel",
            "_view_count": null,
            "_view_module": "@jupyter-widgets/base",
            "_view_module_version": "1.2.0",
            "_view_name": "LayoutView",
            "align_content": null,
            "align_items": null,
            "align_self": null,
            "border": null,
            "bottom": null,
            "display": null,
            "flex": null,
            "flex_flow": null,
            "grid_area": null,
            "grid_auto_columns": null,
            "grid_auto_flow": null,
            "grid_auto_rows": null,
            "grid_column": null,
            "grid_gap": null,
            "grid_row": null,
            "grid_template_areas": null,
            "grid_template_columns": null,
            "grid_template_rows": null,
            "height": null,
            "justify_content": null,
            "justify_items": null,
            "left": null,
            "margin": null,
            "max_height": null,
            "max_width": null,
            "min_height": null,
            "min_width": null,
            "object_fit": null,
            "object_position": null,
            "order": null,
            "overflow": null,
            "overflow_x": null,
            "overflow_y": null,
            "padding": null,
            "right": null,
            "top": null,
            "visibility": null,
            "width": null
          }
        },
        "713a8372d14e49418caeca871e41476d": {
          "model_module": "@jupyter-widgets/controls",
          "model_module_version": "1.5.0",
          "model_name": "DescriptionStyleModel",
          "state": {
            "_model_module": "@jupyter-widgets/controls",
            "_model_module_version": "1.5.0",
            "_model_name": "DescriptionStyleModel",
            "_view_count": null,
            "_view_module": "@jupyter-widgets/base",
            "_view_module_version": "1.2.0",
            "_view_name": "StyleView",
            "description_width": ""
          }
        },
        "75e8cc01921f4cc98e346df9fe20d587": {
          "model_module": "@jupyter-widgets/controls",
          "model_module_version": "1.5.0",
          "model_name": "HTMLModel",
          "state": {
            "_dom_classes": [],
            "_model_module": "@jupyter-widgets/controls",
            "_model_module_version": "1.5.0",
            "_model_name": "HTMLModel",
            "_view_count": null,
            "_view_module": "@jupyter-widgets/controls",
            "_view_module_version": "1.5.0",
            "_view_name": "HTMLView",
            "description": "",
            "description_tooltip": null,
            "layout": "IPY_MODEL_6bc705ed99ea4033b692f9d95977052e",
            "placeholder": "​",
            "style": "IPY_MODEL_b43c9360d9774281beaeeecfc89ec00d",
            "value": " 540M/540M [00:03&lt;00:00, 126MB/s]"
          }
        },
        "781d933e037a48feb88c13473384de34": {
          "model_module": "@jupyter-widgets/controls",
          "model_module_version": "1.5.0",
          "model_name": "HTMLModel",
          "state": {
            "_dom_classes": [],
            "_model_module": "@jupyter-widgets/controls",
            "_model_module_version": "1.5.0",
            "_model_name": "HTMLModel",
            "_view_count": null,
            "_view_module": "@jupyter-widgets/controls",
            "_view_module_version": "1.5.0",
            "_view_name": "HTMLView",
            "description": "",
            "description_tooltip": null,
            "layout": "IPY_MODEL_55566df945d84895b617de03381bdb69",
            "placeholder": "​",
            "style": "IPY_MODEL_a8e275ca5d20454290fb4b227df0d8fa",
            "value": "Downloading builder script: 100%"
          }
        },
        "7a59cc96e46e44d7a4588161f8586c13": {
          "model_module": "@jupyter-widgets/base",
          "model_module_version": "1.2.0",
          "model_name": "LayoutModel",
          "state": {
            "_model_module": "@jupyter-widgets/base",
            "_model_module_version": "1.2.0",
            "_model_name": "LayoutModel",
            "_view_count": null,
            "_view_module": "@jupyter-widgets/base",
            "_view_module_version": "1.2.0",
            "_view_name": "LayoutView",
            "align_content": null,
            "align_items": null,
            "align_self": null,
            "border": null,
            "bottom": null,
            "display": null,
            "flex": null,
            "flex_flow": null,
            "grid_area": null,
            "grid_auto_columns": null,
            "grid_auto_flow": null,
            "grid_auto_rows": null,
            "grid_column": null,
            "grid_gap": null,
            "grid_row": null,
            "grid_template_areas": null,
            "grid_template_columns": null,
            "grid_template_rows": null,
            "height": null,
            "justify_content": null,
            "justify_items": null,
            "left": null,
            "margin": null,
            "max_height": null,
            "max_width": null,
            "min_height": null,
            "min_width": null,
            "object_fit": null,
            "object_position": null,
            "order": null,
            "overflow": null,
            "overflow_x": null,
            "overflow_y": null,
            "padding": null,
            "right": null,
            "top": null,
            "visibility": null,
            "width": null
          }
        },
        "7b80a3b039da47108ca649279f4f1979": {
          "model_module": "@jupyter-widgets/base",
          "model_module_version": "1.2.0",
          "model_name": "LayoutModel",
          "state": {
            "_model_module": "@jupyter-widgets/base",
            "_model_module_version": "1.2.0",
            "_model_name": "LayoutModel",
            "_view_count": null,
            "_view_module": "@jupyter-widgets/base",
            "_view_module_version": "1.2.0",
            "_view_name": "LayoutView",
            "align_content": null,
            "align_items": null,
            "align_self": null,
            "border": null,
            "bottom": null,
            "display": null,
            "flex": null,
            "flex_flow": null,
            "grid_area": null,
            "grid_auto_columns": null,
            "grid_auto_flow": null,
            "grid_auto_rows": null,
            "grid_column": null,
            "grid_gap": null,
            "grid_row": null,
            "grid_template_areas": null,
            "grid_template_columns": null,
            "grid_template_rows": null,
            "height": null,
            "justify_content": null,
            "justify_items": null,
            "left": null,
            "margin": null,
            "max_height": null,
            "max_width": null,
            "min_height": null,
            "min_width": null,
            "object_fit": null,
            "object_position": null,
            "order": null,
            "overflow": null,
            "overflow_x": null,
            "overflow_y": null,
            "padding": null,
            "right": null,
            "top": null,
            "visibility": null,
            "width": null
          }
        },
        "7b930b490c6048208d81048ae1f624ed": {
          "model_module": "@jupyter-widgets/controls",
          "model_module_version": "1.5.0",
          "model_name": "ProgressStyleModel",
          "state": {
            "_model_module": "@jupyter-widgets/controls",
            "_model_module_version": "1.5.0",
            "_model_name": "ProgressStyleModel",
            "_view_count": null,
            "_view_module": "@jupyter-widgets/base",
            "_view_module_version": "1.2.0",
            "_view_name": "StyleView",
            "bar_color": null,
            "description_width": ""
          }
        },
        "7cecee774f84459b9e118e3277217034": {
          "model_module": "@jupyter-widgets/base",
          "model_module_version": "1.2.0",
          "model_name": "LayoutModel",
          "state": {
            "_model_module": "@jupyter-widgets/base",
            "_model_module_version": "1.2.0",
            "_model_name": "LayoutModel",
            "_view_count": null,
            "_view_module": "@jupyter-widgets/base",
            "_view_module_version": "1.2.0",
            "_view_name": "LayoutView",
            "align_content": null,
            "align_items": null,
            "align_self": null,
            "border": null,
            "bottom": null,
            "display": null,
            "flex": null,
            "flex_flow": null,
            "grid_area": null,
            "grid_auto_columns": null,
            "grid_auto_flow": null,
            "grid_auto_rows": null,
            "grid_column": null,
            "grid_gap": null,
            "grid_row": null,
            "grid_template_areas": null,
            "grid_template_columns": null,
            "grid_template_rows": null,
            "height": null,
            "justify_content": null,
            "justify_items": null,
            "left": null,
            "margin": null,
            "max_height": null,
            "max_width": null,
            "min_height": null,
            "min_width": null,
            "object_fit": null,
            "object_position": null,
            "order": null,
            "overflow": null,
            "overflow_x": null,
            "overflow_y": null,
            "padding": null,
            "right": null,
            "top": null,
            "visibility": null,
            "width": null
          }
        },
        "7f5ede8f2d444c90a1ae62416e278cbb": {
          "model_module": "@jupyter-widgets/base",
          "model_module_version": "1.2.0",
          "model_name": "LayoutModel",
          "state": {
            "_model_module": "@jupyter-widgets/base",
            "_model_module_version": "1.2.0",
            "_model_name": "LayoutModel",
            "_view_count": null,
            "_view_module": "@jupyter-widgets/base",
            "_view_module_version": "1.2.0",
            "_view_name": "LayoutView",
            "align_content": null,
            "align_items": null,
            "align_self": null,
            "border": null,
            "bottom": null,
            "display": null,
            "flex": null,
            "flex_flow": null,
            "grid_area": null,
            "grid_auto_columns": null,
            "grid_auto_flow": null,
            "grid_auto_rows": null,
            "grid_column": null,
            "grid_gap": null,
            "grid_row": null,
            "grid_template_areas": null,
            "grid_template_columns": null,
            "grid_template_rows": null,
            "height": null,
            "justify_content": null,
            "justify_items": null,
            "left": null,
            "margin": null,
            "max_height": null,
            "max_width": null,
            "min_height": null,
            "min_width": null,
            "object_fit": null,
            "object_position": null,
            "order": null,
            "overflow": null,
            "overflow_x": null,
            "overflow_y": null,
            "padding": null,
            "right": null,
            "top": null,
            "visibility": null,
            "width": null
          }
        },
        "7f77336e439640ba8aabe2cfc6a620c1": {
          "model_module": "@jupyter-widgets/base",
          "model_module_version": "1.2.0",
          "model_name": "LayoutModel",
          "state": {
            "_model_module": "@jupyter-widgets/base",
            "_model_module_version": "1.2.0",
            "_model_name": "LayoutModel",
            "_view_count": null,
            "_view_module": "@jupyter-widgets/base",
            "_view_module_version": "1.2.0",
            "_view_name": "LayoutView",
            "align_content": null,
            "align_items": null,
            "align_self": null,
            "border": null,
            "bottom": null,
            "display": null,
            "flex": null,
            "flex_flow": null,
            "grid_area": null,
            "grid_auto_columns": null,
            "grid_auto_flow": null,
            "grid_auto_rows": null,
            "grid_column": null,
            "grid_gap": null,
            "grid_row": null,
            "grid_template_areas": null,
            "grid_template_columns": null,
            "grid_template_rows": null,
            "height": null,
            "justify_content": null,
            "justify_items": null,
            "left": null,
            "margin": null,
            "max_height": null,
            "max_width": null,
            "min_height": null,
            "min_width": null,
            "object_fit": null,
            "object_position": null,
            "order": null,
            "overflow": null,
            "overflow_x": null,
            "overflow_y": null,
            "padding": null,
            "right": null,
            "top": null,
            "visibility": null,
            "width": null
          }
        },
        "80d04a2779054fd8ab29e4119d334490": {
          "model_module": "@jupyter-widgets/base",
          "model_module_version": "1.2.0",
          "model_name": "LayoutModel",
          "state": {
            "_model_module": "@jupyter-widgets/base",
            "_model_module_version": "1.2.0",
            "_model_name": "LayoutModel",
            "_view_count": null,
            "_view_module": "@jupyter-widgets/base",
            "_view_module_version": "1.2.0",
            "_view_name": "LayoutView",
            "align_content": null,
            "align_items": null,
            "align_self": null,
            "border": null,
            "bottom": null,
            "display": null,
            "flex": null,
            "flex_flow": null,
            "grid_area": null,
            "grid_auto_columns": null,
            "grid_auto_flow": null,
            "grid_auto_rows": null,
            "grid_column": null,
            "grid_gap": null,
            "grid_row": null,
            "grid_template_areas": null,
            "grid_template_columns": null,
            "grid_template_rows": null,
            "height": null,
            "justify_content": null,
            "justify_items": null,
            "left": null,
            "margin": null,
            "max_height": null,
            "max_width": null,
            "min_height": null,
            "min_width": null,
            "object_fit": null,
            "object_position": null,
            "order": null,
            "overflow": null,
            "overflow_x": null,
            "overflow_y": null,
            "padding": null,
            "right": null,
            "top": null,
            "visibility": null,
            "width": null
          }
        },
        "839dbcaf318044a1a91ff0d141c65618": {
          "model_module": "@jupyter-widgets/controls",
          "model_module_version": "1.5.0",
          "model_name": "HTMLModel",
          "state": {
            "_dom_classes": [],
            "_model_module": "@jupyter-widgets/controls",
            "_model_module_version": "1.5.0",
            "_model_name": "HTMLModel",
            "_view_count": null,
            "_view_module": "@jupyter-widgets/controls",
            "_view_module_version": "1.5.0",
            "_view_name": "HTMLView",
            "description": "",
            "description_tooltip": null,
            "layout": "IPY_MODEL_11fd3b3d22d842508e00a1ff7cbd68f2",
            "placeholder": "​",
            "style": "IPY_MODEL_4f286c442ea44ecb93c3be7bff526bac",
            "value": " 678/678 [00:00&lt;00:00, 29.4kB/s]"
          }
        },
        "8590a5b611ba4dbd94fc0a408347998f": {
          "model_module": "@jupyter-widgets/controls",
          "model_module_version": "1.5.0",
          "model_name": "DescriptionStyleModel",
          "state": {
            "_model_module": "@jupyter-widgets/controls",
            "_model_module_version": "1.5.0",
            "_model_name": "DescriptionStyleModel",
            "_view_count": null,
            "_view_module": "@jupyter-widgets/base",
            "_view_module_version": "1.2.0",
            "_view_name": "StyleView",
            "description_width": ""
          }
        },
        "8c8612f33d2c491a92ce9a47c9f612fe": {
          "model_module": "@jupyter-widgets/controls",
          "model_module_version": "1.5.0",
          "model_name": "DescriptionStyleModel",
          "state": {
            "_model_module": "@jupyter-widgets/controls",
            "_model_module_version": "1.5.0",
            "_model_name": "DescriptionStyleModel",
            "_view_count": null,
            "_view_module": "@jupyter-widgets/base",
            "_view_module_version": "1.2.0",
            "_view_name": "StyleView",
            "description_width": ""
          }
        },
        "94831dd6afc549f69b5c7528eae48cd4": {
          "model_module": "@jupyter-widgets/controls",
          "model_module_version": "1.5.0",
          "model_name": "FloatProgressModel",
          "state": {
            "_dom_classes": [],
            "_model_module": "@jupyter-widgets/controls",
            "_model_module_version": "1.5.0",
            "_model_name": "FloatProgressModel",
            "_view_count": null,
            "_view_module": "@jupyter-widgets/controls",
            "_view_module_version": "1.5.0",
            "_view_name": "ProgressView",
            "bar_style": "success",
            "description": "",
            "description_tooltip": null,
            "layout": "IPY_MODEL_f83d7cb64cd54cf9b6bf5c601e2fd3fc",
            "max": 4203,
            "min": 0,
            "orientation": "horizontal",
            "style": "IPY_MODEL_c663589e87ba4cfb8ec2318a719f9a34",
            "value": 4203
          }
        },
        "9907536478cf45759a517379e409893a": {
          "model_module": "@jupyter-widgets/controls",
          "model_module_version": "1.5.0",
          "model_name": "HTMLModel",
          "state": {
            "_dom_classes": [],
            "_model_module": "@jupyter-widgets/controls",
            "_model_module_version": "1.5.0",
            "_model_name": "HTMLModel",
            "_view_count": null,
            "_view_module": "@jupyter-widgets/controls",
            "_view_module_version": "1.5.0",
            "_view_name": "HTMLView",
            "description": "",
            "description_tooltip": null,
            "layout": "IPY_MODEL_dd535ed8c74d49aabfb6b30d9104a5ad",
            "placeholder": "​",
            "style": "IPY_MODEL_8c8612f33d2c491a92ce9a47c9f612fe",
            "value": " 4.20k/4.20k [00:00&lt;00:00, 85.4kB/s]"
          }
        },
        "9d7db848873c4aafa88c1bfcc2e1b021": {
          "model_module": "@jupyter-widgets/controls",
          "model_module_version": "1.5.0",
          "model_name": "HBoxModel",
          "state": {
            "_dom_classes": [],
            "_model_module": "@jupyter-widgets/controls",
            "_model_module_version": "1.5.0",
            "_model_name": "HBoxModel",
            "_view_count": null,
            "_view_module": "@jupyter-widgets/controls",
            "_view_module_version": "1.5.0",
            "_view_name": "HBoxView",
            "box_style": "",
            "children": [
              "IPY_MODEL_03bef6afc6e14f03bd3424ec009a6541",
              "IPY_MODEL_d1842bb6b0324c1d905e20e9d78e59a3",
              "IPY_MODEL_674c992b2f0e4885abef04f7abf4daec"
            ],
            "layout": "IPY_MODEL_1388318749cb4d26afae0907da04b011"
          }
        },
        "a6caf99f49ce417882b146bab2c5c6fb": {
          "model_module": "@jupyter-widgets/controls",
          "model_module_version": "1.5.0",
          "model_name": "FloatProgressModel",
          "state": {
            "_dom_classes": [],
            "_model_module": "@jupyter-widgets/controls",
            "_model_module_version": "1.5.0",
            "_model_name": "FloatProgressModel",
            "_view_count": null,
            "_view_module": "@jupyter-widgets/controls",
            "_view_module_version": "1.5.0",
            "_view_name": "ProgressView",
            "bar_style": "success",
            "description": "",
            "description_tooltip": null,
            "layout": "IPY_MODEL_d41de0dfb65a47bd8f74a2e6a74a7283",
            "max": 3132320,
            "min": 0,
            "orientation": "horizontal",
            "style": "IPY_MODEL_7b930b490c6048208d81048ae1f624ed",
            "value": 3132320
          }
        },
        "a8e275ca5d20454290fb4b227df0d8fa": {
          "model_module": "@jupyter-widgets/controls",
          "model_module_version": "1.5.0",
          "model_name": "DescriptionStyleModel",
          "state": {
            "_model_module": "@jupyter-widgets/controls",
            "_model_module_version": "1.5.0",
            "_model_name": "DescriptionStyleModel",
            "_view_count": null,
            "_view_module": "@jupyter-widgets/base",
            "_view_module_version": "1.2.0",
            "_view_name": "StyleView",
            "description_width": ""
          }
        },
        "ab8ce04af0d74e0a8a3dc673d8c09ac4": {
          "model_module": "@jupyter-widgets/controls",
          "model_module_version": "1.5.0",
          "model_name": "DescriptionStyleModel",
          "state": {
            "_model_module": "@jupyter-widgets/controls",
            "_model_module_version": "1.5.0",
            "_model_name": "DescriptionStyleModel",
            "_view_count": null,
            "_view_module": "@jupyter-widgets/base",
            "_view_module_version": "1.2.0",
            "_view_name": "StyleView",
            "description_width": ""
          }
        },
        "b1067bd7e70246bfb7c566f02a4a01ed": {
          "model_module": "@jupyter-widgets/controls",
          "model_module_version": "1.5.0",
          "model_name": "FloatProgressModel",
          "state": {
            "_dom_classes": [],
            "_model_module": "@jupyter-widgets/controls",
            "_model_module_version": "1.5.0",
            "_model_name": "FloatProgressModel",
            "_view_count": null,
            "_view_module": "@jupyter-widgets/controls",
            "_view_module_version": "1.5.0",
            "_view_name": "ProgressView",
            "bar_style": "success",
            "description": "",
            "description_tooltip": null,
            "layout": "IPY_MODEL_6fc7a2f283f74be6a52caf97473cd4a4",
            "max": 895321,
            "min": 0,
            "orientation": "horizontal",
            "style": "IPY_MODEL_fbd5a5a708b444b09410813c2ff2a3cd",
            "value": 895321
          }
        },
        "b43c9360d9774281beaeeecfc89ec00d": {
          "model_module": "@jupyter-widgets/controls",
          "model_module_version": "1.5.0",
          "model_name": "DescriptionStyleModel",
          "state": {
            "_model_module": "@jupyter-widgets/controls",
            "_model_module_version": "1.5.0",
            "_model_name": "DescriptionStyleModel",
            "_view_count": null,
            "_view_module": "@jupyter-widgets/base",
            "_view_module_version": "1.2.0",
            "_view_name": "StyleView",
            "description_width": ""
          }
        },
        "b5df0102b52940ef9990ad766ab38b7f": {
          "model_module": "@jupyter-widgets/controls",
          "model_module_version": "1.5.0",
          "model_name": "FloatProgressModel",
          "state": {
            "_dom_classes": [],
            "_model_module": "@jupyter-widgets/controls",
            "_model_module_version": "1.5.0",
            "_model_name": "FloatProgressModel",
            "_view_count": null,
            "_view_module": "@jupyter-widgets/controls",
            "_view_module_version": "1.5.0",
            "_view_name": "ProgressView",
            "bar_style": "success",
            "description": "",
            "description_tooltip": null,
            "layout": "IPY_MODEL_f1e8e0f8381e4b058aed8c3f5c734508",
            "max": 540322347,
            "min": 0,
            "orientation": "horizontal",
            "style": "IPY_MODEL_53001c4fceb24b6c8685c8f6457a52df",
            "value": 540322347
          }
        },
        "b724e1c96d484493bf2dcb20d763413b": {
          "model_module": "@jupyter-widgets/controls",
          "model_module_version": "1.5.0",
          "model_name": "DescriptionStyleModel",
          "state": {
            "_model_module": "@jupyter-widgets/controls",
            "_model_module_version": "1.5.0",
            "_model_name": "DescriptionStyleModel",
            "_view_count": null,
            "_view_module": "@jupyter-widgets/base",
            "_view_module_version": "1.2.0",
            "_view_name": "StyleView",
            "description_width": ""
          }
        },
        "baebbb54c0f04095b7d0fe89d2f9e0fc": {
          "model_module": "@jupyter-widgets/controls",
          "model_module_version": "1.5.0",
          "model_name": "HBoxModel",
          "state": {
            "_dom_classes": [],
            "_model_module": "@jupyter-widgets/controls",
            "_model_module_version": "1.5.0",
            "_model_name": "HBoxModel",
            "_view_count": null,
            "_view_module": "@jupyter-widgets/controls",
            "_view_module_version": "1.5.0",
            "_view_name": "HBoxView",
            "box_style": "",
            "children": [
              "IPY_MODEL_c00e0f5b2afa4e5da15056295f28879a",
              "IPY_MODEL_43af5e2c0860458fabc72918dbaefbe0",
              "IPY_MODEL_839dbcaf318044a1a91ff0d141c65618"
            ],
            "layout": "IPY_MODEL_7b80a3b039da47108ca649279f4f1979"
          }
        },
        "c00e0f5b2afa4e5da15056295f28879a": {
          "model_module": "@jupyter-widgets/controls",
          "model_module_version": "1.5.0",
          "model_name": "HTMLModel",
          "state": {
            "_dom_classes": [],
            "_model_module": "@jupyter-widgets/controls",
            "_model_module_version": "1.5.0",
            "_model_name": "HTMLModel",
            "_view_count": null,
            "_view_module": "@jupyter-widgets/controls",
            "_view_module_version": "1.5.0",
            "_view_name": "HTMLView",
            "description": "",
            "description_tooltip": null,
            "layout": "IPY_MODEL_e777ac16f5d04ef3bd6b9a80de49390d",
            "placeholder": "​",
            "style": "IPY_MODEL_ab8ce04af0d74e0a8a3dc673d8c09ac4",
            "value": "config.json: 100%"
          }
        },
        "c33a7c45eb2b40819f319482f829ca16": {
          "model_module": "@jupyter-widgets/base",
          "model_module_version": "1.2.0",
          "model_name": "LayoutModel",
          "state": {
            "_model_module": "@jupyter-widgets/base",
            "_model_module_version": "1.2.0",
            "_model_name": "LayoutModel",
            "_view_count": null,
            "_view_module": "@jupyter-widgets/base",
            "_view_module_version": "1.2.0",
            "_view_name": "LayoutView",
            "align_content": null,
            "align_items": null,
            "align_self": null,
            "border": null,
            "bottom": null,
            "display": null,
            "flex": null,
            "flex_flow": null,
            "grid_area": null,
            "grid_auto_columns": null,
            "grid_auto_flow": null,
            "grid_auto_rows": null,
            "grid_column": null,
            "grid_gap": null,
            "grid_row": null,
            "grid_template_areas": null,
            "grid_template_columns": null,
            "grid_template_rows": null,
            "height": null,
            "justify_content": null,
            "justify_items": null,
            "left": null,
            "margin": null,
            "max_height": null,
            "max_width": null,
            "min_height": null,
            "min_width": null,
            "object_fit": null,
            "object_position": null,
            "order": null,
            "overflow": null,
            "overflow_x": null,
            "overflow_y": null,
            "padding": null,
            "right": null,
            "top": null,
            "visibility": null,
            "width": null
          }
        },
        "c62e9a5a18294e119f138ca1dc67bc43": {
          "model_module": "@jupyter-widgets/controls",
          "model_module_version": "1.5.0",
          "model_name": "HTMLModel",
          "state": {
            "_dom_classes": [],
            "_model_module": "@jupyter-widgets/controls",
            "_model_module_version": "1.5.0",
            "_model_name": "HTMLModel",
            "_view_count": null,
            "_view_module": "@jupyter-widgets/controls",
            "_view_module_version": "1.5.0",
            "_view_name": "HTMLView",
            "description": "",
            "description_tooltip": null,
            "layout": "IPY_MODEL_f6c540e350e64552bff17ac35c55dd1d",
            "placeholder": "​",
            "style": "IPY_MODEL_713a8372d14e49418caeca871e41476d",
            "value": "pytorch_model.bin: 100%"
          }
        },
        "c663589e87ba4cfb8ec2318a719f9a34": {
          "model_module": "@jupyter-widgets/controls",
          "model_module_version": "1.5.0",
          "model_name": "ProgressStyleModel",
          "state": {
            "_model_module": "@jupyter-widgets/controls",
            "_model_module_version": "1.5.0",
            "_model_name": "ProgressStyleModel",
            "_view_count": null,
            "_view_module": "@jupyter-widgets/base",
            "_view_module_version": "1.2.0",
            "_view_name": "StyleView",
            "bar_color": null,
            "description_width": ""
          }
        },
        "cca6f3f86ea149be8d0160ac1da2701e": {
          "model_module": "@jupyter-widgets/controls",
          "model_module_version": "1.5.0",
          "model_name": "DescriptionStyleModel",
          "state": {
            "_model_module": "@jupyter-widgets/controls",
            "_model_module_version": "1.5.0",
            "_model_name": "DescriptionStyleModel",
            "_view_count": null,
            "_view_module": "@jupyter-widgets/base",
            "_view_module_version": "1.2.0",
            "_view_name": "StyleView",
            "description_width": ""
          }
        },
        "d1842bb6b0324c1d905e20e9d78e59a3": {
          "model_module": "@jupyter-widgets/controls",
          "model_module_version": "1.5.0",
          "model_name": "FloatProgressModel",
          "state": {
            "_dom_classes": [],
            "_model_module": "@jupyter-widgets/controls",
            "_model_module_version": "1.5.0",
            "_model_name": "FloatProgressModel",
            "_view_count": null,
            "_view_module": "@jupyter-widgets/controls",
            "_view_module_version": "1.5.0",
            "_view_name": "ProgressView",
            "bar_style": "success",
            "description": "",
            "description_tooltip": null,
            "layout": "IPY_MODEL_7a59cc96e46e44d7a4588161f8586c13",
            "max": 1135173,
            "min": 0,
            "orientation": "horizontal",
            "style": "IPY_MODEL_45d4070a7e1a49b68ab2535b83b1f7c4",
            "value": 1135173
          }
        },
        "d41de0dfb65a47bd8f74a2e6a74a7283": {
          "model_module": "@jupyter-widgets/base",
          "model_module_version": "1.2.0",
          "model_name": "LayoutModel",
          "state": {
            "_model_module": "@jupyter-widgets/base",
            "_model_module_version": "1.2.0",
            "_model_name": "LayoutModel",
            "_view_count": null,
            "_view_module": "@jupyter-widgets/base",
            "_view_module_version": "1.2.0",
            "_view_name": "LayoutView",
            "align_content": null,
            "align_items": null,
            "align_self": null,
            "border": null,
            "bottom": null,
            "display": null,
            "flex": null,
            "flex_flow": null,
            "grid_area": null,
            "grid_auto_columns": null,
            "grid_auto_flow": null,
            "grid_auto_rows": null,
            "grid_column": null,
            "grid_gap": null,
            "grid_row": null,
            "grid_template_areas": null,
            "grid_template_columns": null,
            "grid_template_rows": null,
            "height": null,
            "justify_content": null,
            "justify_items": null,
            "left": null,
            "margin": null,
            "max_height": null,
            "max_width": null,
            "min_height": null,
            "min_width": null,
            "object_fit": null,
            "object_position": null,
            "order": null,
            "overflow": null,
            "overflow_x": null,
            "overflow_y": null,
            "padding": null,
            "right": null,
            "top": null,
            "visibility": null,
            "width": null
          }
        },
        "dd535ed8c74d49aabfb6b30d9104a5ad": {
          "model_module": "@jupyter-widgets/base",
          "model_module_version": "1.2.0",
          "model_name": "LayoutModel",
          "state": {
            "_model_module": "@jupyter-widgets/base",
            "_model_module_version": "1.2.0",
            "_model_name": "LayoutModel",
            "_view_count": null,
            "_view_module": "@jupyter-widgets/base",
            "_view_module_version": "1.2.0",
            "_view_name": "LayoutView",
            "align_content": null,
            "align_items": null,
            "align_self": null,
            "border": null,
            "bottom": null,
            "display": null,
            "flex": null,
            "flex_flow": null,
            "grid_area": null,
            "grid_auto_columns": null,
            "grid_auto_flow": null,
            "grid_auto_rows": null,
            "grid_column": null,
            "grid_gap": null,
            "grid_row": null,
            "grid_template_areas": null,
            "grid_template_columns": null,
            "grid_template_rows": null,
            "height": null,
            "justify_content": null,
            "justify_items": null,
            "left": null,
            "margin": null,
            "max_height": null,
            "max_width": null,
            "min_height": null,
            "min_width": null,
            "object_fit": null,
            "object_position": null,
            "order": null,
            "overflow": null,
            "overflow_x": null,
            "overflow_y": null,
            "padding": null,
            "right": null,
            "top": null,
            "visibility": null,
            "width": null
          }
        },
        "e777ac16f5d04ef3bd6b9a80de49390d": {
          "model_module": "@jupyter-widgets/base",
          "model_module_version": "1.2.0",
          "model_name": "LayoutModel",
          "state": {
            "_model_module": "@jupyter-widgets/base",
            "_model_module_version": "1.2.0",
            "_model_name": "LayoutModel",
            "_view_count": null,
            "_view_module": "@jupyter-widgets/base",
            "_view_module_version": "1.2.0",
            "_view_name": "LayoutView",
            "align_content": null,
            "align_items": null,
            "align_self": null,
            "border": null,
            "bottom": null,
            "display": null,
            "flex": null,
            "flex_flow": null,
            "grid_area": null,
            "grid_auto_columns": null,
            "grid_auto_flow": null,
            "grid_auto_rows": null,
            "grid_column": null,
            "grid_gap": null,
            "grid_row": null,
            "grid_template_areas": null,
            "grid_template_columns": null,
            "grid_template_rows": null,
            "height": null,
            "justify_content": null,
            "justify_items": null,
            "left": null,
            "margin": null,
            "max_height": null,
            "max_width": null,
            "min_height": null,
            "min_width": null,
            "object_fit": null,
            "object_position": null,
            "order": null,
            "overflow": null,
            "overflow_x": null,
            "overflow_y": null,
            "padding": null,
            "right": null,
            "top": null,
            "visibility": null,
            "width": null
          }
        },
        "f1e8e0f8381e4b058aed8c3f5c734508": {
          "model_module": "@jupyter-widgets/base",
          "model_module_version": "1.2.0",
          "model_name": "LayoutModel",
          "state": {
            "_model_module": "@jupyter-widgets/base",
            "_model_module_version": "1.2.0",
            "_model_name": "LayoutModel",
            "_view_count": null,
            "_view_module": "@jupyter-widgets/base",
            "_view_module_version": "1.2.0",
            "_view_name": "LayoutView",
            "align_content": null,
            "align_items": null,
            "align_self": null,
            "border": null,
            "bottom": null,
            "display": null,
            "flex": null,
            "flex_flow": null,
            "grid_area": null,
            "grid_auto_columns": null,
            "grid_auto_flow": null,
            "grid_auto_rows": null,
            "grid_column": null,
            "grid_gap": null,
            "grid_row": null,
            "grid_template_areas": null,
            "grid_template_columns": null,
            "grid_template_rows": null,
            "height": null,
            "justify_content": null,
            "justify_items": null,
            "left": null,
            "margin": null,
            "max_height": null,
            "max_width": null,
            "min_height": null,
            "min_width": null,
            "object_fit": null,
            "object_position": null,
            "order": null,
            "overflow": null,
            "overflow_x": null,
            "overflow_y": null,
            "padding": null,
            "right": null,
            "top": null,
            "visibility": null,
            "width": null
          }
        },
        "f38240d65cd34199b10458f6fec3a561": {
          "model_module": "@jupyter-widgets/controls",
          "model_module_version": "1.5.0",
          "model_name": "ProgressStyleModel",
          "state": {
            "_model_module": "@jupyter-widgets/controls",
            "_model_module_version": "1.5.0",
            "_model_name": "ProgressStyleModel",
            "_view_count": null,
            "_view_module": "@jupyter-widgets/base",
            "_view_module_version": "1.2.0",
            "_view_name": "StyleView",
            "bar_color": null,
            "description_width": ""
          }
        },
        "f6c540e350e64552bff17ac35c55dd1d": {
          "model_module": "@jupyter-widgets/base",
          "model_module_version": "1.2.0",
          "model_name": "LayoutModel",
          "state": {
            "_model_module": "@jupyter-widgets/base",
            "_model_module_version": "1.2.0",
            "_model_name": "LayoutModel",
            "_view_count": null,
            "_view_module": "@jupyter-widgets/base",
            "_view_module_version": "1.2.0",
            "_view_name": "LayoutView",
            "align_content": null,
            "align_items": null,
            "align_self": null,
            "border": null,
            "bottom": null,
            "display": null,
            "flex": null,
            "flex_flow": null,
            "grid_area": null,
            "grid_auto_columns": null,
            "grid_auto_flow": null,
            "grid_auto_rows": null,
            "grid_column": null,
            "grid_gap": null,
            "grid_row": null,
            "grid_template_areas": null,
            "grid_template_columns": null,
            "grid_template_rows": null,
            "height": null,
            "justify_content": null,
            "justify_items": null,
            "left": null,
            "margin": null,
            "max_height": null,
            "max_width": null,
            "min_height": null,
            "min_width": null,
            "object_fit": null,
            "object_position": null,
            "order": null,
            "overflow": null,
            "overflow_x": null,
            "overflow_y": null,
            "padding": null,
            "right": null,
            "top": null,
            "visibility": null,
            "width": null
          }
        },
        "f83d7cb64cd54cf9b6bf5c601e2fd3fc": {
          "model_module": "@jupyter-widgets/base",
          "model_module_version": "1.2.0",
          "model_name": "LayoutModel",
          "state": {
            "_model_module": "@jupyter-widgets/base",
            "_model_module_version": "1.2.0",
            "_model_name": "LayoutModel",
            "_view_count": null,
            "_view_module": "@jupyter-widgets/base",
            "_view_module_version": "1.2.0",
            "_view_name": "LayoutView",
            "align_content": null,
            "align_items": null,
            "align_self": null,
            "border": null,
            "bottom": null,
            "display": null,
            "flex": null,
            "flex_flow": null,
            "grid_area": null,
            "grid_auto_columns": null,
            "grid_auto_flow": null,
            "grid_auto_rows": null,
            "grid_column": null,
            "grid_gap": null,
            "grid_row": null,
            "grid_template_areas": null,
            "grid_template_columns": null,
            "grid_template_rows": null,
            "height": null,
            "justify_content": null,
            "justify_items": null,
            "left": null,
            "margin": null,
            "max_height": null,
            "max_width": null,
            "min_height": null,
            "min_width": null,
            "object_fit": null,
            "object_position": null,
            "order": null,
            "overflow": null,
            "overflow_x": null,
            "overflow_y": null,
            "padding": null,
            "right": null,
            "top": null,
            "visibility": null,
            "width": null
          }
        },
        "fbd5a5a708b444b09410813c2ff2a3cd": {
          "model_module": "@jupyter-widgets/controls",
          "model_module_version": "1.5.0",
          "model_name": "ProgressStyleModel",
          "state": {
            "_model_module": "@jupyter-widgets/controls",
            "_model_module_version": "1.5.0",
            "_model_name": "ProgressStyleModel",
            "_view_count": null,
            "_view_module": "@jupyter-widgets/base",
            "_view_module_version": "1.2.0",
            "_view_name": "StyleView",
            "bar_color": null,
            "description_width": ""
          }
        }
      }
    }
  },
  "nbformat": 4,
  "nbformat_minor": 0
}
